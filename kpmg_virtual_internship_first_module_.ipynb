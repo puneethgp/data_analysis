{
  "nbformat": 4,
  "nbformat_minor": 5,
  "metadata": {
    "kernelspec": {
      "display_name": "Python 3",
      "language": "python",
      "name": "python3"
    },
    "language_info": {
      "codemirror_mode": {
        "name": "ipython",
        "version": 3
      },
      "file_extension": ".py",
      "mimetype": "text/x-python",
      "name": "python",
      "nbconvert_exporter": "python",
      "pygments_lexer": "ipython3",
      "version": "3.9.1"
    },
    "colab": {
      "name": "kpmg virtual internship first module .ipynb",
      "provenance": [],
      "toc_visible": true,
      "include_colab_link": true
    }
  },
  "cells": [
    {
      "cell_type": "markdown",
      "metadata": {
        "id": "view-in-github",
        "colab_type": "text"
      },
      "source": [
        "<a href=\"https://colab.research.google.com/github/puneethgp/data_analysis/blob/main/kpmg_virtual_internship_first_module_.ipynb\" target=\"_parent\"><img src=\"https://colab.research.google.com/assets/colab-badge.svg\" alt=\"Open In Colab\"/></a>"
      ]
    },
    {
      "cell_type": "markdown",
      "metadata": {
        "id": "8335b2fb"
      },
      "source": [
        "# ***Data Quality Assessment***"
      ],
      "id": "8335b2fb"
    },
    {
      "cell_type": "code",
      "metadata": {
        "id": "7b950322"
      },
      "source": [
        "import pandas as pd\n",
        "import numpy as np\n",
        "import matplotlib.pyplot as plt\n",
        "import seaborn as sns\n",
        "import datetime as dt"
      ],
      "id": "7b950322",
      "execution_count": 1,
      "outputs": []
    },
    {
      "cell_type": "markdown",
      "metadata": {
        "id": "312314f7"
      },
      "source": [
        "## **Transcation sheet**"
      ],
      "id": "312314f7"
    },
    {
      "cell_type": "code",
      "metadata": {
        "colab": {
          "base_uri": "https://localhost:8080/",
          "height": 0
        },
        "id": "2ac520a8",
        "outputId": "76e4a697-07f7-449a-fea7-eac6d29e7ddd"
      },
      "source": [
        "# this sheet contains multiple sheets so pass the sheet name argument to read excel \n",
        "tran_df = pd.read_excel(r\"/content/KPMG_VI_New_raw_data_update_final.xlsx\",sheet_name='Transactions')\n",
        "tran_df.head()"
      ],
      "id": "2ac520a8",
      "execution_count": 2,
      "outputs": [
        {
          "output_type": "execute_result",
          "data": {
            "text/html": [
              "<div>\n",
              "<style scoped>\n",
              "    .dataframe tbody tr th:only-of-type {\n",
              "        vertical-align: middle;\n",
              "    }\n",
              "\n",
              "    .dataframe tbody tr th {\n",
              "        vertical-align: top;\n",
              "    }\n",
              "\n",
              "    .dataframe thead th {\n",
              "        text-align: right;\n",
              "    }\n",
              "</style>\n",
              "<table border=\"1\" class=\"dataframe\">\n",
              "  <thead>\n",
              "    <tr style=\"text-align: right;\">\n",
              "      <th></th>\n",
              "      <th>Note: The data and information in this document is reflective of a hypothetical situation and client. This document is to be used for KPMG Virtual Internship purposes only.</th>\n",
              "      <th>Unnamed: 1</th>\n",
              "      <th>Unnamed: 2</th>\n",
              "      <th>Unnamed: 3</th>\n",
              "      <th>Unnamed: 4</th>\n",
              "      <th>Unnamed: 5</th>\n",
              "      <th>Unnamed: 6</th>\n",
              "      <th>Unnamed: 7</th>\n",
              "      <th>Unnamed: 8</th>\n",
              "      <th>Unnamed: 9</th>\n",
              "      <th>Unnamed: 10</th>\n",
              "      <th>Unnamed: 11</th>\n",
              "      <th>Unnamed: 12</th>\n",
              "    </tr>\n",
              "  </thead>\n",
              "  <tbody>\n",
              "    <tr>\n",
              "      <th>0</th>\n",
              "      <td>transaction_id</td>\n",
              "      <td>product_id</td>\n",
              "      <td>customer_id</td>\n",
              "      <td>transaction_date</td>\n",
              "      <td>online_order</td>\n",
              "      <td>order_status</td>\n",
              "      <td>brand</td>\n",
              "      <td>product_line</td>\n",
              "      <td>product_class</td>\n",
              "      <td>product_size</td>\n",
              "      <td>list_price</td>\n",
              "      <td>standard_cost</td>\n",
              "      <td>product_first_sold_date</td>\n",
              "    </tr>\n",
              "    <tr>\n",
              "      <th>1</th>\n",
              "      <td>1</td>\n",
              "      <td>2</td>\n",
              "      <td>2950</td>\n",
              "      <td>2017-02-25 00:00:00</td>\n",
              "      <td>False</td>\n",
              "      <td>Approved</td>\n",
              "      <td>Solex</td>\n",
              "      <td>Standard</td>\n",
              "      <td>medium</td>\n",
              "      <td>medium</td>\n",
              "      <td>71.49</td>\n",
              "      <td>53.62</td>\n",
              "      <td>41245</td>\n",
              "    </tr>\n",
              "    <tr>\n",
              "      <th>2</th>\n",
              "      <td>2</td>\n",
              "      <td>3</td>\n",
              "      <td>3120</td>\n",
              "      <td>2017-05-21 00:00:00</td>\n",
              "      <td>True</td>\n",
              "      <td>Approved</td>\n",
              "      <td>Trek Bicycles</td>\n",
              "      <td>Standard</td>\n",
              "      <td>medium</td>\n",
              "      <td>large</td>\n",
              "      <td>2091.47</td>\n",
              "      <td>388.92</td>\n",
              "      <td>41701</td>\n",
              "    </tr>\n",
              "    <tr>\n",
              "      <th>3</th>\n",
              "      <td>3</td>\n",
              "      <td>37</td>\n",
              "      <td>402</td>\n",
              "      <td>2017-10-16 00:00:00</td>\n",
              "      <td>False</td>\n",
              "      <td>Approved</td>\n",
              "      <td>OHM Cycles</td>\n",
              "      <td>Standard</td>\n",
              "      <td>low</td>\n",
              "      <td>medium</td>\n",
              "      <td>1793.43</td>\n",
              "      <td>248.82</td>\n",
              "      <td>36361</td>\n",
              "    </tr>\n",
              "    <tr>\n",
              "      <th>4</th>\n",
              "      <td>4</td>\n",
              "      <td>88</td>\n",
              "      <td>3135</td>\n",
              "      <td>2017-08-31 00:00:00</td>\n",
              "      <td>False</td>\n",
              "      <td>Approved</td>\n",
              "      <td>Norco Bicycles</td>\n",
              "      <td>Standard</td>\n",
              "      <td>medium</td>\n",
              "      <td>medium</td>\n",
              "      <td>1198.46</td>\n",
              "      <td>381.1</td>\n",
              "      <td>36145</td>\n",
              "    </tr>\n",
              "  </tbody>\n",
              "</table>\n",
              "</div>"
            ],
            "text/plain": [
              "  Note: The data and information in this document is reflective of a hypothetical situation and client. This document is to be used for KPMG Virtual Internship purposes only.   ...              Unnamed: 12\n",
              "0                                     transaction_id                                                                                                                             ...  product_first_sold_date\n",
              "1                                                  1                                                                                                                             ...                    41245\n",
              "2                                                  2                                                                                                                             ...                    41701\n",
              "3                                                  3                                                                                                                             ...                    36361\n",
              "4                                                  4                                                                                                                             ...                    36145\n",
              "\n",
              "[5 rows x 13 columns]"
            ]
          },
          "metadata": {},
          "execution_count": 2
        }
      ]
    },
    {
      "cell_type": "markdown",
      "metadata": {
        "id": "b8e73173"
      },
      "source": [
        "###  Fixing the header row ,index column and other columns"
      ],
      "id": "b8e73173"
    },
    {
      "cell_type": "code",
      "metadata": {
        "colab": {
          "base_uri": "https://localhost:8080/",
          "height": 0
        },
        "id": "7332871a",
        "outputId": "acd83885-d88b-4e61-c6ad-ca35deef72b9"
      },
      "source": [
        "# first should be column names for the dataset\n",
        "col = tran_df.loc[0]\n",
        "tran_df = tran_df[1:]\n",
        "tran_df.rename(columns=col,inplace=True)\n",
        "tran_df.head()"
      ],
      "id": "7332871a",
      "execution_count": 3,
      "outputs": [
        {
          "output_type": "execute_result",
          "data": {
            "text/html": [
              "<div>\n",
              "<style scoped>\n",
              "    .dataframe tbody tr th:only-of-type {\n",
              "        vertical-align: middle;\n",
              "    }\n",
              "\n",
              "    .dataframe tbody tr th {\n",
              "        vertical-align: top;\n",
              "    }\n",
              "\n",
              "    .dataframe thead th {\n",
              "        text-align: right;\n",
              "    }\n",
              "</style>\n",
              "<table border=\"1\" class=\"dataframe\">\n",
              "  <thead>\n",
              "    <tr style=\"text-align: right;\">\n",
              "      <th></th>\n",
              "      <th>transaction_id</th>\n",
              "      <th>product_id</th>\n",
              "      <th>customer_id</th>\n",
              "      <th>transaction_date</th>\n",
              "      <th>online_order</th>\n",
              "      <th>order_status</th>\n",
              "      <th>brand</th>\n",
              "      <th>product_line</th>\n",
              "      <th>product_class</th>\n",
              "      <th>product_size</th>\n",
              "      <th>list_price</th>\n",
              "      <th>standard_cost</th>\n",
              "      <th>product_first_sold_date</th>\n",
              "    </tr>\n",
              "  </thead>\n",
              "  <tbody>\n",
              "    <tr>\n",
              "      <th>1</th>\n",
              "      <td>1</td>\n",
              "      <td>2</td>\n",
              "      <td>2950</td>\n",
              "      <td>2017-02-25 00:00:00</td>\n",
              "      <td>False</td>\n",
              "      <td>Approved</td>\n",
              "      <td>Solex</td>\n",
              "      <td>Standard</td>\n",
              "      <td>medium</td>\n",
              "      <td>medium</td>\n",
              "      <td>71.49</td>\n",
              "      <td>53.62</td>\n",
              "      <td>41245</td>\n",
              "    </tr>\n",
              "    <tr>\n",
              "      <th>2</th>\n",
              "      <td>2</td>\n",
              "      <td>3</td>\n",
              "      <td>3120</td>\n",
              "      <td>2017-05-21 00:00:00</td>\n",
              "      <td>True</td>\n",
              "      <td>Approved</td>\n",
              "      <td>Trek Bicycles</td>\n",
              "      <td>Standard</td>\n",
              "      <td>medium</td>\n",
              "      <td>large</td>\n",
              "      <td>2091.47</td>\n",
              "      <td>388.92</td>\n",
              "      <td>41701</td>\n",
              "    </tr>\n",
              "    <tr>\n",
              "      <th>3</th>\n",
              "      <td>3</td>\n",
              "      <td>37</td>\n",
              "      <td>402</td>\n",
              "      <td>2017-10-16 00:00:00</td>\n",
              "      <td>False</td>\n",
              "      <td>Approved</td>\n",
              "      <td>OHM Cycles</td>\n",
              "      <td>Standard</td>\n",
              "      <td>low</td>\n",
              "      <td>medium</td>\n",
              "      <td>1793.43</td>\n",
              "      <td>248.82</td>\n",
              "      <td>36361</td>\n",
              "    </tr>\n",
              "    <tr>\n",
              "      <th>4</th>\n",
              "      <td>4</td>\n",
              "      <td>88</td>\n",
              "      <td>3135</td>\n",
              "      <td>2017-08-31 00:00:00</td>\n",
              "      <td>False</td>\n",
              "      <td>Approved</td>\n",
              "      <td>Norco Bicycles</td>\n",
              "      <td>Standard</td>\n",
              "      <td>medium</td>\n",
              "      <td>medium</td>\n",
              "      <td>1198.46</td>\n",
              "      <td>381.1</td>\n",
              "      <td>36145</td>\n",
              "    </tr>\n",
              "    <tr>\n",
              "      <th>5</th>\n",
              "      <td>5</td>\n",
              "      <td>78</td>\n",
              "      <td>787</td>\n",
              "      <td>2017-10-01 00:00:00</td>\n",
              "      <td>True</td>\n",
              "      <td>Approved</td>\n",
              "      <td>Giant Bicycles</td>\n",
              "      <td>Standard</td>\n",
              "      <td>medium</td>\n",
              "      <td>large</td>\n",
              "      <td>1765.3</td>\n",
              "      <td>709.48</td>\n",
              "      <td>42226</td>\n",
              "    </tr>\n",
              "  </tbody>\n",
              "</table>\n",
              "</div>"
            ],
            "text/plain": [
              "  transaction_id product_id  ... standard_cost product_first_sold_date\n",
              "1              1          2  ...         53.62                   41245\n",
              "2              2          3  ...        388.92                   41701\n",
              "3              3         37  ...        248.82                   36361\n",
              "4              4         88  ...         381.1                   36145\n",
              "5              5         78  ...        709.48                   42226\n",
              "\n",
              "[5 rows x 13 columns]"
            ]
          },
          "metadata": {},
          "execution_count": 3
        }
      ]
    },
    {
      "cell_type": "code",
      "metadata": {
        "scrolled": true,
        "colab": {
          "base_uri": "https://localhost:8080/",
          "height": 0
        },
        "id": "0988f7d0",
        "outputId": "ec5114fe-e442-49f7-b0cf-4e6f17083145"
      },
      "source": [
        "# out of 26 columns only 13 columns were useful so remove \n",
        "tran_df = tran_df.iloc[:,:13]\n",
        "tran_df.head()"
      ],
      "id": "0988f7d0",
      "execution_count": 4,
      "outputs": [
        {
          "output_type": "execute_result",
          "data": {
            "text/html": [
              "<div>\n",
              "<style scoped>\n",
              "    .dataframe tbody tr th:only-of-type {\n",
              "        vertical-align: middle;\n",
              "    }\n",
              "\n",
              "    .dataframe tbody tr th {\n",
              "        vertical-align: top;\n",
              "    }\n",
              "\n",
              "    .dataframe thead th {\n",
              "        text-align: right;\n",
              "    }\n",
              "</style>\n",
              "<table border=\"1\" class=\"dataframe\">\n",
              "  <thead>\n",
              "    <tr style=\"text-align: right;\">\n",
              "      <th></th>\n",
              "      <th>transaction_id</th>\n",
              "      <th>product_id</th>\n",
              "      <th>customer_id</th>\n",
              "      <th>transaction_date</th>\n",
              "      <th>online_order</th>\n",
              "      <th>order_status</th>\n",
              "      <th>brand</th>\n",
              "      <th>product_line</th>\n",
              "      <th>product_class</th>\n",
              "      <th>product_size</th>\n",
              "      <th>list_price</th>\n",
              "      <th>standard_cost</th>\n",
              "      <th>product_first_sold_date</th>\n",
              "    </tr>\n",
              "  </thead>\n",
              "  <tbody>\n",
              "    <tr>\n",
              "      <th>1</th>\n",
              "      <td>1</td>\n",
              "      <td>2</td>\n",
              "      <td>2950</td>\n",
              "      <td>2017-02-25 00:00:00</td>\n",
              "      <td>False</td>\n",
              "      <td>Approved</td>\n",
              "      <td>Solex</td>\n",
              "      <td>Standard</td>\n",
              "      <td>medium</td>\n",
              "      <td>medium</td>\n",
              "      <td>71.49</td>\n",
              "      <td>53.62</td>\n",
              "      <td>41245</td>\n",
              "    </tr>\n",
              "    <tr>\n",
              "      <th>2</th>\n",
              "      <td>2</td>\n",
              "      <td>3</td>\n",
              "      <td>3120</td>\n",
              "      <td>2017-05-21 00:00:00</td>\n",
              "      <td>True</td>\n",
              "      <td>Approved</td>\n",
              "      <td>Trek Bicycles</td>\n",
              "      <td>Standard</td>\n",
              "      <td>medium</td>\n",
              "      <td>large</td>\n",
              "      <td>2091.47</td>\n",
              "      <td>388.92</td>\n",
              "      <td>41701</td>\n",
              "    </tr>\n",
              "    <tr>\n",
              "      <th>3</th>\n",
              "      <td>3</td>\n",
              "      <td>37</td>\n",
              "      <td>402</td>\n",
              "      <td>2017-10-16 00:00:00</td>\n",
              "      <td>False</td>\n",
              "      <td>Approved</td>\n",
              "      <td>OHM Cycles</td>\n",
              "      <td>Standard</td>\n",
              "      <td>low</td>\n",
              "      <td>medium</td>\n",
              "      <td>1793.43</td>\n",
              "      <td>248.82</td>\n",
              "      <td>36361</td>\n",
              "    </tr>\n",
              "    <tr>\n",
              "      <th>4</th>\n",
              "      <td>4</td>\n",
              "      <td>88</td>\n",
              "      <td>3135</td>\n",
              "      <td>2017-08-31 00:00:00</td>\n",
              "      <td>False</td>\n",
              "      <td>Approved</td>\n",
              "      <td>Norco Bicycles</td>\n",
              "      <td>Standard</td>\n",
              "      <td>medium</td>\n",
              "      <td>medium</td>\n",
              "      <td>1198.46</td>\n",
              "      <td>381.1</td>\n",
              "      <td>36145</td>\n",
              "    </tr>\n",
              "    <tr>\n",
              "      <th>5</th>\n",
              "      <td>5</td>\n",
              "      <td>78</td>\n",
              "      <td>787</td>\n",
              "      <td>2017-10-01 00:00:00</td>\n",
              "      <td>True</td>\n",
              "      <td>Approved</td>\n",
              "      <td>Giant Bicycles</td>\n",
              "      <td>Standard</td>\n",
              "      <td>medium</td>\n",
              "      <td>large</td>\n",
              "      <td>1765.3</td>\n",
              "      <td>709.48</td>\n",
              "      <td>42226</td>\n",
              "    </tr>\n",
              "  </tbody>\n",
              "</table>\n",
              "</div>"
            ],
            "text/plain": [
              "  transaction_id product_id  ... standard_cost product_first_sold_date\n",
              "1              1          2  ...         53.62                   41245\n",
              "2              2          3  ...        388.92                   41701\n",
              "3              3         37  ...        248.82                   36361\n",
              "4              4         88  ...         381.1                   36145\n",
              "5              5         78  ...        709.48                   42226\n",
              "\n",
              "[5 rows x 13 columns]"
            ]
          },
          "metadata": {},
          "execution_count": 4
        }
      ]
    },
    {
      "cell_type": "code",
      "metadata": {
        "colab": {
          "base_uri": "https://localhost:8080/",
          "height": 0
        },
        "id": "e7e0aa98",
        "outputId": "f5c91325-4899-4bac-87b0-7a05e89f0b76"
      },
      "source": [
        "# setting transaction id as index\n",
        "tran_df.set_index('transaction_id',inplace = True)\n",
        "tran_df.head()"
      ],
      "id": "e7e0aa98",
      "execution_count": 5,
      "outputs": [
        {
          "output_type": "execute_result",
          "data": {
            "text/html": [
              "<div>\n",
              "<style scoped>\n",
              "    .dataframe tbody tr th:only-of-type {\n",
              "        vertical-align: middle;\n",
              "    }\n",
              "\n",
              "    .dataframe tbody tr th {\n",
              "        vertical-align: top;\n",
              "    }\n",
              "\n",
              "    .dataframe thead th {\n",
              "        text-align: right;\n",
              "    }\n",
              "</style>\n",
              "<table border=\"1\" class=\"dataframe\">\n",
              "  <thead>\n",
              "    <tr style=\"text-align: right;\">\n",
              "      <th></th>\n",
              "      <th>product_id</th>\n",
              "      <th>customer_id</th>\n",
              "      <th>transaction_date</th>\n",
              "      <th>online_order</th>\n",
              "      <th>order_status</th>\n",
              "      <th>brand</th>\n",
              "      <th>product_line</th>\n",
              "      <th>product_class</th>\n",
              "      <th>product_size</th>\n",
              "      <th>list_price</th>\n",
              "      <th>standard_cost</th>\n",
              "      <th>product_first_sold_date</th>\n",
              "    </tr>\n",
              "    <tr>\n",
              "      <th>transaction_id</th>\n",
              "      <th></th>\n",
              "      <th></th>\n",
              "      <th></th>\n",
              "      <th></th>\n",
              "      <th></th>\n",
              "      <th></th>\n",
              "      <th></th>\n",
              "      <th></th>\n",
              "      <th></th>\n",
              "      <th></th>\n",
              "      <th></th>\n",
              "      <th></th>\n",
              "    </tr>\n",
              "  </thead>\n",
              "  <tbody>\n",
              "    <tr>\n",
              "      <th>1</th>\n",
              "      <td>2</td>\n",
              "      <td>2950</td>\n",
              "      <td>2017-02-25 00:00:00</td>\n",
              "      <td>False</td>\n",
              "      <td>Approved</td>\n",
              "      <td>Solex</td>\n",
              "      <td>Standard</td>\n",
              "      <td>medium</td>\n",
              "      <td>medium</td>\n",
              "      <td>71.49</td>\n",
              "      <td>53.62</td>\n",
              "      <td>41245</td>\n",
              "    </tr>\n",
              "    <tr>\n",
              "      <th>2</th>\n",
              "      <td>3</td>\n",
              "      <td>3120</td>\n",
              "      <td>2017-05-21 00:00:00</td>\n",
              "      <td>True</td>\n",
              "      <td>Approved</td>\n",
              "      <td>Trek Bicycles</td>\n",
              "      <td>Standard</td>\n",
              "      <td>medium</td>\n",
              "      <td>large</td>\n",
              "      <td>2091.47</td>\n",
              "      <td>388.92</td>\n",
              "      <td>41701</td>\n",
              "    </tr>\n",
              "    <tr>\n",
              "      <th>3</th>\n",
              "      <td>37</td>\n",
              "      <td>402</td>\n",
              "      <td>2017-10-16 00:00:00</td>\n",
              "      <td>False</td>\n",
              "      <td>Approved</td>\n",
              "      <td>OHM Cycles</td>\n",
              "      <td>Standard</td>\n",
              "      <td>low</td>\n",
              "      <td>medium</td>\n",
              "      <td>1793.43</td>\n",
              "      <td>248.82</td>\n",
              "      <td>36361</td>\n",
              "    </tr>\n",
              "    <tr>\n",
              "      <th>4</th>\n",
              "      <td>88</td>\n",
              "      <td>3135</td>\n",
              "      <td>2017-08-31 00:00:00</td>\n",
              "      <td>False</td>\n",
              "      <td>Approved</td>\n",
              "      <td>Norco Bicycles</td>\n",
              "      <td>Standard</td>\n",
              "      <td>medium</td>\n",
              "      <td>medium</td>\n",
              "      <td>1198.46</td>\n",
              "      <td>381.1</td>\n",
              "      <td>36145</td>\n",
              "    </tr>\n",
              "    <tr>\n",
              "      <th>5</th>\n",
              "      <td>78</td>\n",
              "      <td>787</td>\n",
              "      <td>2017-10-01 00:00:00</td>\n",
              "      <td>True</td>\n",
              "      <td>Approved</td>\n",
              "      <td>Giant Bicycles</td>\n",
              "      <td>Standard</td>\n",
              "      <td>medium</td>\n",
              "      <td>large</td>\n",
              "      <td>1765.3</td>\n",
              "      <td>709.48</td>\n",
              "      <td>42226</td>\n",
              "    </tr>\n",
              "  </tbody>\n",
              "</table>\n",
              "</div>"
            ],
            "text/plain": [
              "               product_id customer_id  ... standard_cost product_first_sold_date\n",
              "transaction_id                         ...                                      \n",
              "1                       2        2950  ...         53.62                   41245\n",
              "2                       3        3120  ...        388.92                   41701\n",
              "3                      37         402  ...        248.82                   36361\n",
              "4                      88        3135  ...         381.1                   36145\n",
              "5                      78         787  ...        709.48                   42226\n",
              "\n",
              "[5 rows x 12 columns]"
            ]
          },
          "metadata": {},
          "execution_count": 5
        }
      ]
    },
    {
      "cell_type": "markdown",
      "metadata": {
        "id": "5524e755"
      },
      "source": [
        "### Applying transformation of columns"
      ],
      "id": "5524e755"
    },
    {
      "cell_type": "code",
      "metadata": {
        "colab": {
          "base_uri": "https://localhost:8080/"
        },
        "id": "6ff6368b",
        "outputId": "3686afa7-687e-4a27-91b2-8807026f97b8"
      },
      "source": [
        "tran_df.dtypes"
      ],
      "id": "6ff6368b",
      "execution_count": 6,
      "outputs": [
        {
          "output_type": "execute_result",
          "data": {
            "text/plain": [
              "product_id                 object\n",
              "customer_id                object\n",
              "transaction_date           object\n",
              "online_order               object\n",
              "order_status               object\n",
              "brand                      object\n",
              "product_line               object\n",
              "product_class              object\n",
              "product_size               object\n",
              "list_price                 object\n",
              "standard_cost              object\n",
              "product_first_sold_date    object\n",
              "dtype: object"
            ]
          },
          "metadata": {},
          "execution_count": 6
        }
      ]
    },
    {
      "cell_type": "markdown",
      "metadata": {
        "id": "1bee70a1"
      },
      "source": [
        "#### converting date time columns \n",
        "making changes in timestamps and other date columns"
      ],
      "id": "1bee70a1"
    },
    {
      "cell_type": "code",
      "metadata": {
        "id": "eb8e4070"
      },
      "source": [
        "# we see transaction_date column as object dtype, we will change it to datetime dtype\n",
        "tran_df.transaction_date = pd.to_datetime(tran_df.transaction_date)\n",
        "\n",
        "#product first_sold_date is a timestamp in object dtype\n",
        "tran_df.product_first_sold_date = pd.to_datetime(tran_df.product_first_sold_date,unit = 's')"
      ],
      "id": "eb8e4070",
      "execution_count": 7,
      "outputs": []
    },
    {
      "cell_type": "code",
      "metadata": {
        "id": "1ec6d342"
      },
      "source": [
        "#changing dtypes for few columns\n",
        "tran_df = tran_df.astype({'product_id':int,\"customer_id\":int,'list_price':float,\"standard_cost\":float,'online_order':bool,'list_price':float})"
      ],
      "id": "1ec6d342",
      "execution_count": 8,
      "outputs": []
    },
    {
      "cell_type": "code",
      "metadata": {
        "colab": {
          "base_uri": "https://localhost:8080/"
        },
        "id": "b9891d2e",
        "outputId": "4081cc47-5748-456a-817b-04afc607610f"
      },
      "source": [
        "tran_df.dtypes"
      ],
      "id": "b9891d2e",
      "execution_count": 9,
      "outputs": [
        {
          "output_type": "execute_result",
          "data": {
            "text/plain": [
              "product_id                          int64\n",
              "customer_id                         int64\n",
              "transaction_date           datetime64[ns]\n",
              "online_order                         bool\n",
              "order_status                       object\n",
              "brand                              object\n",
              "product_line                       object\n",
              "product_class                      object\n",
              "product_size                       object\n",
              "list_price                        float64\n",
              "standard_cost                     float64\n",
              "product_first_sold_date    datetime64[ns]\n",
              "dtype: object"
            ]
          },
          "metadata": {},
          "execution_count": 9
        }
      ]
    },
    {
      "cell_type": "code",
      "metadata": {
        "colab": {
          "base_uri": "https://localhost:8080/",
          "height": 0
        },
        "id": "2f5b75b2",
        "outputId": "82a05870-d188-4b1c-869f-319832434f77"
      },
      "source": [
        "tran_df.head()"
      ],
      "id": "2f5b75b2",
      "execution_count": 10,
      "outputs": [
        {
          "output_type": "execute_result",
          "data": {
            "text/html": [
              "<div>\n",
              "<style scoped>\n",
              "    .dataframe tbody tr th:only-of-type {\n",
              "        vertical-align: middle;\n",
              "    }\n",
              "\n",
              "    .dataframe tbody tr th {\n",
              "        vertical-align: top;\n",
              "    }\n",
              "\n",
              "    .dataframe thead th {\n",
              "        text-align: right;\n",
              "    }\n",
              "</style>\n",
              "<table border=\"1\" class=\"dataframe\">\n",
              "  <thead>\n",
              "    <tr style=\"text-align: right;\">\n",
              "      <th></th>\n",
              "      <th>product_id</th>\n",
              "      <th>customer_id</th>\n",
              "      <th>transaction_date</th>\n",
              "      <th>online_order</th>\n",
              "      <th>order_status</th>\n",
              "      <th>brand</th>\n",
              "      <th>product_line</th>\n",
              "      <th>product_class</th>\n",
              "      <th>product_size</th>\n",
              "      <th>list_price</th>\n",
              "      <th>standard_cost</th>\n",
              "      <th>product_first_sold_date</th>\n",
              "    </tr>\n",
              "    <tr>\n",
              "      <th>transaction_id</th>\n",
              "      <th></th>\n",
              "      <th></th>\n",
              "      <th></th>\n",
              "      <th></th>\n",
              "      <th></th>\n",
              "      <th></th>\n",
              "      <th></th>\n",
              "      <th></th>\n",
              "      <th></th>\n",
              "      <th></th>\n",
              "      <th></th>\n",
              "      <th></th>\n",
              "    </tr>\n",
              "  </thead>\n",
              "  <tbody>\n",
              "    <tr>\n",
              "      <th>1</th>\n",
              "      <td>2</td>\n",
              "      <td>2950</td>\n",
              "      <td>2017-02-25</td>\n",
              "      <td>False</td>\n",
              "      <td>Approved</td>\n",
              "      <td>Solex</td>\n",
              "      <td>Standard</td>\n",
              "      <td>medium</td>\n",
              "      <td>medium</td>\n",
              "      <td>71.49</td>\n",
              "      <td>53.62</td>\n",
              "      <td>1970-01-01 11:27:25</td>\n",
              "    </tr>\n",
              "    <tr>\n",
              "      <th>2</th>\n",
              "      <td>3</td>\n",
              "      <td>3120</td>\n",
              "      <td>2017-05-21</td>\n",
              "      <td>True</td>\n",
              "      <td>Approved</td>\n",
              "      <td>Trek Bicycles</td>\n",
              "      <td>Standard</td>\n",
              "      <td>medium</td>\n",
              "      <td>large</td>\n",
              "      <td>2091.47</td>\n",
              "      <td>388.92</td>\n",
              "      <td>1970-01-01 11:35:01</td>\n",
              "    </tr>\n",
              "    <tr>\n",
              "      <th>3</th>\n",
              "      <td>37</td>\n",
              "      <td>402</td>\n",
              "      <td>2017-10-16</td>\n",
              "      <td>False</td>\n",
              "      <td>Approved</td>\n",
              "      <td>OHM Cycles</td>\n",
              "      <td>Standard</td>\n",
              "      <td>low</td>\n",
              "      <td>medium</td>\n",
              "      <td>1793.43</td>\n",
              "      <td>248.82</td>\n",
              "      <td>1970-01-01 10:06:01</td>\n",
              "    </tr>\n",
              "    <tr>\n",
              "      <th>4</th>\n",
              "      <td>88</td>\n",
              "      <td>3135</td>\n",
              "      <td>2017-08-31</td>\n",
              "      <td>False</td>\n",
              "      <td>Approved</td>\n",
              "      <td>Norco Bicycles</td>\n",
              "      <td>Standard</td>\n",
              "      <td>medium</td>\n",
              "      <td>medium</td>\n",
              "      <td>1198.46</td>\n",
              "      <td>381.10</td>\n",
              "      <td>1970-01-01 10:02:25</td>\n",
              "    </tr>\n",
              "    <tr>\n",
              "      <th>5</th>\n",
              "      <td>78</td>\n",
              "      <td>787</td>\n",
              "      <td>2017-10-01</td>\n",
              "      <td>True</td>\n",
              "      <td>Approved</td>\n",
              "      <td>Giant Bicycles</td>\n",
              "      <td>Standard</td>\n",
              "      <td>medium</td>\n",
              "      <td>large</td>\n",
              "      <td>1765.30</td>\n",
              "      <td>709.48</td>\n",
              "      <td>1970-01-01 11:43:46</td>\n",
              "    </tr>\n",
              "  </tbody>\n",
              "</table>\n",
              "</div>"
            ],
            "text/plain": [
              "                product_id  customer_id  ... standard_cost  product_first_sold_date\n",
              "transaction_id                           ...                                       \n",
              "1                        2         2950  ...         53.62      1970-01-01 11:27:25\n",
              "2                        3         3120  ...        388.92      1970-01-01 11:35:01\n",
              "3                       37          402  ...        248.82      1970-01-01 10:06:01\n",
              "4                       88         3135  ...        381.10      1970-01-01 10:02:25\n",
              "5                       78          787  ...        709.48      1970-01-01 11:43:46\n",
              "\n",
              "[5 rows x 12 columns]"
            ]
          },
          "metadata": {},
          "execution_count": 10
        }
      ]
    },
    {
      "cell_type": "code",
      "metadata": {
        "colab": {
          "base_uri": "https://localhost:8080/",
          "height": 0
        },
        "id": "cfe33f9d",
        "outputId": "339fd92e-a589-420a-d72b-08004415192a"
      },
      "source": [
        "tran_df.describe()"
      ],
      "id": "cfe33f9d",
      "execution_count": 11,
      "outputs": [
        {
          "output_type": "execute_result",
          "data": {
            "text/html": [
              "<div>\n",
              "<style scoped>\n",
              "    .dataframe tbody tr th:only-of-type {\n",
              "        vertical-align: middle;\n",
              "    }\n",
              "\n",
              "    .dataframe tbody tr th {\n",
              "        vertical-align: top;\n",
              "    }\n",
              "\n",
              "    .dataframe thead th {\n",
              "        text-align: right;\n",
              "    }\n",
              "</style>\n",
              "<table border=\"1\" class=\"dataframe\">\n",
              "  <thead>\n",
              "    <tr style=\"text-align: right;\">\n",
              "      <th></th>\n",
              "      <th>product_id</th>\n",
              "      <th>customer_id</th>\n",
              "      <th>list_price</th>\n",
              "      <th>standard_cost</th>\n",
              "    </tr>\n",
              "  </thead>\n",
              "  <tbody>\n",
              "    <tr>\n",
              "      <th>count</th>\n",
              "      <td>20000.00000</td>\n",
              "      <td>20000.000000</td>\n",
              "      <td>20000.000000</td>\n",
              "      <td>19803.000000</td>\n",
              "    </tr>\n",
              "    <tr>\n",
              "      <th>mean</th>\n",
              "      <td>45.36465</td>\n",
              "      <td>1738.246050</td>\n",
              "      <td>1107.829449</td>\n",
              "      <td>556.046951</td>\n",
              "    </tr>\n",
              "    <tr>\n",
              "      <th>std</th>\n",
              "      <td>30.75359</td>\n",
              "      <td>1011.951046</td>\n",
              "      <td>582.825242</td>\n",
              "      <td>405.955660</td>\n",
              "    </tr>\n",
              "    <tr>\n",
              "      <th>min</th>\n",
              "      <td>0.00000</td>\n",
              "      <td>1.000000</td>\n",
              "      <td>12.010000</td>\n",
              "      <td>7.210000</td>\n",
              "    </tr>\n",
              "    <tr>\n",
              "      <th>25%</th>\n",
              "      <td>18.00000</td>\n",
              "      <td>857.750000</td>\n",
              "      <td>575.270000</td>\n",
              "      <td>215.140000</td>\n",
              "    </tr>\n",
              "    <tr>\n",
              "      <th>50%</th>\n",
              "      <td>44.00000</td>\n",
              "      <td>1736.000000</td>\n",
              "      <td>1163.890000</td>\n",
              "      <td>507.580000</td>\n",
              "    </tr>\n",
              "    <tr>\n",
              "      <th>75%</th>\n",
              "      <td>72.00000</td>\n",
              "      <td>2613.000000</td>\n",
              "      <td>1635.300000</td>\n",
              "      <td>795.100000</td>\n",
              "    </tr>\n",
              "    <tr>\n",
              "      <th>max</th>\n",
              "      <td>100.00000</td>\n",
              "      <td>5034.000000</td>\n",
              "      <td>2091.470000</td>\n",
              "      <td>1759.850000</td>\n",
              "    </tr>\n",
              "  </tbody>\n",
              "</table>\n",
              "</div>"
            ],
            "text/plain": [
              "        product_id   customer_id    list_price  standard_cost\n",
              "count  20000.00000  20000.000000  20000.000000   19803.000000\n",
              "mean      45.36465   1738.246050   1107.829449     556.046951\n",
              "std       30.75359   1011.951046    582.825242     405.955660\n",
              "min        0.00000      1.000000     12.010000       7.210000\n",
              "25%       18.00000    857.750000    575.270000     215.140000\n",
              "50%       44.00000   1736.000000   1163.890000     507.580000\n",
              "75%       72.00000   2613.000000   1635.300000     795.100000\n",
              "max      100.00000   5034.000000   2091.470000    1759.850000"
            ]
          },
          "metadata": {},
          "execution_count": 11
        }
      ]
    },
    {
      "cell_type": "markdown",
      "metadata": {
        "id": "25bb661f"
      },
      "source": [
        "#### Dealing with null values"
      ],
      "id": "25bb661f"
    },
    {
      "cell_type": "code",
      "metadata": {
        "colab": {
          "base_uri": "https://localhost:8080/"
        },
        "id": "b6d390b4",
        "outputId": "789e9bfb-22ae-43d8-c03f-681cace87693"
      },
      "source": [
        "tran_df.isnull().sum()"
      ],
      "id": "b6d390b4",
      "execution_count": 12,
      "outputs": [
        {
          "output_type": "execute_result",
          "data": {
            "text/plain": [
              "product_id                   0\n",
              "customer_id                  0\n",
              "transaction_date             0\n",
              "online_order                 0\n",
              "order_status                 0\n",
              "brand                      197\n",
              "product_line               197\n",
              "product_class              197\n",
              "product_size               197\n",
              "list_price                   0\n",
              "standard_cost              197\n",
              "product_first_sold_date    197\n",
              "dtype: int64"
            ]
          },
          "metadata": {},
          "execution_count": 12
        }
      ]
    },
    {
      "cell_type": "code",
      "metadata": {
        "id": "ed5e1611"
      },
      "source": [
        "tran_df.online_order = tran_df.online_order.map({True:1,False:0})\n",
        "tran_df.online_order = tran_df.online_order.astype(int)"
      ],
      "id": "ed5e1611",
      "execution_count": 13,
      "outputs": []
    },
    {
      "cell_type": "code",
      "metadata": {
        "scrolled": true,
        "colab": {
          "base_uri": "https://localhost:8080/"
        },
        "id": "60a31b63",
        "outputId": "1fd349ac-0197-4c97-a638-a3cfec8580dc"
      },
      "source": [
        "tran_df.dtypes"
      ],
      "id": "60a31b63",
      "execution_count": 14,
      "outputs": [
        {
          "output_type": "execute_result",
          "data": {
            "text/plain": [
              "product_id                          int64\n",
              "customer_id                         int64\n",
              "transaction_date           datetime64[ns]\n",
              "online_order                        int64\n",
              "order_status                       object\n",
              "brand                              object\n",
              "product_line                       object\n",
              "product_class                      object\n",
              "product_size                       object\n",
              "list_price                        float64\n",
              "standard_cost                     float64\n",
              "product_first_sold_date    datetime64[ns]\n",
              "dtype: object"
            ]
          },
          "metadata": {},
          "execution_count": 14
        }
      ]
    },
    {
      "cell_type": "code",
      "metadata": {
        "colab": {
          "base_uri": "https://localhost:8080/"
        },
        "id": "384dcd6d",
        "outputId": "4b5ef8f7-272c-481b-cdb7-5c476fcbd7cf"
      },
      "source": [
        "tran_df.order_status.value_counts()"
      ],
      "id": "384dcd6d",
      "execution_count": 15,
      "outputs": [
        {
          "output_type": "execute_result",
          "data": {
            "text/plain": [
              "Approved     19821\n",
              "Cancelled      179\n",
              "Name: order_status, dtype: int64"
            ]
          },
          "metadata": {},
          "execution_count": 15
        }
      ]
    },
    {
      "cell_type": "markdown",
      "metadata": {
        "id": "7497ee92"
      },
      "source": [
        "We can either drop the columns with cancelled order or just keep it as it is"
      ],
      "id": "7497ee92"
    },
    {
      "cell_type": "code",
      "metadata": {
        "scrolled": true,
        "colab": {
          "base_uri": "https://localhost:8080/"
        },
        "id": "5e1fa2e4",
        "outputId": "0ced6293-50b0-4bc1-bbf8-6d96cc4e20b9"
      },
      "source": [
        "tran_df.isnull().sum()"
      ],
      "id": "5e1fa2e4",
      "execution_count": 16,
      "outputs": [
        {
          "output_type": "execute_result",
          "data": {
            "text/plain": [
              "product_id                   0\n",
              "customer_id                  0\n",
              "transaction_date             0\n",
              "online_order                 0\n",
              "order_status                 0\n",
              "brand                      197\n",
              "product_line               197\n",
              "product_class              197\n",
              "product_size               197\n",
              "list_price                   0\n",
              "standard_cost              197\n",
              "product_first_sold_date    197\n",
              "dtype: int64"
            ]
          },
          "metadata": {},
          "execution_count": 16
        }
      ]
    },
    {
      "cell_type": "markdown",
      "metadata": {
        "id": "cd8f5151"
      },
      "source": [
        "We can either remove all the 197 rows or fill them most repeated value of that column"
      ],
      "id": "cd8f5151"
    },
    {
      "cell_type": "code",
      "metadata": {
        "colab": {
          "base_uri": "https://localhost:8080/"
        },
        "id": "a07d2a73",
        "outputId": "c4ec50c0-478c-46ff-e96a-404ccb69960f"
      },
      "source": [
        "tran_df.product_line.mode()"
      ],
      "id": "a07d2a73",
      "execution_count": 17,
      "outputs": [
        {
          "output_type": "execute_result",
          "data": {
            "text/plain": [
              "0    Standard\n",
              "dtype: object"
            ]
          },
          "metadata": {},
          "execution_count": 17
        }
      ]
    },
    {
      "cell_type": "code",
      "metadata": {
        "colab": {
          "base_uri": "https://localhost:8080/"
        },
        "id": "ffd44df8",
        "outputId": "72cb1f8a-c687-483b-e5da-352b451e0ecf"
      },
      "source": [
        "tran_df.product_class.value_counts()"
      ],
      "id": "ffd44df8",
      "execution_count": 18,
      "outputs": [
        {
          "output_type": "execute_result",
          "data": {
            "text/plain": [
              "medium    13826\n",
              "high       3013\n",
              "low        2964\n",
              "Name: product_class, dtype: int64"
            ]
          },
          "metadata": {},
          "execution_count": 18
        }
      ]
    },
    {
      "cell_type": "code",
      "metadata": {
        "colab": {
          "base_uri": "https://localhost:8080/"
        },
        "id": "f6267dc6",
        "outputId": "aa52cd1c-d049-4c9e-80c3-75216326278c"
      },
      "source": [
        "tran_df.product_size.value_counts()"
      ],
      "id": "f6267dc6",
      "execution_count": 19,
      "outputs": [
        {
          "output_type": "execute_result",
          "data": {
            "text/plain": [
              "medium    12990\n",
              "large      3976\n",
              "small      2837\n",
              "Name: product_size, dtype: int64"
            ]
          },
          "metadata": {},
          "execution_count": 19
        }
      ]
    },
    {
      "cell_type": "code",
      "metadata": {
        "colab": {
          "base_uri": "https://localhost:8080/"
        },
        "id": "162071db",
        "outputId": "f4a6cbac-2604-4933-88cc-07b8b060039b"
      },
      "source": [
        "tran_df.standard_cost.value_counts()"
      ],
      "id": "162071db",
      "execution_count": 20,
      "outputs": [
        {
          "output_type": "execute_result",
          "data": {
            "text/plain": [
              "388.920000    465\n",
              "954.820000    396\n",
              "53.620000     274\n",
              "161.600000    235\n",
              "260.140000    233\n",
              "             ... \n",
              "151.960000    124\n",
              "206.350000    114\n",
              "270.299988      1\n",
              "667.400024      1\n",
              "312.735016      1\n",
              "Name: standard_cost, Length: 103, dtype: int64"
            ]
          },
          "metadata": {},
          "execution_count": 20
        }
      ]
    },
    {
      "cell_type": "code",
      "metadata": {
        "scrolled": true,
        "colab": {
          "base_uri": "https://localhost:8080/"
        },
        "id": "972e7b25",
        "outputId": "4a18c56b-dd1c-4c33-ab6e-055748bd48d6"
      },
      "source": [
        "np.mean(tran_df.standard_cost)"
      ],
      "id": "972e7b25",
      "execution_count": 21,
      "outputs": [
        {
          "output_type": "execute_result",
          "data": {
            "text/plain": [
              "556.0469512209421"
            ]
          },
          "metadata": {},
          "execution_count": 21
        }
      ]
    },
    {
      "cell_type": "code",
      "metadata": {
        "id": "381d89bf"
      },
      "source": [
        "# tran_df['product_first_sold_date'] = pd.TimedeltaIndex(tran_df['product_first_sold_date'], unit='d') + dt.datetime(1900,1,1)"
      ],
      "id": "381d89bf",
      "execution_count": 22,
      "outputs": []
    },
    {
      "cell_type": "code",
      "metadata": {
        "colab": {
          "base_uri": "https://localhost:8080/",
          "height": 0
        },
        "id": "03b9a45f",
        "outputId": "3b07911a-e8d7-4a89-bcbb-46de857ea3e7"
      },
      "source": [
        "tran_df.head()"
      ],
      "id": "03b9a45f",
      "execution_count": 23,
      "outputs": [
        {
          "output_type": "execute_result",
          "data": {
            "text/html": [
              "<div>\n",
              "<style scoped>\n",
              "    .dataframe tbody tr th:only-of-type {\n",
              "        vertical-align: middle;\n",
              "    }\n",
              "\n",
              "    .dataframe tbody tr th {\n",
              "        vertical-align: top;\n",
              "    }\n",
              "\n",
              "    .dataframe thead th {\n",
              "        text-align: right;\n",
              "    }\n",
              "</style>\n",
              "<table border=\"1\" class=\"dataframe\">\n",
              "  <thead>\n",
              "    <tr style=\"text-align: right;\">\n",
              "      <th></th>\n",
              "      <th>product_id</th>\n",
              "      <th>customer_id</th>\n",
              "      <th>transaction_date</th>\n",
              "      <th>online_order</th>\n",
              "      <th>order_status</th>\n",
              "      <th>brand</th>\n",
              "      <th>product_line</th>\n",
              "      <th>product_class</th>\n",
              "      <th>product_size</th>\n",
              "      <th>list_price</th>\n",
              "      <th>standard_cost</th>\n",
              "      <th>product_first_sold_date</th>\n",
              "    </tr>\n",
              "    <tr>\n",
              "      <th>transaction_id</th>\n",
              "      <th></th>\n",
              "      <th></th>\n",
              "      <th></th>\n",
              "      <th></th>\n",
              "      <th></th>\n",
              "      <th></th>\n",
              "      <th></th>\n",
              "      <th></th>\n",
              "      <th></th>\n",
              "      <th></th>\n",
              "      <th></th>\n",
              "      <th></th>\n",
              "    </tr>\n",
              "  </thead>\n",
              "  <tbody>\n",
              "    <tr>\n",
              "      <th>1</th>\n",
              "      <td>2</td>\n",
              "      <td>2950</td>\n",
              "      <td>2017-02-25</td>\n",
              "      <td>0</td>\n",
              "      <td>Approved</td>\n",
              "      <td>Solex</td>\n",
              "      <td>Standard</td>\n",
              "      <td>medium</td>\n",
              "      <td>medium</td>\n",
              "      <td>71.49</td>\n",
              "      <td>53.62</td>\n",
              "      <td>1970-01-01 11:27:25</td>\n",
              "    </tr>\n",
              "    <tr>\n",
              "      <th>2</th>\n",
              "      <td>3</td>\n",
              "      <td>3120</td>\n",
              "      <td>2017-05-21</td>\n",
              "      <td>1</td>\n",
              "      <td>Approved</td>\n",
              "      <td>Trek Bicycles</td>\n",
              "      <td>Standard</td>\n",
              "      <td>medium</td>\n",
              "      <td>large</td>\n",
              "      <td>2091.47</td>\n",
              "      <td>388.92</td>\n",
              "      <td>1970-01-01 11:35:01</td>\n",
              "    </tr>\n",
              "    <tr>\n",
              "      <th>3</th>\n",
              "      <td>37</td>\n",
              "      <td>402</td>\n",
              "      <td>2017-10-16</td>\n",
              "      <td>0</td>\n",
              "      <td>Approved</td>\n",
              "      <td>OHM Cycles</td>\n",
              "      <td>Standard</td>\n",
              "      <td>low</td>\n",
              "      <td>medium</td>\n",
              "      <td>1793.43</td>\n",
              "      <td>248.82</td>\n",
              "      <td>1970-01-01 10:06:01</td>\n",
              "    </tr>\n",
              "    <tr>\n",
              "      <th>4</th>\n",
              "      <td>88</td>\n",
              "      <td>3135</td>\n",
              "      <td>2017-08-31</td>\n",
              "      <td>0</td>\n",
              "      <td>Approved</td>\n",
              "      <td>Norco Bicycles</td>\n",
              "      <td>Standard</td>\n",
              "      <td>medium</td>\n",
              "      <td>medium</td>\n",
              "      <td>1198.46</td>\n",
              "      <td>381.10</td>\n",
              "      <td>1970-01-01 10:02:25</td>\n",
              "    </tr>\n",
              "    <tr>\n",
              "      <th>5</th>\n",
              "      <td>78</td>\n",
              "      <td>787</td>\n",
              "      <td>2017-10-01</td>\n",
              "      <td>1</td>\n",
              "      <td>Approved</td>\n",
              "      <td>Giant Bicycles</td>\n",
              "      <td>Standard</td>\n",
              "      <td>medium</td>\n",
              "      <td>large</td>\n",
              "      <td>1765.30</td>\n",
              "      <td>709.48</td>\n",
              "      <td>1970-01-01 11:43:46</td>\n",
              "    </tr>\n",
              "  </tbody>\n",
              "</table>\n",
              "</div>"
            ],
            "text/plain": [
              "                product_id  customer_id  ... standard_cost  product_first_sold_date\n",
              "transaction_id                           ...                                       \n",
              "1                        2         2950  ...         53.62      1970-01-01 11:27:25\n",
              "2                        3         3120  ...        388.92      1970-01-01 11:35:01\n",
              "3                       37          402  ...        248.82      1970-01-01 10:06:01\n",
              "4                       88         3135  ...        381.10      1970-01-01 10:02:25\n",
              "5                       78          787  ...        709.48      1970-01-01 11:43:46\n",
              "\n",
              "[5 rows x 12 columns]"
            ]
          },
          "metadata": {},
          "execution_count": 23
        }
      ]
    },
    {
      "cell_type": "code",
      "metadata": {
        "scrolled": false,
        "colab": {
          "base_uri": "https://localhost:8080/"
        },
        "id": "3dc21175",
        "outputId": "39ac5b4d-1da5-4b38-b0de-15ba8d3682a7"
      },
      "source": [
        "tran_df.isna().sum()"
      ],
      "id": "3dc21175",
      "execution_count": 24,
      "outputs": [
        {
          "output_type": "execute_result",
          "data": {
            "text/plain": [
              "product_id                   0\n",
              "customer_id                  0\n",
              "transaction_date             0\n",
              "online_order                 0\n",
              "order_status                 0\n",
              "brand                      197\n",
              "product_line               197\n",
              "product_class              197\n",
              "product_size               197\n",
              "list_price                   0\n",
              "standard_cost              197\n",
              "product_first_sold_date    197\n",
              "dtype: int64"
            ]
          },
          "metadata": {},
          "execution_count": 24
        }
      ]
    },
    {
      "cell_type": "code",
      "metadata": {
        "id": "95d515d0"
      },
      "source": [
        "tran_df.fillna({'brand':tran_df.brand.mode()[0],\"product_class\":tran_df.product_class.mode()[0],\"product_line\":tran_df.product_line.mode()[0],\"product_size\":tran_df.product_size.mode()[0],\"standard_cost\":np.mean(tran_df.standard_cost),\"product_first_sold_date\":pd.to_datetime(tran_df.product_first_sold_date).dt.year.mode()[0]},inplace = True)"
      ],
      "id": "95d515d0",
      "execution_count": 25,
      "outputs": []
    },
    {
      "cell_type": "code",
      "metadata": {
        "colab": {
          "base_uri": "https://localhost:8080/"
        },
        "id": "b96e74a2",
        "outputId": "cf5261cb-a5f4-4ccd-99b1-215a8b88070a"
      },
      "source": [
        "tran_df.brand.mode()"
      ],
      "id": "b96e74a2",
      "execution_count": 26,
      "outputs": [
        {
          "output_type": "execute_result",
          "data": {
            "text/plain": [
              "0    Solex\n",
              "dtype: object"
            ]
          },
          "metadata": {},
          "execution_count": 26
        }
      ]
    },
    {
      "cell_type": "code",
      "metadata": {
        "scrolled": true,
        "colab": {
          "base_uri": "https://localhost:8080/",
          "height": 0
        },
        "id": "7fe17f8b",
        "outputId": "1bfb5923-095d-4684-855c-c0418de7c4f8"
      },
      "source": [
        "tran_df[tran_df.index.duplicated()]"
      ],
      "id": "7fe17f8b",
      "execution_count": 27,
      "outputs": [
        {
          "output_type": "execute_result",
          "data": {
            "text/html": [
              "<div>\n",
              "<style scoped>\n",
              "    .dataframe tbody tr th:only-of-type {\n",
              "        vertical-align: middle;\n",
              "    }\n",
              "\n",
              "    .dataframe tbody tr th {\n",
              "        vertical-align: top;\n",
              "    }\n",
              "\n",
              "    .dataframe thead th {\n",
              "        text-align: right;\n",
              "    }\n",
              "</style>\n",
              "<table border=\"1\" class=\"dataframe\">\n",
              "  <thead>\n",
              "    <tr style=\"text-align: right;\">\n",
              "      <th></th>\n",
              "      <th>product_id</th>\n",
              "      <th>customer_id</th>\n",
              "      <th>transaction_date</th>\n",
              "      <th>online_order</th>\n",
              "      <th>order_status</th>\n",
              "      <th>brand</th>\n",
              "      <th>product_line</th>\n",
              "      <th>product_class</th>\n",
              "      <th>product_size</th>\n",
              "      <th>list_price</th>\n",
              "      <th>standard_cost</th>\n",
              "      <th>product_first_sold_date</th>\n",
              "    </tr>\n",
              "    <tr>\n",
              "      <th>transaction_id</th>\n",
              "      <th></th>\n",
              "      <th></th>\n",
              "      <th></th>\n",
              "      <th></th>\n",
              "      <th></th>\n",
              "      <th></th>\n",
              "      <th></th>\n",
              "      <th></th>\n",
              "      <th></th>\n",
              "      <th></th>\n",
              "      <th></th>\n",
              "      <th></th>\n",
              "    </tr>\n",
              "  </thead>\n",
              "  <tbody>\n",
              "  </tbody>\n",
              "</table>\n",
              "</div>"
            ],
            "text/plain": [
              "Empty DataFrame\n",
              "Columns: [product_id, customer_id, transaction_date, online_order, order_status, brand, product_line, product_class, product_size, list_price, standard_cost, product_first_sold_date]\n",
              "Index: []"
            ]
          },
          "metadata": {},
          "execution_count": 27
        }
      ]
    },
    {
      "cell_type": "markdown",
      "metadata": {
        "id": "87abbd2c"
      },
      "source": [
        "No duplicated columns are present in the the dataset so no need to delete any rows"
      ],
      "id": "87abbd2c"
    },
    {
      "cell_type": "code",
      "metadata": {
        "scrolled": false,
        "colab": {
          "base_uri": "https://localhost:8080/"
        },
        "id": "9ec8f6c8",
        "outputId": "e322879a-c700-446a-9241-67fca2387829"
      },
      "source": [
        "tran_df.isna().sum()"
      ],
      "id": "9ec8f6c8",
      "execution_count": 28,
      "outputs": [
        {
          "output_type": "execute_result",
          "data": {
            "text/plain": [
              "product_id                 0\n",
              "customer_id                0\n",
              "transaction_date           0\n",
              "online_order               0\n",
              "order_status               0\n",
              "brand                      0\n",
              "product_line               0\n",
              "product_class              0\n",
              "product_size               0\n",
              "list_price                 0\n",
              "standard_cost              0\n",
              "product_first_sold_date    0\n",
              "dtype: int64"
            ]
          },
          "metadata": {},
          "execution_count": 28
        }
      ]
    },
    {
      "cell_type": "code",
      "metadata": {
        "colab": {
          "base_uri": "https://localhost:8080/"
        },
        "id": "10a28812",
        "outputId": "c7ce58f1-9343-4eb9-d99c-9831df5025fc"
      },
      "source": [
        "tran_df.customer_id.nunique()"
      ],
      "id": "10a28812",
      "execution_count": 29,
      "outputs": [
        {
          "output_type": "execute_result",
          "data": {
            "text/plain": [
              "3494"
            ]
          },
          "metadata": {},
          "execution_count": 29
        }
      ]
    },
    {
      "cell_type": "markdown",
      "metadata": {
        "id": "1278ac06"
      },
      "source": [
        "##  **New Customer list** "
      ],
      "id": "1278ac06"
    },
    {
      "cell_type": "code",
      "metadata": {
        "colab": {
          "base_uri": "https://localhost:8080/",
          "height": 448
        },
        "id": "c4939b80",
        "outputId": "2488bced-a907-4383-9279-1822510f2f5a"
      },
      "source": [
        "# this sheet contains multiple sheets so pass the sheet name argument to read excel \n",
        "new_cust = pd.read_excel(r\"/content/KPMG_VI_New_raw_data_update_final.xlsx\",sheet_name='NewCustomerList',header=1,index_col=0)\n",
        "new_cust.head()"
      ],
      "id": "c4939b80",
      "execution_count": 30,
      "outputs": [
        {
          "output_type": "execute_result",
          "data": {
            "text/html": [
              "<div>\n",
              "<style scoped>\n",
              "    .dataframe tbody tr th:only-of-type {\n",
              "        vertical-align: middle;\n",
              "    }\n",
              "\n",
              "    .dataframe tbody tr th {\n",
              "        vertical-align: top;\n",
              "    }\n",
              "\n",
              "    .dataframe thead th {\n",
              "        text-align: right;\n",
              "    }\n",
              "</style>\n",
              "<table border=\"1\" class=\"dataframe\">\n",
              "  <thead>\n",
              "    <tr style=\"text-align: right;\">\n",
              "      <th></th>\n",
              "      <th>last_name</th>\n",
              "      <th>gender</th>\n",
              "      <th>past_3_years_bike_related_purchases</th>\n",
              "      <th>DOB</th>\n",
              "      <th>job_title</th>\n",
              "      <th>job_industry_category</th>\n",
              "      <th>wealth_segment</th>\n",
              "      <th>deceased_indicator</th>\n",
              "      <th>owns_car</th>\n",
              "      <th>tenure</th>\n",
              "      <th>address</th>\n",
              "      <th>postcode</th>\n",
              "      <th>state</th>\n",
              "      <th>country</th>\n",
              "      <th>property_valuation</th>\n",
              "      <th>Unnamed: 16</th>\n",
              "      <th>Unnamed: 17</th>\n",
              "      <th>Unnamed: 18</th>\n",
              "      <th>Unnamed: 19</th>\n",
              "      <th>Unnamed: 20</th>\n",
              "      <th>Rank</th>\n",
              "      <th>Value</th>\n",
              "    </tr>\n",
              "    <tr>\n",
              "      <th>first_name</th>\n",
              "      <th></th>\n",
              "      <th></th>\n",
              "      <th></th>\n",
              "      <th></th>\n",
              "      <th></th>\n",
              "      <th></th>\n",
              "      <th></th>\n",
              "      <th></th>\n",
              "      <th></th>\n",
              "      <th></th>\n",
              "      <th></th>\n",
              "      <th></th>\n",
              "      <th></th>\n",
              "      <th></th>\n",
              "      <th></th>\n",
              "      <th></th>\n",
              "      <th></th>\n",
              "      <th></th>\n",
              "      <th></th>\n",
              "      <th></th>\n",
              "      <th></th>\n",
              "      <th></th>\n",
              "    </tr>\n",
              "  </thead>\n",
              "  <tbody>\n",
              "    <tr>\n",
              "      <th>Chickie</th>\n",
              "      <td>Brister</td>\n",
              "      <td>Male</td>\n",
              "      <td>86</td>\n",
              "      <td>1957-07-12</td>\n",
              "      <td>General Manager</td>\n",
              "      <td>Manufacturing</td>\n",
              "      <td>Mass Customer</td>\n",
              "      <td>N</td>\n",
              "      <td>Yes</td>\n",
              "      <td>14</td>\n",
              "      <td>45 Shopko Center</td>\n",
              "      <td>4500</td>\n",
              "      <td>QLD</td>\n",
              "      <td>Australia</td>\n",
              "      <td>6</td>\n",
              "      <td>0.56</td>\n",
              "      <td>0.7000</td>\n",
              "      <td>0.8750</td>\n",
              "      <td>0.743750</td>\n",
              "      <td>1</td>\n",
              "      <td>1</td>\n",
              "      <td>1.718750</td>\n",
              "    </tr>\n",
              "    <tr>\n",
              "      <th>Morly</th>\n",
              "      <td>Genery</td>\n",
              "      <td>Male</td>\n",
              "      <td>69</td>\n",
              "      <td>1970-03-22</td>\n",
              "      <td>Structural Engineer</td>\n",
              "      <td>Property</td>\n",
              "      <td>Mass Customer</td>\n",
              "      <td>N</td>\n",
              "      <td>No</td>\n",
              "      <td>16</td>\n",
              "      <td>14 Mccormick Park</td>\n",
              "      <td>2113</td>\n",
              "      <td>NSW</td>\n",
              "      <td>Australia</td>\n",
              "      <td>11</td>\n",
              "      <td>0.89</td>\n",
              "      <td>0.8900</td>\n",
              "      <td>1.1125</td>\n",
              "      <td>0.945625</td>\n",
              "      <td>1</td>\n",
              "      <td>1</td>\n",
              "      <td>1.718750</td>\n",
              "    </tr>\n",
              "    <tr>\n",
              "      <th>Ardelis</th>\n",
              "      <td>Forrester</td>\n",
              "      <td>Female</td>\n",
              "      <td>10</td>\n",
              "      <td>1974-08-28</td>\n",
              "      <td>Senior Cost Accountant</td>\n",
              "      <td>Financial Services</td>\n",
              "      <td>Affluent Customer</td>\n",
              "      <td>N</td>\n",
              "      <td>No</td>\n",
              "      <td>10</td>\n",
              "      <td>5 Colorado Crossing</td>\n",
              "      <td>3505</td>\n",
              "      <td>VIC</td>\n",
              "      <td>Australia</td>\n",
              "      <td>5</td>\n",
              "      <td>1.01</td>\n",
              "      <td>1.0100</td>\n",
              "      <td>1.0100</td>\n",
              "      <td>1.010000</td>\n",
              "      <td>1</td>\n",
              "      <td>1</td>\n",
              "      <td>1.718750</td>\n",
              "    </tr>\n",
              "    <tr>\n",
              "      <th>Lucine</th>\n",
              "      <td>Stutt</td>\n",
              "      <td>Female</td>\n",
              "      <td>64</td>\n",
              "      <td>1979-01-28</td>\n",
              "      <td>Account Representative III</td>\n",
              "      <td>Manufacturing</td>\n",
              "      <td>Affluent Customer</td>\n",
              "      <td>N</td>\n",
              "      <td>Yes</td>\n",
              "      <td>5</td>\n",
              "      <td>207 Annamark Plaza</td>\n",
              "      <td>4814</td>\n",
              "      <td>QLD</td>\n",
              "      <td>Australia</td>\n",
              "      <td>1</td>\n",
              "      <td>0.87</td>\n",
              "      <td>1.0875</td>\n",
              "      <td>1.0875</td>\n",
              "      <td>1.087500</td>\n",
              "      <td>4</td>\n",
              "      <td>4</td>\n",
              "      <td>1.703125</td>\n",
              "    </tr>\n",
              "    <tr>\n",
              "      <th>Melinda</th>\n",
              "      <td>Hadlee</td>\n",
              "      <td>Female</td>\n",
              "      <td>34</td>\n",
              "      <td>1965-09-21</td>\n",
              "      <td>Financial Analyst</td>\n",
              "      <td>Financial Services</td>\n",
              "      <td>Affluent Customer</td>\n",
              "      <td>N</td>\n",
              "      <td>No</td>\n",
              "      <td>19</td>\n",
              "      <td>115 Montana Place</td>\n",
              "      <td>2093</td>\n",
              "      <td>NSW</td>\n",
              "      <td>Australia</td>\n",
              "      <td>9</td>\n",
              "      <td>0.52</td>\n",
              "      <td>0.5200</td>\n",
              "      <td>0.6500</td>\n",
              "      <td>0.650000</td>\n",
              "      <td>4</td>\n",
              "      <td>4</td>\n",
              "      <td>1.703125</td>\n",
              "    </tr>\n",
              "  </tbody>\n",
              "</table>\n",
              "</div>"
            ],
            "text/plain": [
              "            last_name  gender  ...  Rank     Value\n",
              "first_name                     ...                \n",
              "Chickie       Brister    Male  ...     1  1.718750\n",
              "Morly          Genery    Male  ...     1  1.718750\n",
              "Ardelis     Forrester  Female  ...     1  1.718750\n",
              "Lucine          Stutt  Female  ...     4  1.703125\n",
              "Melinda        Hadlee  Female  ...     4  1.703125\n",
              "\n",
              "[5 rows x 22 columns]"
            ]
          },
          "metadata": {},
          "execution_count": 30
        }
      ]
    },
    {
      "cell_type": "code",
      "metadata": {
        "id": "c47b5bd2"
      },
      "source": [
        "new_cust = new_cust.iloc[:,:15]"
      ],
      "id": "c47b5bd2",
      "execution_count": 31,
      "outputs": []
    },
    {
      "cell_type": "code",
      "metadata": {
        "colab": {
          "base_uri": "https://localhost:8080/"
        },
        "id": "032fe39a",
        "outputId": "4aff0649-59c2-4d35-f4e1-bd7604efc616"
      },
      "source": [
        "new_cust.shape"
      ],
      "id": "032fe39a",
      "execution_count": 32,
      "outputs": [
        {
          "output_type": "execute_result",
          "data": {
            "text/plain": [
              "(1000, 15)"
            ]
          },
          "metadata": {},
          "execution_count": 32
        }
      ]
    },
    {
      "cell_type": "code",
      "metadata": {
        "colab": {
          "base_uri": "https://localhost:8080/"
        },
        "id": "ffbd8db8",
        "outputId": "f0e37485-e14f-4fce-c289-35cdf3cb3c7f"
      },
      "source": [
        "new_cust.columns"
      ],
      "id": "ffbd8db8",
      "execution_count": 33,
      "outputs": [
        {
          "output_type": "execute_result",
          "data": {
            "text/plain": [
              "Index(['last_name', 'gender', 'past_3_years_bike_related_purchases', 'DOB',\n",
              "       'job_title', 'job_industry_category', 'wealth_segment',\n",
              "       'deceased_indicator', 'owns_car', 'tenure', 'address', 'postcode',\n",
              "       'state', 'country', 'property_valuation'],\n",
              "      dtype='object')"
            ]
          },
          "metadata": {},
          "execution_count": 33
        }
      ]
    },
    {
      "cell_type": "code",
      "metadata": {
        "id": "1b5cf1c0"
      },
      "source": [
        "pd.set_option(\"display.max_columns\",23)"
      ],
      "id": "1b5cf1c0",
      "execution_count": 34,
      "outputs": []
    },
    {
      "cell_type": "code",
      "metadata": {
        "colab": {
          "base_uri": "https://localhost:8080/",
          "height": 431
        },
        "id": "6820f4bb",
        "outputId": "a5f27d59-2c29-4222-f07f-a90b3a1880ab"
      },
      "source": [
        "new_cust.head()"
      ],
      "id": "6820f4bb",
      "execution_count": 35,
      "outputs": [
        {
          "output_type": "execute_result",
          "data": {
            "text/html": [
              "<div>\n",
              "<style scoped>\n",
              "    .dataframe tbody tr th:only-of-type {\n",
              "        vertical-align: middle;\n",
              "    }\n",
              "\n",
              "    .dataframe tbody tr th {\n",
              "        vertical-align: top;\n",
              "    }\n",
              "\n",
              "    .dataframe thead th {\n",
              "        text-align: right;\n",
              "    }\n",
              "</style>\n",
              "<table border=\"1\" class=\"dataframe\">\n",
              "  <thead>\n",
              "    <tr style=\"text-align: right;\">\n",
              "      <th></th>\n",
              "      <th>last_name</th>\n",
              "      <th>gender</th>\n",
              "      <th>past_3_years_bike_related_purchases</th>\n",
              "      <th>DOB</th>\n",
              "      <th>job_title</th>\n",
              "      <th>job_industry_category</th>\n",
              "      <th>wealth_segment</th>\n",
              "      <th>deceased_indicator</th>\n",
              "      <th>owns_car</th>\n",
              "      <th>tenure</th>\n",
              "      <th>address</th>\n",
              "      <th>postcode</th>\n",
              "      <th>state</th>\n",
              "      <th>country</th>\n",
              "      <th>property_valuation</th>\n",
              "    </tr>\n",
              "    <tr>\n",
              "      <th>first_name</th>\n",
              "      <th></th>\n",
              "      <th></th>\n",
              "      <th></th>\n",
              "      <th></th>\n",
              "      <th></th>\n",
              "      <th></th>\n",
              "      <th></th>\n",
              "      <th></th>\n",
              "      <th></th>\n",
              "      <th></th>\n",
              "      <th></th>\n",
              "      <th></th>\n",
              "      <th></th>\n",
              "      <th></th>\n",
              "      <th></th>\n",
              "    </tr>\n",
              "  </thead>\n",
              "  <tbody>\n",
              "    <tr>\n",
              "      <th>Chickie</th>\n",
              "      <td>Brister</td>\n",
              "      <td>Male</td>\n",
              "      <td>86</td>\n",
              "      <td>1957-07-12</td>\n",
              "      <td>General Manager</td>\n",
              "      <td>Manufacturing</td>\n",
              "      <td>Mass Customer</td>\n",
              "      <td>N</td>\n",
              "      <td>Yes</td>\n",
              "      <td>14</td>\n",
              "      <td>45 Shopko Center</td>\n",
              "      <td>4500</td>\n",
              "      <td>QLD</td>\n",
              "      <td>Australia</td>\n",
              "      <td>6</td>\n",
              "    </tr>\n",
              "    <tr>\n",
              "      <th>Morly</th>\n",
              "      <td>Genery</td>\n",
              "      <td>Male</td>\n",
              "      <td>69</td>\n",
              "      <td>1970-03-22</td>\n",
              "      <td>Structural Engineer</td>\n",
              "      <td>Property</td>\n",
              "      <td>Mass Customer</td>\n",
              "      <td>N</td>\n",
              "      <td>No</td>\n",
              "      <td>16</td>\n",
              "      <td>14 Mccormick Park</td>\n",
              "      <td>2113</td>\n",
              "      <td>NSW</td>\n",
              "      <td>Australia</td>\n",
              "      <td>11</td>\n",
              "    </tr>\n",
              "    <tr>\n",
              "      <th>Ardelis</th>\n",
              "      <td>Forrester</td>\n",
              "      <td>Female</td>\n",
              "      <td>10</td>\n",
              "      <td>1974-08-28</td>\n",
              "      <td>Senior Cost Accountant</td>\n",
              "      <td>Financial Services</td>\n",
              "      <td>Affluent Customer</td>\n",
              "      <td>N</td>\n",
              "      <td>No</td>\n",
              "      <td>10</td>\n",
              "      <td>5 Colorado Crossing</td>\n",
              "      <td>3505</td>\n",
              "      <td>VIC</td>\n",
              "      <td>Australia</td>\n",
              "      <td>5</td>\n",
              "    </tr>\n",
              "    <tr>\n",
              "      <th>Lucine</th>\n",
              "      <td>Stutt</td>\n",
              "      <td>Female</td>\n",
              "      <td>64</td>\n",
              "      <td>1979-01-28</td>\n",
              "      <td>Account Representative III</td>\n",
              "      <td>Manufacturing</td>\n",
              "      <td>Affluent Customer</td>\n",
              "      <td>N</td>\n",
              "      <td>Yes</td>\n",
              "      <td>5</td>\n",
              "      <td>207 Annamark Plaza</td>\n",
              "      <td>4814</td>\n",
              "      <td>QLD</td>\n",
              "      <td>Australia</td>\n",
              "      <td>1</td>\n",
              "    </tr>\n",
              "    <tr>\n",
              "      <th>Melinda</th>\n",
              "      <td>Hadlee</td>\n",
              "      <td>Female</td>\n",
              "      <td>34</td>\n",
              "      <td>1965-09-21</td>\n",
              "      <td>Financial Analyst</td>\n",
              "      <td>Financial Services</td>\n",
              "      <td>Affluent Customer</td>\n",
              "      <td>N</td>\n",
              "      <td>No</td>\n",
              "      <td>19</td>\n",
              "      <td>115 Montana Place</td>\n",
              "      <td>2093</td>\n",
              "      <td>NSW</td>\n",
              "      <td>Australia</td>\n",
              "      <td>9</td>\n",
              "    </tr>\n",
              "  </tbody>\n",
              "</table>\n",
              "</div>"
            ],
            "text/plain": [
              "            last_name  gender  past_3_years_bike_related_purchases        DOB  \\\n",
              "first_name                                                                      \n",
              "Chickie       Brister    Male                                   86 1957-07-12   \n",
              "Morly          Genery    Male                                   69 1970-03-22   \n",
              "Ardelis     Forrester  Female                                   10 1974-08-28   \n",
              "Lucine          Stutt  Female                                   64 1979-01-28   \n",
              "Melinda        Hadlee  Female                                   34 1965-09-21   \n",
              "\n",
              "                             job_title job_industry_category  \\\n",
              "first_name                                                     \n",
              "Chickie                General Manager         Manufacturing   \n",
              "Morly              Structural Engineer              Property   \n",
              "Ardelis         Senior Cost Accountant    Financial Services   \n",
              "Lucine      Account Representative III         Manufacturing   \n",
              "Melinda              Financial Analyst    Financial Services   \n",
              "\n",
              "               wealth_segment deceased_indicator owns_car  tenure  \\\n",
              "first_name                                                          \n",
              "Chickie         Mass Customer                  N      Yes      14   \n",
              "Morly           Mass Customer                  N       No      16   \n",
              "Ardelis     Affluent Customer                  N       No      10   \n",
              "Lucine      Affluent Customer                  N      Yes       5   \n",
              "Melinda     Affluent Customer                  N       No      19   \n",
              "\n",
              "                        address  postcode state    country  property_valuation  \n",
              "first_name                                                                      \n",
              "Chickie        45 Shopko Center      4500   QLD  Australia                   6  \n",
              "Morly         14 Mccormick Park      2113   NSW  Australia                  11  \n",
              "Ardelis     5 Colorado Crossing      3505   VIC  Australia                   5  \n",
              "Lucine       207 Annamark Plaza      4814   QLD  Australia                   1  \n",
              "Melinda       115 Montana Place      2093   NSW  Australia                   9  "
            ]
          },
          "metadata": {},
          "execution_count": 35
        }
      ]
    },
    {
      "cell_type": "code",
      "metadata": {
        "colab": {
          "base_uri": "https://localhost:8080/"
        },
        "id": "10ee039f",
        "outputId": "78620fc7-49fc-418a-f42f-5ccd1bd53d99"
      },
      "source": [
        "new_cust.shape"
      ],
      "id": "10ee039f",
      "execution_count": 36,
      "outputs": [
        {
          "output_type": "execute_result",
          "data": {
            "text/plain": [
              "(1000, 15)"
            ]
          },
          "metadata": {},
          "execution_count": 36
        }
      ]
    },
    {
      "cell_type": "code",
      "metadata": {
        "colab": {
          "base_uri": "https://localhost:8080/"
        },
        "id": "e3752c7a",
        "outputId": "e3817a28-661d-477c-871e-45fb6bfff9cb"
      },
      "source": [
        "new_cust.columns[16:21]"
      ],
      "id": "e3752c7a",
      "execution_count": 37,
      "outputs": [
        {
          "output_type": "execute_result",
          "data": {
            "text/plain": [
              "Index([], dtype='object')"
            ]
          },
          "metadata": {},
          "execution_count": 37
        }
      ]
    },
    {
      "cell_type": "code",
      "metadata": {
        "colab": {
          "base_uri": "https://localhost:8080/",
          "height": 788
        },
        "id": "031aec26",
        "outputId": "4f7be7cf-9266-4eec-d033-4ba5e5432a04"
      },
      "source": [
        "new_cust"
      ],
      "id": "031aec26",
      "execution_count": 38,
      "outputs": [
        {
          "output_type": "execute_result",
          "data": {
            "text/html": [
              "<div>\n",
              "<style scoped>\n",
              "    .dataframe tbody tr th:only-of-type {\n",
              "        vertical-align: middle;\n",
              "    }\n",
              "\n",
              "    .dataframe tbody tr th {\n",
              "        vertical-align: top;\n",
              "    }\n",
              "\n",
              "    .dataframe thead th {\n",
              "        text-align: right;\n",
              "    }\n",
              "</style>\n",
              "<table border=\"1\" class=\"dataframe\">\n",
              "  <thead>\n",
              "    <tr style=\"text-align: right;\">\n",
              "      <th></th>\n",
              "      <th>last_name</th>\n",
              "      <th>gender</th>\n",
              "      <th>past_3_years_bike_related_purchases</th>\n",
              "      <th>DOB</th>\n",
              "      <th>job_title</th>\n",
              "      <th>job_industry_category</th>\n",
              "      <th>wealth_segment</th>\n",
              "      <th>deceased_indicator</th>\n",
              "      <th>owns_car</th>\n",
              "      <th>tenure</th>\n",
              "      <th>address</th>\n",
              "      <th>postcode</th>\n",
              "      <th>state</th>\n",
              "      <th>country</th>\n",
              "      <th>property_valuation</th>\n",
              "    </tr>\n",
              "    <tr>\n",
              "      <th>first_name</th>\n",
              "      <th></th>\n",
              "      <th></th>\n",
              "      <th></th>\n",
              "      <th></th>\n",
              "      <th></th>\n",
              "      <th></th>\n",
              "      <th></th>\n",
              "      <th></th>\n",
              "      <th></th>\n",
              "      <th></th>\n",
              "      <th></th>\n",
              "      <th></th>\n",
              "      <th></th>\n",
              "      <th></th>\n",
              "      <th></th>\n",
              "    </tr>\n",
              "  </thead>\n",
              "  <tbody>\n",
              "    <tr>\n",
              "      <th>Chickie</th>\n",
              "      <td>Brister</td>\n",
              "      <td>Male</td>\n",
              "      <td>86</td>\n",
              "      <td>1957-07-12</td>\n",
              "      <td>General Manager</td>\n",
              "      <td>Manufacturing</td>\n",
              "      <td>Mass Customer</td>\n",
              "      <td>N</td>\n",
              "      <td>Yes</td>\n",
              "      <td>14</td>\n",
              "      <td>45 Shopko Center</td>\n",
              "      <td>4500</td>\n",
              "      <td>QLD</td>\n",
              "      <td>Australia</td>\n",
              "      <td>6</td>\n",
              "    </tr>\n",
              "    <tr>\n",
              "      <th>Morly</th>\n",
              "      <td>Genery</td>\n",
              "      <td>Male</td>\n",
              "      <td>69</td>\n",
              "      <td>1970-03-22</td>\n",
              "      <td>Structural Engineer</td>\n",
              "      <td>Property</td>\n",
              "      <td>Mass Customer</td>\n",
              "      <td>N</td>\n",
              "      <td>No</td>\n",
              "      <td>16</td>\n",
              "      <td>14 Mccormick Park</td>\n",
              "      <td>2113</td>\n",
              "      <td>NSW</td>\n",
              "      <td>Australia</td>\n",
              "      <td>11</td>\n",
              "    </tr>\n",
              "    <tr>\n",
              "      <th>Ardelis</th>\n",
              "      <td>Forrester</td>\n",
              "      <td>Female</td>\n",
              "      <td>10</td>\n",
              "      <td>1974-08-28</td>\n",
              "      <td>Senior Cost Accountant</td>\n",
              "      <td>Financial Services</td>\n",
              "      <td>Affluent Customer</td>\n",
              "      <td>N</td>\n",
              "      <td>No</td>\n",
              "      <td>10</td>\n",
              "      <td>5 Colorado Crossing</td>\n",
              "      <td>3505</td>\n",
              "      <td>VIC</td>\n",
              "      <td>Australia</td>\n",
              "      <td>5</td>\n",
              "    </tr>\n",
              "    <tr>\n",
              "      <th>Lucine</th>\n",
              "      <td>Stutt</td>\n",
              "      <td>Female</td>\n",
              "      <td>64</td>\n",
              "      <td>1979-01-28</td>\n",
              "      <td>Account Representative III</td>\n",
              "      <td>Manufacturing</td>\n",
              "      <td>Affluent Customer</td>\n",
              "      <td>N</td>\n",
              "      <td>Yes</td>\n",
              "      <td>5</td>\n",
              "      <td>207 Annamark Plaza</td>\n",
              "      <td>4814</td>\n",
              "      <td>QLD</td>\n",
              "      <td>Australia</td>\n",
              "      <td>1</td>\n",
              "    </tr>\n",
              "    <tr>\n",
              "      <th>Melinda</th>\n",
              "      <td>Hadlee</td>\n",
              "      <td>Female</td>\n",
              "      <td>34</td>\n",
              "      <td>1965-09-21</td>\n",
              "      <td>Financial Analyst</td>\n",
              "      <td>Financial Services</td>\n",
              "      <td>Affluent Customer</td>\n",
              "      <td>N</td>\n",
              "      <td>No</td>\n",
              "      <td>19</td>\n",
              "      <td>115 Montana Place</td>\n",
              "      <td>2093</td>\n",
              "      <td>NSW</td>\n",
              "      <td>Australia</td>\n",
              "      <td>9</td>\n",
              "    </tr>\n",
              "    <tr>\n",
              "      <th>...</th>\n",
              "      <td>...</td>\n",
              "      <td>...</td>\n",
              "      <td>...</td>\n",
              "      <td>...</td>\n",
              "      <td>...</td>\n",
              "      <td>...</td>\n",
              "      <td>...</td>\n",
              "      <td>...</td>\n",
              "      <td>...</td>\n",
              "      <td>...</td>\n",
              "      <td>...</td>\n",
              "      <td>...</td>\n",
              "      <td>...</td>\n",
              "      <td>...</td>\n",
              "      <td>...</td>\n",
              "    </tr>\n",
              "    <tr>\n",
              "      <th>Ferdinand</th>\n",
              "      <td>Romanetti</td>\n",
              "      <td>Male</td>\n",
              "      <td>60</td>\n",
              "      <td>1959-10-07</td>\n",
              "      <td>Paralegal</td>\n",
              "      <td>Financial Services</td>\n",
              "      <td>Affluent Customer</td>\n",
              "      <td>N</td>\n",
              "      <td>No</td>\n",
              "      <td>9</td>\n",
              "      <td>2 Sloan Way</td>\n",
              "      <td>2200</td>\n",
              "      <td>NSW</td>\n",
              "      <td>Australia</td>\n",
              "      <td>7</td>\n",
              "    </tr>\n",
              "    <tr>\n",
              "      <th>Burk</th>\n",
              "      <td>Wortley</td>\n",
              "      <td>Male</td>\n",
              "      <td>22</td>\n",
              "      <td>2001-10-17</td>\n",
              "      <td>Senior Sales Associate</td>\n",
              "      <td>Health</td>\n",
              "      <td>Mass Customer</td>\n",
              "      <td>N</td>\n",
              "      <td>No</td>\n",
              "      <td>6</td>\n",
              "      <td>04 Union Crossing</td>\n",
              "      <td>2196</td>\n",
              "      <td>NSW</td>\n",
              "      <td>Australia</td>\n",
              "      <td>10</td>\n",
              "    </tr>\n",
              "    <tr>\n",
              "      <th>Melloney</th>\n",
              "      <td>Temby</td>\n",
              "      <td>Female</td>\n",
              "      <td>17</td>\n",
              "      <td>1954-10-05</td>\n",
              "      <td>Budget/Accounting Analyst IV</td>\n",
              "      <td>Financial Services</td>\n",
              "      <td>Affluent Customer</td>\n",
              "      <td>N</td>\n",
              "      <td>Yes</td>\n",
              "      <td>15</td>\n",
              "      <td>33475 Fair Oaks Junction</td>\n",
              "      <td>4702</td>\n",
              "      <td>QLD</td>\n",
              "      <td>Australia</td>\n",
              "      <td>2</td>\n",
              "    </tr>\n",
              "    <tr>\n",
              "      <th>Dickie</th>\n",
              "      <td>Cubbini</td>\n",
              "      <td>Male</td>\n",
              "      <td>30</td>\n",
              "      <td>1952-12-17</td>\n",
              "      <td>Financial Advisor</td>\n",
              "      <td>Financial Services</td>\n",
              "      <td>Mass Customer</td>\n",
              "      <td>N</td>\n",
              "      <td>Yes</td>\n",
              "      <td>19</td>\n",
              "      <td>57666 Victoria Way</td>\n",
              "      <td>4215</td>\n",
              "      <td>QLD</td>\n",
              "      <td>Australia</td>\n",
              "      <td>2</td>\n",
              "    </tr>\n",
              "    <tr>\n",
              "      <th>Sylas</th>\n",
              "      <td>Duffill</td>\n",
              "      <td>Male</td>\n",
              "      <td>56</td>\n",
              "      <td>1955-10-02</td>\n",
              "      <td>Staff Accountant IV</td>\n",
              "      <td>Property</td>\n",
              "      <td>Mass Customer</td>\n",
              "      <td>N</td>\n",
              "      <td>Yes</td>\n",
              "      <td>14</td>\n",
              "      <td>21875 Grover Drive</td>\n",
              "      <td>2010</td>\n",
              "      <td>NSW</td>\n",
              "      <td>Australia</td>\n",
              "      <td>9</td>\n",
              "    </tr>\n",
              "  </tbody>\n",
              "</table>\n",
              "<p>1000 rows × 15 columns</p>\n",
              "</div>"
            ],
            "text/plain": [
              "            last_name  gender  past_3_years_bike_related_purchases        DOB  \\\n",
              "first_name                                                                      \n",
              "Chickie       Brister    Male                                   86 1957-07-12   \n",
              "Morly          Genery    Male                                   69 1970-03-22   \n",
              "Ardelis     Forrester  Female                                   10 1974-08-28   \n",
              "Lucine          Stutt  Female                                   64 1979-01-28   \n",
              "Melinda        Hadlee  Female                                   34 1965-09-21   \n",
              "...               ...     ...                                  ...        ...   \n",
              "Ferdinand   Romanetti    Male                                   60 1959-10-07   \n",
              "Burk          Wortley    Male                                   22 2001-10-17   \n",
              "Melloney        Temby  Female                                   17 1954-10-05   \n",
              "Dickie        Cubbini    Male                                   30 1952-12-17   \n",
              "Sylas         Duffill    Male                                   56 1955-10-02   \n",
              "\n",
              "                               job_title job_industry_category  \\\n",
              "first_name                                                       \n",
              "Chickie                  General Manager         Manufacturing   \n",
              "Morly                Structural Engineer              Property   \n",
              "Ardelis           Senior Cost Accountant    Financial Services   \n",
              "Lucine        Account Representative III         Manufacturing   \n",
              "Melinda                Financial Analyst    Financial Services   \n",
              "...                                  ...                   ...   \n",
              "Ferdinand                      Paralegal    Financial Services   \n",
              "Burk              Senior Sales Associate                Health   \n",
              "Melloney    Budget/Accounting Analyst IV    Financial Services   \n",
              "Dickie                 Financial Advisor    Financial Services   \n",
              "Sylas                Staff Accountant IV              Property   \n",
              "\n",
              "               wealth_segment deceased_indicator owns_car  tenure  \\\n",
              "first_name                                                          \n",
              "Chickie         Mass Customer                  N      Yes      14   \n",
              "Morly           Mass Customer                  N       No      16   \n",
              "Ardelis     Affluent Customer                  N       No      10   \n",
              "Lucine      Affluent Customer                  N      Yes       5   \n",
              "Melinda     Affluent Customer                  N       No      19   \n",
              "...                       ...                ...      ...     ...   \n",
              "Ferdinand   Affluent Customer                  N       No       9   \n",
              "Burk            Mass Customer                  N       No       6   \n",
              "Melloney    Affluent Customer                  N      Yes      15   \n",
              "Dickie          Mass Customer                  N      Yes      19   \n",
              "Sylas           Mass Customer                  N      Yes      14   \n",
              "\n",
              "                             address  postcode state    country  \\\n",
              "first_name                                                        \n",
              "Chickie             45 Shopko Center      4500   QLD  Australia   \n",
              "Morly              14 Mccormick Park      2113   NSW  Australia   \n",
              "Ardelis          5 Colorado Crossing      3505   VIC  Australia   \n",
              "Lucine            207 Annamark Plaza      4814   QLD  Australia   \n",
              "Melinda            115 Montana Place      2093   NSW  Australia   \n",
              "...                              ...       ...   ...        ...   \n",
              "Ferdinand                2 Sloan Way      2200   NSW  Australia   \n",
              "Burk               04 Union Crossing      2196   NSW  Australia   \n",
              "Melloney    33475 Fair Oaks Junction      4702   QLD  Australia   \n",
              "Dickie            57666 Victoria Way      4215   QLD  Australia   \n",
              "Sylas             21875 Grover Drive      2010   NSW  Australia   \n",
              "\n",
              "            property_valuation  \n",
              "first_name                      \n",
              "Chickie                      6  \n",
              "Morly                       11  \n",
              "Ardelis                      5  \n",
              "Lucine                       1  \n",
              "Melinda                      9  \n",
              "...                        ...  \n",
              "Ferdinand                    7  \n",
              "Burk                        10  \n",
              "Melloney                     2  \n",
              "Dickie                       2  \n",
              "Sylas                        9  \n",
              "\n",
              "[1000 rows x 15 columns]"
            ]
          },
          "metadata": {},
          "execution_count": 38
        }
      ]
    },
    {
      "cell_type": "code",
      "metadata": {
        "colab": {
          "base_uri": "https://localhost:8080/"
        },
        "id": "4b06c8c6",
        "outputId": "a5990f5b-da2a-471c-d8b5-d41b558d57ac"
      },
      "source": [
        "new_cust.job_industry_category.unique()"
      ],
      "id": "4b06c8c6",
      "execution_count": 39,
      "outputs": [
        {
          "output_type": "execute_result",
          "data": {
            "text/plain": [
              "array(['Manufacturing', 'Property', 'Financial Services', 'Entertainment',\n",
              "       'Retail', 'IT', 'Telecommunications', 'Health', nan, 'Argiculture'],\n",
              "      dtype=object)"
            ]
          },
          "metadata": {},
          "execution_count": 39
        }
      ]
    },
    {
      "cell_type": "code",
      "metadata": {
        "colab": {
          "base_uri": "https://localhost:8080/"
        },
        "id": "13ec3dfe",
        "outputId": "5891eb1e-9bbf-4b37-91e0-44ed71ca0564"
      },
      "source": [
        "new_cust.dtypes"
      ],
      "id": "13ec3dfe",
      "execution_count": 40,
      "outputs": [
        {
          "output_type": "execute_result",
          "data": {
            "text/plain": [
              "last_name                                      object\n",
              "gender                                         object\n",
              "past_3_years_bike_related_purchases             int64\n",
              "DOB                                    datetime64[ns]\n",
              "job_title                                      object\n",
              "job_industry_category                          object\n",
              "wealth_segment                                 object\n",
              "deceased_indicator                             object\n",
              "owns_car                                       object\n",
              "tenure                                          int64\n",
              "address                                        object\n",
              "postcode                                        int64\n",
              "state                                          object\n",
              "country                                        object\n",
              "property_valuation                              int64\n",
              "dtype: object"
            ]
          },
          "metadata": {},
          "execution_count": 40
        }
      ]
    },
    {
      "cell_type": "code",
      "metadata": {
        "id": "0ad1425f"
      },
      "source": [
        "new_cust.rename({\"past_3_years_bike_related_purchases\":'other_purchases',\"job_industry_category\":\"job_industry\"},axis = 1,inplace=True)"
      ],
      "id": "0ad1425f",
      "execution_count": 41,
      "outputs": []
    },
    {
      "cell_type": "code",
      "metadata": {
        "id": "bf22b85f"
      },
      "source": [
        "new_cust = new_cust.astype({\"other_purchases\":int,\"tenure\":int,\"property_valuation\" :int})"
      ],
      "id": "bf22b85f",
      "execution_count": 42,
      "outputs": []
    },
    {
      "cell_type": "code",
      "metadata": {
        "colab": {
          "base_uri": "https://localhost:8080/",
          "height": 431
        },
        "id": "35f62ca1",
        "outputId": "4483c26c-63f7-4214-c02c-7631492d9d02"
      },
      "source": [
        "new_cust.head()"
      ],
      "id": "35f62ca1",
      "execution_count": 43,
      "outputs": [
        {
          "output_type": "execute_result",
          "data": {
            "text/html": [
              "<div>\n",
              "<style scoped>\n",
              "    .dataframe tbody tr th:only-of-type {\n",
              "        vertical-align: middle;\n",
              "    }\n",
              "\n",
              "    .dataframe tbody tr th {\n",
              "        vertical-align: top;\n",
              "    }\n",
              "\n",
              "    .dataframe thead th {\n",
              "        text-align: right;\n",
              "    }\n",
              "</style>\n",
              "<table border=\"1\" class=\"dataframe\">\n",
              "  <thead>\n",
              "    <tr style=\"text-align: right;\">\n",
              "      <th></th>\n",
              "      <th>last_name</th>\n",
              "      <th>gender</th>\n",
              "      <th>other_purchases</th>\n",
              "      <th>DOB</th>\n",
              "      <th>job_title</th>\n",
              "      <th>job_industry</th>\n",
              "      <th>wealth_segment</th>\n",
              "      <th>deceased_indicator</th>\n",
              "      <th>owns_car</th>\n",
              "      <th>tenure</th>\n",
              "      <th>address</th>\n",
              "      <th>postcode</th>\n",
              "      <th>state</th>\n",
              "      <th>country</th>\n",
              "      <th>property_valuation</th>\n",
              "    </tr>\n",
              "    <tr>\n",
              "      <th>first_name</th>\n",
              "      <th></th>\n",
              "      <th></th>\n",
              "      <th></th>\n",
              "      <th></th>\n",
              "      <th></th>\n",
              "      <th></th>\n",
              "      <th></th>\n",
              "      <th></th>\n",
              "      <th></th>\n",
              "      <th></th>\n",
              "      <th></th>\n",
              "      <th></th>\n",
              "      <th></th>\n",
              "      <th></th>\n",
              "      <th></th>\n",
              "    </tr>\n",
              "  </thead>\n",
              "  <tbody>\n",
              "    <tr>\n",
              "      <th>Chickie</th>\n",
              "      <td>Brister</td>\n",
              "      <td>Male</td>\n",
              "      <td>86</td>\n",
              "      <td>1957-07-12</td>\n",
              "      <td>General Manager</td>\n",
              "      <td>Manufacturing</td>\n",
              "      <td>Mass Customer</td>\n",
              "      <td>N</td>\n",
              "      <td>Yes</td>\n",
              "      <td>14</td>\n",
              "      <td>45 Shopko Center</td>\n",
              "      <td>4500</td>\n",
              "      <td>QLD</td>\n",
              "      <td>Australia</td>\n",
              "      <td>6</td>\n",
              "    </tr>\n",
              "    <tr>\n",
              "      <th>Morly</th>\n",
              "      <td>Genery</td>\n",
              "      <td>Male</td>\n",
              "      <td>69</td>\n",
              "      <td>1970-03-22</td>\n",
              "      <td>Structural Engineer</td>\n",
              "      <td>Property</td>\n",
              "      <td>Mass Customer</td>\n",
              "      <td>N</td>\n",
              "      <td>No</td>\n",
              "      <td>16</td>\n",
              "      <td>14 Mccormick Park</td>\n",
              "      <td>2113</td>\n",
              "      <td>NSW</td>\n",
              "      <td>Australia</td>\n",
              "      <td>11</td>\n",
              "    </tr>\n",
              "    <tr>\n",
              "      <th>Ardelis</th>\n",
              "      <td>Forrester</td>\n",
              "      <td>Female</td>\n",
              "      <td>10</td>\n",
              "      <td>1974-08-28</td>\n",
              "      <td>Senior Cost Accountant</td>\n",
              "      <td>Financial Services</td>\n",
              "      <td>Affluent Customer</td>\n",
              "      <td>N</td>\n",
              "      <td>No</td>\n",
              "      <td>10</td>\n",
              "      <td>5 Colorado Crossing</td>\n",
              "      <td>3505</td>\n",
              "      <td>VIC</td>\n",
              "      <td>Australia</td>\n",
              "      <td>5</td>\n",
              "    </tr>\n",
              "    <tr>\n",
              "      <th>Lucine</th>\n",
              "      <td>Stutt</td>\n",
              "      <td>Female</td>\n",
              "      <td>64</td>\n",
              "      <td>1979-01-28</td>\n",
              "      <td>Account Representative III</td>\n",
              "      <td>Manufacturing</td>\n",
              "      <td>Affluent Customer</td>\n",
              "      <td>N</td>\n",
              "      <td>Yes</td>\n",
              "      <td>5</td>\n",
              "      <td>207 Annamark Plaza</td>\n",
              "      <td>4814</td>\n",
              "      <td>QLD</td>\n",
              "      <td>Australia</td>\n",
              "      <td>1</td>\n",
              "    </tr>\n",
              "    <tr>\n",
              "      <th>Melinda</th>\n",
              "      <td>Hadlee</td>\n",
              "      <td>Female</td>\n",
              "      <td>34</td>\n",
              "      <td>1965-09-21</td>\n",
              "      <td>Financial Analyst</td>\n",
              "      <td>Financial Services</td>\n",
              "      <td>Affluent Customer</td>\n",
              "      <td>N</td>\n",
              "      <td>No</td>\n",
              "      <td>19</td>\n",
              "      <td>115 Montana Place</td>\n",
              "      <td>2093</td>\n",
              "      <td>NSW</td>\n",
              "      <td>Australia</td>\n",
              "      <td>9</td>\n",
              "    </tr>\n",
              "  </tbody>\n",
              "</table>\n",
              "</div>"
            ],
            "text/plain": [
              "            last_name  gender  other_purchases        DOB  \\\n",
              "first_name                                                  \n",
              "Chickie       Brister    Male               86 1957-07-12   \n",
              "Morly          Genery    Male               69 1970-03-22   \n",
              "Ardelis     Forrester  Female               10 1974-08-28   \n",
              "Lucine          Stutt  Female               64 1979-01-28   \n",
              "Melinda        Hadlee  Female               34 1965-09-21   \n",
              "\n",
              "                             job_title        job_industry     wealth_segment  \\\n",
              "first_name                                                                      \n",
              "Chickie                General Manager       Manufacturing      Mass Customer   \n",
              "Morly              Structural Engineer            Property      Mass Customer   \n",
              "Ardelis         Senior Cost Accountant  Financial Services  Affluent Customer   \n",
              "Lucine      Account Representative III       Manufacturing  Affluent Customer   \n",
              "Melinda              Financial Analyst  Financial Services  Affluent Customer   \n",
              "\n",
              "           deceased_indicator owns_car  tenure              address  postcode  \\\n",
              "first_name                                                                      \n",
              "Chickie                     N      Yes      14     45 Shopko Center      4500   \n",
              "Morly                       N       No      16    14 Mccormick Park      2113   \n",
              "Ardelis                     N       No      10  5 Colorado Crossing      3505   \n",
              "Lucine                      N      Yes       5   207 Annamark Plaza      4814   \n",
              "Melinda                     N       No      19    115 Montana Place      2093   \n",
              "\n",
              "           state    country  property_valuation  \n",
              "first_name                                       \n",
              "Chickie      QLD  Australia                   6  \n",
              "Morly        NSW  Australia                  11  \n",
              "Ardelis      VIC  Australia                   5  \n",
              "Lucine       QLD  Australia                   1  \n",
              "Melinda      NSW  Australia                   9  "
            ]
          },
          "metadata": {},
          "execution_count": 43
        }
      ]
    },
    {
      "cell_type": "code",
      "metadata": {
        "colab": {
          "base_uri": "https://localhost:8080/"
        },
        "id": "da7489b7",
        "outputId": "3109f039-402d-4d55-9981-5b5eb8539884"
      },
      "source": [
        "new_cust.isnull().sum()"
      ],
      "id": "da7489b7",
      "execution_count": 44,
      "outputs": [
        {
          "output_type": "execute_result",
          "data": {
            "text/plain": [
              "last_name              29\n",
              "gender                  0\n",
              "other_purchases         0\n",
              "DOB                    17\n",
              "job_title             106\n",
              "job_industry          165\n",
              "wealth_segment          0\n",
              "deceased_indicator      0\n",
              "owns_car                0\n",
              "tenure                  0\n",
              "address                 0\n",
              "postcode                0\n",
              "state                   0\n",
              "country                 0\n",
              "property_valuation      0\n",
              "dtype: int64"
            ]
          },
          "metadata": {},
          "execution_count": 44
        }
      ]
    },
    {
      "cell_type": "code",
      "metadata": {
        "id": "feeb821f"
      },
      "source": [
        "#if person dont have last name fill it with \".\" or we can fill it with first name\n",
        "new_cust.last_name = new_cust.last_name.fillna(\".\")"
      ],
      "id": "feeb821f",
      "execution_count": 45,
      "outputs": []
    },
    {
      "cell_type": "code",
      "metadata": {
        "colab": {
          "base_uri": "https://localhost:8080/"
        },
        "id": "85b6a6c8",
        "outputId": "47b764df-9456-4b95-a0e3-5a0b9be2db65"
      },
      "source": [
        "new_cust.job_title.value_counts()"
      ],
      "id": "85b6a6c8",
      "execution_count": 46,
      "outputs": [
        {
          "output_type": "execute_result",
          "data": {
            "text/plain": [
              "Associate Professor             15\n",
              "Environmental Tech              14\n",
              "Software Consultant             14\n",
              "Chief Design Engineer           13\n",
              "Assistant Media Planner         12\n",
              "                                ..\n",
              "Automation Specialist IV         1\n",
              "Human Resources Assistant IV     1\n",
              "Engineer II                      1\n",
              "Staff Accountant II              1\n",
              "Software Test Engineer II        1\n",
              "Name: job_title, Length: 184, dtype: int64"
            ]
          },
          "metadata": {},
          "execution_count": 46
        }
      ]
    },
    {
      "cell_type": "code",
      "metadata": {
        "id": "ecc094f4"
      },
      "source": [
        "new_cust.DOB = pd.to_datetime(new_cust.DOB)"
      ],
      "id": "ecc094f4",
      "execution_count": 47,
      "outputs": []
    },
    {
      "cell_type": "code",
      "metadata": {
        "scrolled": true,
        "colab": {
          "base_uri": "https://localhost:8080/"
        },
        "id": "9f48e510",
        "outputId": "6638f0f6-77f8-4b50-862c-12d990273841"
      },
      "source": [
        "pd.to_datetime(new_cust.DOB).dt.year.mode()"
      ],
      "id": "9f48e510",
      "execution_count": 48,
      "outputs": [
        {
          "output_type": "execute_result",
          "data": {
            "text/plain": [
              "0    1974.0\n",
              "dtype: float64"
            ]
          },
          "metadata": {},
          "execution_count": 48
        }
      ]
    },
    {
      "cell_type": "code",
      "metadata": {
        "id": "365ec4fe"
      },
      "source": [
        "new_cust.DOB.fillna('1974-01-01',inplace = True)"
      ],
      "id": "365ec4fe",
      "execution_count": 49,
      "outputs": []
    },
    {
      "cell_type": "code",
      "metadata": {
        "id": "e87814da"
      },
      "source": [
        "new_cust[\"year\"] = new_cust.DOB.apply(lambda x : str(x).split(\"-\")[0])"
      ],
      "id": "e87814da",
      "execution_count": 50,
      "outputs": []
    },
    {
      "cell_type": "code",
      "metadata": {
        "scrolled": true,
        "colab": {
          "base_uri": "https://localhost:8080/"
        },
        "id": "34239a6d",
        "outputId": "bb83af84-2242-49a3-eb8a-60bef2bd019b"
      },
      "source": [
        "new_cust.year.sort_values()"
      ],
      "id": "34239a6d",
      "execution_count": 51,
      "outputs": [
        {
          "output_type": "execute_result",
          "data": {
            "text/plain": [
              "first_name\n",
              "Letizia      1938\n",
              "Kippar       1938\n",
              "Zachariah    1938\n",
              "Anthony      1938\n",
              "Alleen       1938\n",
              "             ... \n",
              "Isak         2001\n",
              "Tomkin       2001\n",
              "Lura         2002\n",
              "Giulietta    2002\n",
              "Simmonds     2002\n",
              "Name: year, Length: 1000, dtype: object"
            ]
          },
          "metadata": {},
          "execution_count": 51
        }
      ]
    },
    {
      "cell_type": "code",
      "metadata": {
        "id": "1786fbc1"
      },
      "source": [
        "new_cust.dropna(inplace=True)"
      ],
      "id": "1786fbc1",
      "execution_count": 52,
      "outputs": []
    },
    {
      "cell_type": "code",
      "metadata": {
        "colab": {
          "base_uri": "https://localhost:8080/"
        },
        "id": "8174b5e4",
        "outputId": "c7f78812-2db8-4f5e-d714-2e0bcd298b18"
      },
      "source": [
        "new_cust.isna().sum()"
      ],
      "id": "8174b5e4",
      "execution_count": 53,
      "outputs": [
        {
          "output_type": "execute_result",
          "data": {
            "text/plain": [
              "last_name             0\n",
              "gender                0\n",
              "other_purchases       0\n",
              "DOB                   0\n",
              "job_title             0\n",
              "job_industry          0\n",
              "wealth_segment        0\n",
              "deceased_indicator    0\n",
              "owns_car              0\n",
              "tenure                0\n",
              "address               0\n",
              "postcode              0\n",
              "state                 0\n",
              "country               0\n",
              "property_valuation    0\n",
              "year                  0\n",
              "dtype: int64"
            ]
          },
          "metadata": {},
          "execution_count": 53
        }
      ]
    },
    {
      "cell_type": "markdown",
      "metadata": {
        "id": "f279f68e"
      },
      "source": [
        "##**Customer Demo sheet**"
      ],
      "id": "f279f68e"
    },
    {
      "cell_type": "code",
      "metadata": {
        "colab": {
          "base_uri": "https://localhost:8080/",
          "height": 0
        },
        "id": "8457261b",
        "outputId": "8cd4faa5-3df1-422a-e0f2-066999c4e7c6"
      },
      "source": [
        "cust_demo = pd.read_excel(\"/content/KPMG_VI_New_raw_data_update_final.xlsx\",sheet_name='CustomerDemographic',header=1,index_col=0)\n",
        "cust_demo.head()"
      ],
      "id": "8457261b",
      "execution_count": 54,
      "outputs": [
        {
          "output_type": "execute_result",
          "data": {
            "text/html": [
              "<div>\n",
              "<style scoped>\n",
              "    .dataframe tbody tr th:only-of-type {\n",
              "        vertical-align: middle;\n",
              "    }\n",
              "\n",
              "    .dataframe tbody tr th {\n",
              "        vertical-align: top;\n",
              "    }\n",
              "\n",
              "    .dataframe thead th {\n",
              "        text-align: right;\n",
              "    }\n",
              "</style>\n",
              "<table border=\"1\" class=\"dataframe\">\n",
              "  <thead>\n",
              "    <tr style=\"text-align: right;\">\n",
              "      <th></th>\n",
              "      <th>first_name</th>\n",
              "      <th>last_name</th>\n",
              "      <th>gender</th>\n",
              "      <th>past_3_years_bike_related_purchases</th>\n",
              "      <th>DOB</th>\n",
              "      <th>job_title</th>\n",
              "      <th>job_industry_category</th>\n",
              "      <th>wealth_segment</th>\n",
              "      <th>deceased_indicator</th>\n",
              "      <th>default</th>\n",
              "      <th>owns_car</th>\n",
              "      <th>tenure</th>\n",
              "    </tr>\n",
              "    <tr>\n",
              "      <th>customer_id</th>\n",
              "      <th></th>\n",
              "      <th></th>\n",
              "      <th></th>\n",
              "      <th></th>\n",
              "      <th></th>\n",
              "      <th></th>\n",
              "      <th></th>\n",
              "      <th></th>\n",
              "      <th></th>\n",
              "      <th></th>\n",
              "      <th></th>\n",
              "      <th></th>\n",
              "    </tr>\n",
              "  </thead>\n",
              "  <tbody>\n",
              "    <tr>\n",
              "      <th>1</th>\n",
              "      <td>Laraine</td>\n",
              "      <td>Medendorp</td>\n",
              "      <td>F</td>\n",
              "      <td>93</td>\n",
              "      <td>1953-10-12</td>\n",
              "      <td>Executive Secretary</td>\n",
              "      <td>Health</td>\n",
              "      <td>Mass Customer</td>\n",
              "      <td>N</td>\n",
              "      <td>\"'</td>\n",
              "      <td>Yes</td>\n",
              "      <td>11.0</td>\n",
              "    </tr>\n",
              "    <tr>\n",
              "      <th>2</th>\n",
              "      <td>Eli</td>\n",
              "      <td>Bockman</td>\n",
              "      <td>Male</td>\n",
              "      <td>81</td>\n",
              "      <td>1980-12-16</td>\n",
              "      <td>Administrative Officer</td>\n",
              "      <td>Financial Services</td>\n",
              "      <td>Mass Customer</td>\n",
              "      <td>N</td>\n",
              "      <td>&lt;script&gt;alert('hi')&lt;/script&gt;</td>\n",
              "      <td>Yes</td>\n",
              "      <td>16.0</td>\n",
              "    </tr>\n",
              "    <tr>\n",
              "      <th>3</th>\n",
              "      <td>Arlin</td>\n",
              "      <td>Dearle</td>\n",
              "      <td>Male</td>\n",
              "      <td>61</td>\n",
              "      <td>1954-01-20</td>\n",
              "      <td>Recruiting Manager</td>\n",
              "      <td>Property</td>\n",
              "      <td>Mass Customer</td>\n",
              "      <td>N</td>\n",
              "      <td>2018-02-01 00:00:00</td>\n",
              "      <td>Yes</td>\n",
              "      <td>15.0</td>\n",
              "    </tr>\n",
              "    <tr>\n",
              "      <th>4</th>\n",
              "      <td>Talbot</td>\n",
              "      <td>NaN</td>\n",
              "      <td>Male</td>\n",
              "      <td>33</td>\n",
              "      <td>1961-10-03</td>\n",
              "      <td>NaN</td>\n",
              "      <td>IT</td>\n",
              "      <td>Mass Customer</td>\n",
              "      <td>N</td>\n",
              "      <td>() { _; } &gt;_[$($())] { touch /tmp/blns.shellsh...</td>\n",
              "      <td>No</td>\n",
              "      <td>7.0</td>\n",
              "    </tr>\n",
              "    <tr>\n",
              "      <th>5</th>\n",
              "      <td>Sheila-kathryn</td>\n",
              "      <td>Calton</td>\n",
              "      <td>Female</td>\n",
              "      <td>56</td>\n",
              "      <td>1977-05-13</td>\n",
              "      <td>Senior Editor</td>\n",
              "      <td>NaN</td>\n",
              "      <td>Affluent Customer</td>\n",
              "      <td>N</td>\n",
              "      <td>NIL</td>\n",
              "      <td>Yes</td>\n",
              "      <td>8.0</td>\n",
              "    </tr>\n",
              "  </tbody>\n",
              "</table>\n",
              "</div>"
            ],
            "text/plain": [
              "                 first_name  last_name  gender  \\\n",
              "customer_id                                      \n",
              "1                   Laraine  Medendorp       F   \n",
              "2                       Eli    Bockman    Male   \n",
              "3                     Arlin     Dearle    Male   \n",
              "4                    Talbot        NaN    Male   \n",
              "5            Sheila-kathryn     Calton  Female   \n",
              "\n",
              "             past_3_years_bike_related_purchases        DOB  \\\n",
              "customer_id                                                   \n",
              "1                                             93 1953-10-12   \n",
              "2                                             81 1980-12-16   \n",
              "3                                             61 1954-01-20   \n",
              "4                                             33 1961-10-03   \n",
              "5                                             56 1977-05-13   \n",
              "\n",
              "                          job_title job_industry_category     wealth_segment  \\\n",
              "customer_id                                                                    \n",
              "1               Executive Secretary                Health      Mass Customer   \n",
              "2            Administrative Officer    Financial Services      Mass Customer   \n",
              "3                Recruiting Manager              Property      Mass Customer   \n",
              "4                               NaN                    IT      Mass Customer   \n",
              "5                     Senior Editor                   NaN  Affluent Customer   \n",
              "\n",
              "            deceased_indicator  \\\n",
              "customer_id                      \n",
              "1                            N   \n",
              "2                            N   \n",
              "3                            N   \n",
              "4                            N   \n",
              "5                            N   \n",
              "\n",
              "                                                       default owns_car  \\\n",
              "customer_id                                                               \n",
              "1                                                           \"'      Yes   \n",
              "2                                 <script>alert('hi')</script>      Yes   \n",
              "3                                          2018-02-01 00:00:00      Yes   \n",
              "4            () { _; } >_[$($())] { touch /tmp/blns.shellsh...       No   \n",
              "5                                                          NIL      Yes   \n",
              "\n",
              "             tenure  \n",
              "customer_id          \n",
              "1              11.0  \n",
              "2              16.0  \n",
              "3              15.0  \n",
              "4               7.0  \n",
              "5               8.0  "
            ]
          },
          "metadata": {},
          "execution_count": 54
        }
      ]
    },
    {
      "cell_type": "code",
      "metadata": {
        "id": "7e3eae49"
      },
      "source": [
        "cust_demo.dropna(axis=1,how='all',inplace = True)"
      ],
      "id": "7e3eae49",
      "execution_count": 55,
      "outputs": []
    },
    {
      "cell_type": "code",
      "metadata": {
        "colab": {
          "base_uri": "https://localhost:8080/",
          "height": 0
        },
        "id": "bbb3bfbd",
        "outputId": "c323f849-786c-4b44-aa00-3131f3b270c7"
      },
      "source": [
        "cust_demo.head()"
      ],
      "id": "bbb3bfbd",
      "execution_count": 56,
      "outputs": [
        {
          "output_type": "execute_result",
          "data": {
            "text/html": [
              "<div>\n",
              "<style scoped>\n",
              "    .dataframe tbody tr th:only-of-type {\n",
              "        vertical-align: middle;\n",
              "    }\n",
              "\n",
              "    .dataframe tbody tr th {\n",
              "        vertical-align: top;\n",
              "    }\n",
              "\n",
              "    .dataframe thead th {\n",
              "        text-align: right;\n",
              "    }\n",
              "</style>\n",
              "<table border=\"1\" class=\"dataframe\">\n",
              "  <thead>\n",
              "    <tr style=\"text-align: right;\">\n",
              "      <th></th>\n",
              "      <th>first_name</th>\n",
              "      <th>last_name</th>\n",
              "      <th>gender</th>\n",
              "      <th>past_3_years_bike_related_purchases</th>\n",
              "      <th>DOB</th>\n",
              "      <th>job_title</th>\n",
              "      <th>job_industry_category</th>\n",
              "      <th>wealth_segment</th>\n",
              "      <th>deceased_indicator</th>\n",
              "      <th>default</th>\n",
              "      <th>owns_car</th>\n",
              "      <th>tenure</th>\n",
              "    </tr>\n",
              "    <tr>\n",
              "      <th>customer_id</th>\n",
              "      <th></th>\n",
              "      <th></th>\n",
              "      <th></th>\n",
              "      <th></th>\n",
              "      <th></th>\n",
              "      <th></th>\n",
              "      <th></th>\n",
              "      <th></th>\n",
              "      <th></th>\n",
              "      <th></th>\n",
              "      <th></th>\n",
              "      <th></th>\n",
              "    </tr>\n",
              "  </thead>\n",
              "  <tbody>\n",
              "    <tr>\n",
              "      <th>1</th>\n",
              "      <td>Laraine</td>\n",
              "      <td>Medendorp</td>\n",
              "      <td>F</td>\n",
              "      <td>93</td>\n",
              "      <td>1953-10-12</td>\n",
              "      <td>Executive Secretary</td>\n",
              "      <td>Health</td>\n",
              "      <td>Mass Customer</td>\n",
              "      <td>N</td>\n",
              "      <td>\"'</td>\n",
              "      <td>Yes</td>\n",
              "      <td>11.0</td>\n",
              "    </tr>\n",
              "    <tr>\n",
              "      <th>2</th>\n",
              "      <td>Eli</td>\n",
              "      <td>Bockman</td>\n",
              "      <td>Male</td>\n",
              "      <td>81</td>\n",
              "      <td>1980-12-16</td>\n",
              "      <td>Administrative Officer</td>\n",
              "      <td>Financial Services</td>\n",
              "      <td>Mass Customer</td>\n",
              "      <td>N</td>\n",
              "      <td>&lt;script&gt;alert('hi')&lt;/script&gt;</td>\n",
              "      <td>Yes</td>\n",
              "      <td>16.0</td>\n",
              "    </tr>\n",
              "    <tr>\n",
              "      <th>3</th>\n",
              "      <td>Arlin</td>\n",
              "      <td>Dearle</td>\n",
              "      <td>Male</td>\n",
              "      <td>61</td>\n",
              "      <td>1954-01-20</td>\n",
              "      <td>Recruiting Manager</td>\n",
              "      <td>Property</td>\n",
              "      <td>Mass Customer</td>\n",
              "      <td>N</td>\n",
              "      <td>2018-02-01 00:00:00</td>\n",
              "      <td>Yes</td>\n",
              "      <td>15.0</td>\n",
              "    </tr>\n",
              "    <tr>\n",
              "      <th>4</th>\n",
              "      <td>Talbot</td>\n",
              "      <td>NaN</td>\n",
              "      <td>Male</td>\n",
              "      <td>33</td>\n",
              "      <td>1961-10-03</td>\n",
              "      <td>NaN</td>\n",
              "      <td>IT</td>\n",
              "      <td>Mass Customer</td>\n",
              "      <td>N</td>\n",
              "      <td>() { _; } &gt;_[$($())] { touch /tmp/blns.shellsh...</td>\n",
              "      <td>No</td>\n",
              "      <td>7.0</td>\n",
              "    </tr>\n",
              "    <tr>\n",
              "      <th>5</th>\n",
              "      <td>Sheila-kathryn</td>\n",
              "      <td>Calton</td>\n",
              "      <td>Female</td>\n",
              "      <td>56</td>\n",
              "      <td>1977-05-13</td>\n",
              "      <td>Senior Editor</td>\n",
              "      <td>NaN</td>\n",
              "      <td>Affluent Customer</td>\n",
              "      <td>N</td>\n",
              "      <td>NIL</td>\n",
              "      <td>Yes</td>\n",
              "      <td>8.0</td>\n",
              "    </tr>\n",
              "  </tbody>\n",
              "</table>\n",
              "</div>"
            ],
            "text/plain": [
              "                 first_name  last_name  gender  \\\n",
              "customer_id                                      \n",
              "1                   Laraine  Medendorp       F   \n",
              "2                       Eli    Bockman    Male   \n",
              "3                     Arlin     Dearle    Male   \n",
              "4                    Talbot        NaN    Male   \n",
              "5            Sheila-kathryn     Calton  Female   \n",
              "\n",
              "             past_3_years_bike_related_purchases        DOB  \\\n",
              "customer_id                                                   \n",
              "1                                             93 1953-10-12   \n",
              "2                                             81 1980-12-16   \n",
              "3                                             61 1954-01-20   \n",
              "4                                             33 1961-10-03   \n",
              "5                                             56 1977-05-13   \n",
              "\n",
              "                          job_title job_industry_category     wealth_segment  \\\n",
              "customer_id                                                                    \n",
              "1               Executive Secretary                Health      Mass Customer   \n",
              "2            Administrative Officer    Financial Services      Mass Customer   \n",
              "3                Recruiting Manager              Property      Mass Customer   \n",
              "4                               NaN                    IT      Mass Customer   \n",
              "5                     Senior Editor                   NaN  Affluent Customer   \n",
              "\n",
              "            deceased_indicator  \\\n",
              "customer_id                      \n",
              "1                            N   \n",
              "2                            N   \n",
              "3                            N   \n",
              "4                            N   \n",
              "5                            N   \n",
              "\n",
              "                                                       default owns_car  \\\n",
              "customer_id                                                               \n",
              "1                                                           \"'      Yes   \n",
              "2                                 <script>alert('hi')</script>      Yes   \n",
              "3                                          2018-02-01 00:00:00      Yes   \n",
              "4            () { _; } >_[$($())] { touch /tmp/blns.shellsh...       No   \n",
              "5                                                          NIL      Yes   \n",
              "\n",
              "             tenure  \n",
              "customer_id          \n",
              "1              11.0  \n",
              "2              16.0  \n",
              "3              15.0  \n",
              "4               7.0  \n",
              "5               8.0  "
            ]
          },
          "metadata": {},
          "execution_count": 56
        }
      ]
    },
    {
      "cell_type": "code",
      "metadata": {
        "colab": {
          "base_uri": "https://localhost:8080/",
          "height": 0
        },
        "id": "2d2a4b70",
        "outputId": "cdc43780-4ba9-4fe5-e872-2bccf57af95c"
      },
      "source": [
        "cust_demo = cust_demo.loc[:,cust_demo.columns.notnull()]\n",
        "cust_demo.head()"
      ],
      "id": "2d2a4b70",
      "execution_count": 57,
      "outputs": [
        {
          "output_type": "execute_result",
          "data": {
            "text/html": [
              "<div>\n",
              "<style scoped>\n",
              "    .dataframe tbody tr th:only-of-type {\n",
              "        vertical-align: middle;\n",
              "    }\n",
              "\n",
              "    .dataframe tbody tr th {\n",
              "        vertical-align: top;\n",
              "    }\n",
              "\n",
              "    .dataframe thead th {\n",
              "        text-align: right;\n",
              "    }\n",
              "</style>\n",
              "<table border=\"1\" class=\"dataframe\">\n",
              "  <thead>\n",
              "    <tr style=\"text-align: right;\">\n",
              "      <th></th>\n",
              "      <th>first_name</th>\n",
              "      <th>last_name</th>\n",
              "      <th>gender</th>\n",
              "      <th>past_3_years_bike_related_purchases</th>\n",
              "      <th>DOB</th>\n",
              "      <th>job_title</th>\n",
              "      <th>job_industry_category</th>\n",
              "      <th>wealth_segment</th>\n",
              "      <th>deceased_indicator</th>\n",
              "      <th>default</th>\n",
              "      <th>owns_car</th>\n",
              "      <th>tenure</th>\n",
              "    </tr>\n",
              "    <tr>\n",
              "      <th>customer_id</th>\n",
              "      <th></th>\n",
              "      <th></th>\n",
              "      <th></th>\n",
              "      <th></th>\n",
              "      <th></th>\n",
              "      <th></th>\n",
              "      <th></th>\n",
              "      <th></th>\n",
              "      <th></th>\n",
              "      <th></th>\n",
              "      <th></th>\n",
              "      <th></th>\n",
              "    </tr>\n",
              "  </thead>\n",
              "  <tbody>\n",
              "    <tr>\n",
              "      <th>1</th>\n",
              "      <td>Laraine</td>\n",
              "      <td>Medendorp</td>\n",
              "      <td>F</td>\n",
              "      <td>93</td>\n",
              "      <td>1953-10-12</td>\n",
              "      <td>Executive Secretary</td>\n",
              "      <td>Health</td>\n",
              "      <td>Mass Customer</td>\n",
              "      <td>N</td>\n",
              "      <td>\"'</td>\n",
              "      <td>Yes</td>\n",
              "      <td>11.0</td>\n",
              "    </tr>\n",
              "    <tr>\n",
              "      <th>2</th>\n",
              "      <td>Eli</td>\n",
              "      <td>Bockman</td>\n",
              "      <td>Male</td>\n",
              "      <td>81</td>\n",
              "      <td>1980-12-16</td>\n",
              "      <td>Administrative Officer</td>\n",
              "      <td>Financial Services</td>\n",
              "      <td>Mass Customer</td>\n",
              "      <td>N</td>\n",
              "      <td>&lt;script&gt;alert('hi')&lt;/script&gt;</td>\n",
              "      <td>Yes</td>\n",
              "      <td>16.0</td>\n",
              "    </tr>\n",
              "    <tr>\n",
              "      <th>3</th>\n",
              "      <td>Arlin</td>\n",
              "      <td>Dearle</td>\n",
              "      <td>Male</td>\n",
              "      <td>61</td>\n",
              "      <td>1954-01-20</td>\n",
              "      <td>Recruiting Manager</td>\n",
              "      <td>Property</td>\n",
              "      <td>Mass Customer</td>\n",
              "      <td>N</td>\n",
              "      <td>2018-02-01 00:00:00</td>\n",
              "      <td>Yes</td>\n",
              "      <td>15.0</td>\n",
              "    </tr>\n",
              "    <tr>\n",
              "      <th>4</th>\n",
              "      <td>Talbot</td>\n",
              "      <td>NaN</td>\n",
              "      <td>Male</td>\n",
              "      <td>33</td>\n",
              "      <td>1961-10-03</td>\n",
              "      <td>NaN</td>\n",
              "      <td>IT</td>\n",
              "      <td>Mass Customer</td>\n",
              "      <td>N</td>\n",
              "      <td>() { _; } &gt;_[$($())] { touch /tmp/blns.shellsh...</td>\n",
              "      <td>No</td>\n",
              "      <td>7.0</td>\n",
              "    </tr>\n",
              "    <tr>\n",
              "      <th>5</th>\n",
              "      <td>Sheila-kathryn</td>\n",
              "      <td>Calton</td>\n",
              "      <td>Female</td>\n",
              "      <td>56</td>\n",
              "      <td>1977-05-13</td>\n",
              "      <td>Senior Editor</td>\n",
              "      <td>NaN</td>\n",
              "      <td>Affluent Customer</td>\n",
              "      <td>N</td>\n",
              "      <td>NIL</td>\n",
              "      <td>Yes</td>\n",
              "      <td>8.0</td>\n",
              "    </tr>\n",
              "  </tbody>\n",
              "</table>\n",
              "</div>"
            ],
            "text/plain": [
              "                 first_name  last_name  gender  \\\n",
              "customer_id                                      \n",
              "1                   Laraine  Medendorp       F   \n",
              "2                       Eli    Bockman    Male   \n",
              "3                     Arlin     Dearle    Male   \n",
              "4                    Talbot        NaN    Male   \n",
              "5            Sheila-kathryn     Calton  Female   \n",
              "\n",
              "             past_3_years_bike_related_purchases        DOB  \\\n",
              "customer_id                                                   \n",
              "1                                             93 1953-10-12   \n",
              "2                                             81 1980-12-16   \n",
              "3                                             61 1954-01-20   \n",
              "4                                             33 1961-10-03   \n",
              "5                                             56 1977-05-13   \n",
              "\n",
              "                          job_title job_industry_category     wealth_segment  \\\n",
              "customer_id                                                                    \n",
              "1               Executive Secretary                Health      Mass Customer   \n",
              "2            Administrative Officer    Financial Services      Mass Customer   \n",
              "3                Recruiting Manager              Property      Mass Customer   \n",
              "4                               NaN                    IT      Mass Customer   \n",
              "5                     Senior Editor                   NaN  Affluent Customer   \n",
              "\n",
              "            deceased_indicator  \\\n",
              "customer_id                      \n",
              "1                            N   \n",
              "2                            N   \n",
              "3                            N   \n",
              "4                            N   \n",
              "5                            N   \n",
              "\n",
              "                                                       default owns_car  \\\n",
              "customer_id                                                               \n",
              "1                                                           \"'      Yes   \n",
              "2                                 <script>alert('hi')</script>      Yes   \n",
              "3                                          2018-02-01 00:00:00      Yes   \n",
              "4            () { _; } >_[$($())] { touch /tmp/blns.shellsh...       No   \n",
              "5                                                          NIL      Yes   \n",
              "\n",
              "             tenure  \n",
              "customer_id          \n",
              "1              11.0  \n",
              "2              16.0  \n",
              "3              15.0  \n",
              "4               7.0  \n",
              "5               8.0  "
            ]
          },
          "metadata": {},
          "execution_count": 57
        }
      ]
    },
    {
      "cell_type": "code",
      "metadata": {
        "id": "a1add68a"
      },
      "source": [
        "cust_demo.drop(\"default\",axis = 1,inplace = True)"
      ],
      "id": "a1add68a",
      "execution_count": 58,
      "outputs": []
    },
    {
      "cell_type": "code",
      "metadata": {
        "colab": {
          "base_uri": "https://localhost:8080/"
        },
        "id": "c75e75e9",
        "outputId": "8a359d22-138b-4ad0-d0d2-dd6e0066f647"
      },
      "source": [
        "cust_demo.isna().sum()"
      ],
      "id": "c75e75e9",
      "execution_count": 59,
      "outputs": [
        {
          "output_type": "execute_result",
          "data": {
            "text/plain": [
              "first_name                               0\n",
              "last_name                              125\n",
              "gender                                   0\n",
              "past_3_years_bike_related_purchases      0\n",
              "DOB                                     87\n",
              "job_title                              506\n",
              "job_industry_category                  656\n",
              "wealth_segment                           0\n",
              "deceased_indicator                       0\n",
              "owns_car                                 0\n",
              "tenure                                  87\n",
              "dtype: int64"
            ]
          },
          "metadata": {},
          "execution_count": 59
        }
      ]
    },
    {
      "cell_type": "code",
      "metadata": {
        "id": "22f93ea8"
      },
      "source": [
        "cust_demo.rename({\"past_3_years_bike_related_purchases\":\"other_purchases\",\"job_industry_category\":\"job_industry\"},axis = 1,inplace = True)"
      ],
      "id": "22f93ea8",
      "execution_count": 60,
      "outputs": []
    },
    {
      "cell_type": "code",
      "metadata": {
        "colab": {
          "base_uri": "https://localhost:8080/",
          "height": 0
        },
        "id": "2782a72a",
        "outputId": "d5072a86-2af0-4a9a-fa6a-119d84de8c69"
      },
      "source": [
        "cust_demo.head()"
      ],
      "id": "2782a72a",
      "execution_count": 61,
      "outputs": [
        {
          "output_type": "execute_result",
          "data": {
            "text/html": [
              "<div>\n",
              "<style scoped>\n",
              "    .dataframe tbody tr th:only-of-type {\n",
              "        vertical-align: middle;\n",
              "    }\n",
              "\n",
              "    .dataframe tbody tr th {\n",
              "        vertical-align: top;\n",
              "    }\n",
              "\n",
              "    .dataframe thead th {\n",
              "        text-align: right;\n",
              "    }\n",
              "</style>\n",
              "<table border=\"1\" class=\"dataframe\">\n",
              "  <thead>\n",
              "    <tr style=\"text-align: right;\">\n",
              "      <th></th>\n",
              "      <th>first_name</th>\n",
              "      <th>last_name</th>\n",
              "      <th>gender</th>\n",
              "      <th>other_purchases</th>\n",
              "      <th>DOB</th>\n",
              "      <th>job_title</th>\n",
              "      <th>job_industry</th>\n",
              "      <th>wealth_segment</th>\n",
              "      <th>deceased_indicator</th>\n",
              "      <th>owns_car</th>\n",
              "      <th>tenure</th>\n",
              "    </tr>\n",
              "    <tr>\n",
              "      <th>customer_id</th>\n",
              "      <th></th>\n",
              "      <th></th>\n",
              "      <th></th>\n",
              "      <th></th>\n",
              "      <th></th>\n",
              "      <th></th>\n",
              "      <th></th>\n",
              "      <th></th>\n",
              "      <th></th>\n",
              "      <th></th>\n",
              "      <th></th>\n",
              "    </tr>\n",
              "  </thead>\n",
              "  <tbody>\n",
              "    <tr>\n",
              "      <th>1</th>\n",
              "      <td>Laraine</td>\n",
              "      <td>Medendorp</td>\n",
              "      <td>F</td>\n",
              "      <td>93</td>\n",
              "      <td>1953-10-12</td>\n",
              "      <td>Executive Secretary</td>\n",
              "      <td>Health</td>\n",
              "      <td>Mass Customer</td>\n",
              "      <td>N</td>\n",
              "      <td>Yes</td>\n",
              "      <td>11.0</td>\n",
              "    </tr>\n",
              "    <tr>\n",
              "      <th>2</th>\n",
              "      <td>Eli</td>\n",
              "      <td>Bockman</td>\n",
              "      <td>Male</td>\n",
              "      <td>81</td>\n",
              "      <td>1980-12-16</td>\n",
              "      <td>Administrative Officer</td>\n",
              "      <td>Financial Services</td>\n",
              "      <td>Mass Customer</td>\n",
              "      <td>N</td>\n",
              "      <td>Yes</td>\n",
              "      <td>16.0</td>\n",
              "    </tr>\n",
              "    <tr>\n",
              "      <th>3</th>\n",
              "      <td>Arlin</td>\n",
              "      <td>Dearle</td>\n",
              "      <td>Male</td>\n",
              "      <td>61</td>\n",
              "      <td>1954-01-20</td>\n",
              "      <td>Recruiting Manager</td>\n",
              "      <td>Property</td>\n",
              "      <td>Mass Customer</td>\n",
              "      <td>N</td>\n",
              "      <td>Yes</td>\n",
              "      <td>15.0</td>\n",
              "    </tr>\n",
              "    <tr>\n",
              "      <th>4</th>\n",
              "      <td>Talbot</td>\n",
              "      <td>NaN</td>\n",
              "      <td>Male</td>\n",
              "      <td>33</td>\n",
              "      <td>1961-10-03</td>\n",
              "      <td>NaN</td>\n",
              "      <td>IT</td>\n",
              "      <td>Mass Customer</td>\n",
              "      <td>N</td>\n",
              "      <td>No</td>\n",
              "      <td>7.0</td>\n",
              "    </tr>\n",
              "    <tr>\n",
              "      <th>5</th>\n",
              "      <td>Sheila-kathryn</td>\n",
              "      <td>Calton</td>\n",
              "      <td>Female</td>\n",
              "      <td>56</td>\n",
              "      <td>1977-05-13</td>\n",
              "      <td>Senior Editor</td>\n",
              "      <td>NaN</td>\n",
              "      <td>Affluent Customer</td>\n",
              "      <td>N</td>\n",
              "      <td>Yes</td>\n",
              "      <td>8.0</td>\n",
              "    </tr>\n",
              "  </tbody>\n",
              "</table>\n",
              "</div>"
            ],
            "text/plain": [
              "                 first_name  last_name  gender  other_purchases        DOB  \\\n",
              "customer_id                                                                  \n",
              "1                   Laraine  Medendorp       F               93 1953-10-12   \n",
              "2                       Eli    Bockman    Male               81 1980-12-16   \n",
              "3                     Arlin     Dearle    Male               61 1954-01-20   \n",
              "4                    Talbot        NaN    Male               33 1961-10-03   \n",
              "5            Sheila-kathryn     Calton  Female               56 1977-05-13   \n",
              "\n",
              "                          job_title        job_industry     wealth_segment  \\\n",
              "customer_id                                                                  \n",
              "1               Executive Secretary              Health      Mass Customer   \n",
              "2            Administrative Officer  Financial Services      Mass Customer   \n",
              "3                Recruiting Manager            Property      Mass Customer   \n",
              "4                               NaN                  IT      Mass Customer   \n",
              "5                     Senior Editor                 NaN  Affluent Customer   \n",
              "\n",
              "            deceased_indicator owns_car  tenure  \n",
              "customer_id                                      \n",
              "1                            N      Yes    11.0  \n",
              "2                            N      Yes    16.0  \n",
              "3                            N      Yes    15.0  \n",
              "4                            N       No     7.0  \n",
              "5                            N      Yes     8.0  "
            ]
          },
          "metadata": {},
          "execution_count": 61
        }
      ]
    },
    {
      "cell_type": "code",
      "metadata": {
        "colab": {
          "base_uri": "https://localhost:8080/"
        },
        "id": "93fe2564",
        "outputId": "f9cd0b3e-4f59-4a9a-c669-fb304f8ee664"
      },
      "source": [
        "cust_demo.gender.value_counts()"
      ],
      "id": "93fe2564",
      "execution_count": 62,
      "outputs": [
        {
          "output_type": "execute_result",
          "data": {
            "text/plain": [
              "Female    2037\n",
              "Male      1872\n",
              "U           88\n",
              "M            1\n",
              "Femal        1\n",
              "F            1\n",
              "Name: gender, dtype: int64"
            ]
          },
          "metadata": {},
          "execution_count": 62
        }
      ]
    },
    {
      "cell_type": "code",
      "metadata": {
        "id": "bd8755e9"
      },
      "source": [
        "cust_demo.gender.replace({\"Female\":\"F\",\"Male\":\"M\",\"Femal\":\"F\",\"U\":\"Not Specified\"},inplace=True)"
      ],
      "id": "bd8755e9",
      "execution_count": 63,
      "outputs": []
    },
    {
      "cell_type": "code",
      "metadata": {
        "colab": {
          "base_uri": "https://localhost:8080/"
        },
        "id": "7bd0ab05",
        "outputId": "97350f81-aa72-4d92-aec5-555783b7612d"
      },
      "source": [
        "cust_demo.gender.value_counts()"
      ],
      "id": "7bd0ab05",
      "execution_count": 64,
      "outputs": [
        {
          "output_type": "execute_result",
          "data": {
            "text/plain": [
              "F                2039\n",
              "M                1873\n",
              "Not Specified      88\n",
              "Name: gender, dtype: int64"
            ]
          },
          "metadata": {},
          "execution_count": 64
        }
      ]
    },
    {
      "cell_type": "code",
      "metadata": {
        "id": "35b21fb7"
      },
      "source": [
        "cust_demo.DOB = pd.to_datetime(cust_demo.DOB).dt.date"
      ],
      "id": "35b21fb7",
      "execution_count": 65,
      "outputs": []
    },
    {
      "cell_type": "code",
      "metadata": {
        "colab": {
          "base_uri": "https://localhost:8080/"
        },
        "id": "806b9820",
        "outputId": "98afa0cb-6135-4f78-d4f9-089e94ae995e"
      },
      "source": [
        "pd.to_datetime(cust_demo.DOB).dt.year.mode()"
      ],
      "id": "806b9820",
      "execution_count": 66,
      "outputs": [
        {
          "output_type": "execute_result",
          "data": {
            "text/plain": [
              "0    1978.0\n",
              "dtype: float64"
            ]
          },
          "metadata": {},
          "execution_count": 66
        }
      ]
    },
    {
      "cell_type": "code",
      "metadata": {
        "id": "06891acd"
      },
      "source": [
        "cust_demo.DOB.fillna('1978-01-01',inplace = True)"
      ],
      "id": "06891acd",
      "execution_count": 67,
      "outputs": []
    },
    {
      "cell_type": "code",
      "metadata": {
        "id": "1251c650"
      },
      "source": [
        "cust_demo.DOB = pd.to_datetime(cust_demo.DOB)"
      ],
      "id": "1251c650",
      "execution_count": 68,
      "outputs": []
    },
    {
      "cell_type": "code",
      "metadata": {
        "id": "3b43760f"
      },
      "source": [
        "cust_demo[\"year\"] = cust_demo.DOB.dt.year"
      ],
      "id": "3b43760f",
      "execution_count": 69,
      "outputs": []
    },
    {
      "cell_type": "code",
      "metadata": {
        "colab": {
          "base_uri": "https://localhost:8080/",
          "height": 0
        },
        "id": "3a89d8f4",
        "outputId": "5b05e361-aa25-4c74-fa30-2a79f0db1631"
      },
      "source": [
        "plt.figure(figsize=(10,6))\n",
        "sns.scatterplot(x=cust_demo.year,y=cust_demo.DOB.dt.month)"
      ],
      "id": "3a89d8f4",
      "execution_count": 70,
      "outputs": [
        {
          "output_type": "execute_result",
          "data": {
            "text/plain": [
              "<matplotlib.axes._subplots.AxesSubplot at 0x7f67d6ed07d0>"
            ]
          },
          "metadata": {},
          "execution_count": 70
        },
        {
          "output_type": "display_data",
          "data": {
            "image/png": "[encoded data removed]",
            "text/plain": [
              "<Figure size 720x432 with 1 Axes>"
            ]
          },
          "metadata": {
            "needs_background": "light"
          }
        }
      ]
    },
    {
      "cell_type": "code",
      "metadata": {
        "colab": {
          "base_uri": "https://localhost:8080/"
        },
        "id": "ef8ec20d",
        "outputId": "c019fdf0-2429-477d-ae30-2821da506b48"
      },
      "source": [
        "cust_demo.year.sort_values()"
      ],
      "id": "ef8ec20d",
      "execution_count": 71,
      "outputs": [
        {
          "output_type": "execute_result",
          "data": {
            "text/plain": [
              "customer_id\n",
              "34      1843\n",
              "720     1931\n",
              "1092    1935\n",
              "3410    1940\n",
              "2413    1943\n",
              "        ... \n",
              "422     2002\n",
              "2296    2002\n",
              "2858    2002\n",
              "3435    2002\n",
              "1888    2002\n",
              "Name: year, Length: 4000, dtype: int64"
            ]
          },
          "metadata": {},
          "execution_count": 71
        }
      ]
    },
    {
      "cell_type": "code",
      "metadata": {
        "id": "3b1e87c4"
      },
      "source": [
        "#strange error in DOB column with 1843 \n",
        "cust_demo.drop(34,axis = 0,inplace=True)"
      ],
      "id": "3b1e87c4",
      "execution_count": 72,
      "outputs": []
    },
    {
      "cell_type": "code",
      "metadata": {
        "colab": {
          "base_uri": "https://localhost:8080/"
        },
        "id": "f0154a35",
        "outputId": "17a32da7-e91d-4b74-cda8-bfcd02d3a42c"
      },
      "source": [
        "cust_demo.columns"
      ],
      "id": "f0154a35",
      "execution_count": 73,
      "outputs": [
        {
          "output_type": "execute_result",
          "data": {
            "text/plain": [
              "Index(['first_name', 'last_name', 'gender', 'other_purchases', 'DOB',\n",
              "       'job_title', 'job_industry', 'wealth_segment', 'deceased_indicator',\n",
              "       'owns_car', 'tenure', 'year'],\n",
              "      dtype='object')"
            ]
          },
          "metadata": {},
          "execution_count": 73
        }
      ]
    },
    {
      "cell_type": "code",
      "metadata": {
        "colab": {
          "base_uri": "https://localhost:8080/",
          "height": 0
        },
        "id": "8aae91a8",
        "outputId": "057b93e7-846f-4c25-b220-365925743125"
      },
      "source": [
        "cust_demo.drop(['year'],axis=1)"
      ],
      "id": "8aae91a8",
      "execution_count": 74,
      "outputs": [
        {
          "output_type": "execute_result",
          "data": {
            "text/html": [
              "<div>\n",
              "<style scoped>\n",
              "    .dataframe tbody tr th:only-of-type {\n",
              "        vertical-align: middle;\n",
              "    }\n",
              "\n",
              "    .dataframe tbody tr th {\n",
              "        vertical-align: top;\n",
              "    }\n",
              "\n",
              "    .dataframe thead th {\n",
              "        text-align: right;\n",
              "    }\n",
              "</style>\n",
              "<table border=\"1\" class=\"dataframe\">\n",
              "  <thead>\n",
              "    <tr style=\"text-align: right;\">\n",
              "      <th></th>\n",
              "      <th>first_name</th>\n",
              "      <th>last_name</th>\n",
              "      <th>gender</th>\n",
              "      <th>other_purchases</th>\n",
              "      <th>DOB</th>\n",
              "      <th>job_title</th>\n",
              "      <th>job_industry</th>\n",
              "      <th>wealth_segment</th>\n",
              "      <th>deceased_indicator</th>\n",
              "      <th>owns_car</th>\n",
              "      <th>tenure</th>\n",
              "    </tr>\n",
              "    <tr>\n",
              "      <th>customer_id</th>\n",
              "      <th></th>\n",
              "      <th></th>\n",
              "      <th></th>\n",
              "      <th></th>\n",
              "      <th></th>\n",
              "      <th></th>\n",
              "      <th></th>\n",
              "      <th></th>\n",
              "      <th></th>\n",
              "      <th></th>\n",
              "      <th></th>\n",
              "    </tr>\n",
              "  </thead>\n",
              "  <tbody>\n",
              "    <tr>\n",
              "      <th>1</th>\n",
              "      <td>Laraine</td>\n",
              "      <td>Medendorp</td>\n",
              "      <td>F</td>\n",
              "      <td>93</td>\n",
              "      <td>1953-10-12</td>\n",
              "      <td>Executive Secretary</td>\n",
              "      <td>Health</td>\n",
              "      <td>Mass Customer</td>\n",
              "      <td>N</td>\n",
              "      <td>Yes</td>\n",
              "      <td>11.0</td>\n",
              "    </tr>\n",
              "    <tr>\n",
              "      <th>2</th>\n",
              "      <td>Eli</td>\n",
              "      <td>Bockman</td>\n",
              "      <td>M</td>\n",
              "      <td>81</td>\n",
              "      <td>1980-12-16</td>\n",
              "      <td>Administrative Officer</td>\n",
              "      <td>Financial Services</td>\n",
              "      <td>Mass Customer</td>\n",
              "      <td>N</td>\n",
              "      <td>Yes</td>\n",
              "      <td>16.0</td>\n",
              "    </tr>\n",
              "    <tr>\n",
              "      <th>3</th>\n",
              "      <td>Arlin</td>\n",
              "      <td>Dearle</td>\n",
              "      <td>M</td>\n",
              "      <td>61</td>\n",
              "      <td>1954-01-20</td>\n",
              "      <td>Recruiting Manager</td>\n",
              "      <td>Property</td>\n",
              "      <td>Mass Customer</td>\n",
              "      <td>N</td>\n",
              "      <td>Yes</td>\n",
              "      <td>15.0</td>\n",
              "    </tr>\n",
              "    <tr>\n",
              "      <th>4</th>\n",
              "      <td>Talbot</td>\n",
              "      <td>NaN</td>\n",
              "      <td>M</td>\n",
              "      <td>33</td>\n",
              "      <td>1961-10-03</td>\n",
              "      <td>NaN</td>\n",
              "      <td>IT</td>\n",
              "      <td>Mass Customer</td>\n",
              "      <td>N</td>\n",
              "      <td>No</td>\n",
              "      <td>7.0</td>\n",
              "    </tr>\n",
              "    <tr>\n",
              "      <th>5</th>\n",
              "      <td>Sheila-kathryn</td>\n",
              "      <td>Calton</td>\n",
              "      <td>F</td>\n",
              "      <td>56</td>\n",
              "      <td>1977-05-13</td>\n",
              "      <td>Senior Editor</td>\n",
              "      <td>NaN</td>\n",
              "      <td>Affluent Customer</td>\n",
              "      <td>N</td>\n",
              "      <td>Yes</td>\n",
              "      <td>8.0</td>\n",
              "    </tr>\n",
              "    <tr>\n",
              "      <th>...</th>\n",
              "      <td>...</td>\n",
              "      <td>...</td>\n",
              "      <td>...</td>\n",
              "      <td>...</td>\n",
              "      <td>...</td>\n",
              "      <td>...</td>\n",
              "      <td>...</td>\n",
              "      <td>...</td>\n",
              "      <td>...</td>\n",
              "      <td>...</td>\n",
              "      <td>...</td>\n",
              "    </tr>\n",
              "    <tr>\n",
              "      <th>3996</th>\n",
              "      <td>Rosalia</td>\n",
              "      <td>Halgarth</td>\n",
              "      <td>F</td>\n",
              "      <td>8</td>\n",
              "      <td>1975-08-09</td>\n",
              "      <td>VP Product Management</td>\n",
              "      <td>Health</td>\n",
              "      <td>Mass Customer</td>\n",
              "      <td>N</td>\n",
              "      <td>No</td>\n",
              "      <td>19.0</td>\n",
              "    </tr>\n",
              "    <tr>\n",
              "      <th>3997</th>\n",
              "      <td>Blanch</td>\n",
              "      <td>Nisuis</td>\n",
              "      <td>F</td>\n",
              "      <td>87</td>\n",
              "      <td>2001-07-13</td>\n",
              "      <td>Statistician II</td>\n",
              "      <td>Manufacturing</td>\n",
              "      <td>High Net Worth</td>\n",
              "      <td>N</td>\n",
              "      <td>Yes</td>\n",
              "      <td>1.0</td>\n",
              "    </tr>\n",
              "    <tr>\n",
              "      <th>3998</th>\n",
              "      <td>Sarene</td>\n",
              "      <td>Woolley</td>\n",
              "      <td>Not Specified</td>\n",
              "      <td>60</td>\n",
              "      <td>1978-01-01</td>\n",
              "      <td>Assistant Manager</td>\n",
              "      <td>IT</td>\n",
              "      <td>High Net Worth</td>\n",
              "      <td>N</td>\n",
              "      <td>No</td>\n",
              "      <td>NaN</td>\n",
              "    </tr>\n",
              "    <tr>\n",
              "      <th>3999</th>\n",
              "      <td>Patrizius</td>\n",
              "      <td>NaN</td>\n",
              "      <td>M</td>\n",
              "      <td>11</td>\n",
              "      <td>1973-10-24</td>\n",
              "      <td>NaN</td>\n",
              "      <td>Manufacturing</td>\n",
              "      <td>Affluent Customer</td>\n",
              "      <td>N</td>\n",
              "      <td>Yes</td>\n",
              "      <td>10.0</td>\n",
              "    </tr>\n",
              "    <tr>\n",
              "      <th>4000</th>\n",
              "      <td>Kippy</td>\n",
              "      <td>Oldland</td>\n",
              "      <td>M</td>\n",
              "      <td>76</td>\n",
              "      <td>1991-11-05</td>\n",
              "      <td>Software Engineer IV</td>\n",
              "      <td>NaN</td>\n",
              "      <td>Affluent Customer</td>\n",
              "      <td>N</td>\n",
              "      <td>No</td>\n",
              "      <td>11.0</td>\n",
              "    </tr>\n",
              "  </tbody>\n",
              "</table>\n",
              "<p>3999 rows × 11 columns</p>\n",
              "</div>"
            ],
            "text/plain": [
              "                 first_name  last_name         gender  other_purchases  \\\n",
              "customer_id                                                              \n",
              "1                   Laraine  Medendorp              F               93   \n",
              "2                       Eli    Bockman              M               81   \n",
              "3                     Arlin     Dearle              M               61   \n",
              "4                    Talbot        NaN              M               33   \n",
              "5            Sheila-kathryn     Calton              F               56   \n",
              "...                     ...        ...            ...              ...   \n",
              "3996                Rosalia   Halgarth              F                8   \n",
              "3997                 Blanch     Nisuis              F               87   \n",
              "3998                 Sarene    Woolley  Not Specified               60   \n",
              "3999              Patrizius        NaN              M               11   \n",
              "4000                  Kippy    Oldland              M               76   \n",
              "\n",
              "                   DOB               job_title        job_industry  \\\n",
              "customer_id                                                          \n",
              "1           1953-10-12     Executive Secretary              Health   \n",
              "2           1980-12-16  Administrative Officer  Financial Services   \n",
              "3           1954-01-20      Recruiting Manager            Property   \n",
              "4           1961-10-03                     NaN                  IT   \n",
              "5           1977-05-13           Senior Editor                 NaN   \n",
              "...                ...                     ...                 ...   \n",
              "3996        1975-08-09   VP Product Management              Health   \n",
              "3997        2001-07-13         Statistician II       Manufacturing   \n",
              "3998        1978-01-01       Assistant Manager                  IT   \n",
              "3999        1973-10-24                     NaN       Manufacturing   \n",
              "4000        1991-11-05    Software Engineer IV                 NaN   \n",
              "\n",
              "                wealth_segment deceased_indicator owns_car  tenure  \n",
              "customer_id                                                         \n",
              "1                Mass Customer                  N      Yes    11.0  \n",
              "2                Mass Customer                  N      Yes    16.0  \n",
              "3                Mass Customer                  N      Yes    15.0  \n",
              "4                Mass Customer                  N       No     7.0  \n",
              "5            Affluent Customer                  N      Yes     8.0  \n",
              "...                        ...                ...      ...     ...  \n",
              "3996             Mass Customer                  N       No    19.0  \n",
              "3997            High Net Worth                  N      Yes     1.0  \n",
              "3998            High Net Worth                  N       No     NaN  \n",
              "3999         Affluent Customer                  N      Yes    10.0  \n",
              "4000         Affluent Customer                  N       No    11.0  \n",
              "\n",
              "[3999 rows x 11 columns]"
            ]
          },
          "metadata": {},
          "execution_count": 74
        }
      ]
    },
    {
      "cell_type": "code",
      "metadata": {
        "scrolled": true,
        "id": "da2f75b6"
      },
      "source": [
        "cust_demo.last_name.fillna('.',inplace=True)"
      ],
      "id": "da2f75b6",
      "execution_count": 75,
      "outputs": []
    },
    {
      "cell_type": "code",
      "metadata": {
        "scrolled": true,
        "colab": {
          "base_uri": "https://localhost:8080/"
        },
        "id": "598b6497",
        "outputId": "9562adf5-8965-4d15-b8e9-9664c525e853"
      },
      "source": [
        "cust_demo.isna().sum()"
      ],
      "id": "598b6497",
      "execution_count": 76,
      "outputs": [
        {
          "output_type": "execute_result",
          "data": {
            "text/plain": [
              "first_name              0\n",
              "last_name               0\n",
              "gender                  0\n",
              "other_purchases         0\n",
              "DOB                     0\n",
              "job_title             506\n",
              "job_industry          656\n",
              "wealth_segment          0\n",
              "deceased_indicator      0\n",
              "owns_car                0\n",
              "tenure                 87\n",
              "year                    0\n",
              "dtype: int64"
            ]
          },
          "metadata": {},
          "execution_count": 76
        }
      ]
    },
    {
      "cell_type": "code",
      "metadata": {
        "id": "8b1cdd3a"
      },
      "source": [
        "cust_demo.tenure.fillna(np.mean(cust_demo.tenure),inplace = True)"
      ],
      "id": "8b1cdd3a",
      "execution_count": 77,
      "outputs": []
    },
    {
      "cell_type": "code",
      "metadata": {
        "scrolled": true,
        "colab": {
          "base_uri": "https://localhost:8080/"
        },
        "id": "f22c9d6f",
        "outputId": "377e05d6-c0a9-4f12-dd83-2e9054020da1"
      },
      "source": [
        "np.mean(cust_demo.tenure)"
      ],
      "id": "f22c9d6f",
      "execution_count": 78,
      "outputs": [
        {
          "output_type": "execute_result",
          "data": {
            "text/plain": [
              "10.654652351738255"
            ]
          },
          "metadata": {},
          "execution_count": 78
        }
      ]
    },
    {
      "cell_type": "code",
      "metadata": {
        "id": "18da8c73"
      },
      "source": [
        "cust_demo.dropna(subset=['job_title','job_industry'],axis = 0,inplace = True)"
      ],
      "id": "18da8c73",
      "execution_count": 79,
      "outputs": []
    },
    {
      "cell_type": "code",
      "metadata": {
        "scrolled": true,
        "colab": {
          "base_uri": "https://localhost:8080/"
        },
        "id": "4a2ac088",
        "outputId": "c7124474-e7a8-4590-bcb2-e00ed85a24d0"
      },
      "source": [
        "cust_demo.isna().sum()"
      ],
      "id": "4a2ac088",
      "execution_count": 80,
      "outputs": [
        {
          "output_type": "execute_result",
          "data": {
            "text/plain": [
              "first_name            0\n",
              "last_name             0\n",
              "gender                0\n",
              "other_purchases       0\n",
              "DOB                   0\n",
              "job_title             0\n",
              "job_industry          0\n",
              "wealth_segment        0\n",
              "deceased_indicator    0\n",
              "owns_car              0\n",
              "tenure                0\n",
              "year                  0\n",
              "dtype: int64"
            ]
          },
          "metadata": {},
          "execution_count": 80
        }
      ]
    },
    {
      "cell_type": "code",
      "metadata": {
        "id": "5f179255"
      },
      "source": [
        "cust_demo.drop_duplicates(inplace=True)"
      ],
      "id": "5f179255",
      "execution_count": 81,
      "outputs": []
    },
    {
      "cell_type": "code",
      "metadata": {
        "scrolled": true,
        "colab": {
          "base_uri": "https://localhost:8080/"
        },
        "id": "51b1b58f",
        "outputId": "3aef5b50-2e30-4b0b-cafa-fa9abd3cac73"
      },
      "source": [
        "cust_demo.dtypes"
      ],
      "id": "51b1b58f",
      "execution_count": 82,
      "outputs": [
        {
          "output_type": "execute_result",
          "data": {
            "text/plain": [
              "first_name                    object\n",
              "last_name                     object\n",
              "gender                        object\n",
              "other_purchases                int64\n",
              "DOB                   datetime64[ns]\n",
              "job_title                     object\n",
              "job_industry                  object\n",
              "wealth_segment                object\n",
              "deceased_indicator            object\n",
              "owns_car                      object\n",
              "tenure                       float64\n",
              "year                           int64\n",
              "dtype: object"
            ]
          },
          "metadata": {},
          "execution_count": 82
        }
      ]
    },
    {
      "cell_type": "code",
      "metadata": {
        "id": "6454b14d"
      },
      "source": [
        "cust_demo = cust_demo.astype({\"other_purchases\":int,\"tenure\":int})"
      ],
      "id": "6454b14d",
      "execution_count": 83,
      "outputs": []
    },
    {
      "cell_type": "code",
      "metadata": {
        "colab": {
          "base_uri": "https://localhost:8080/",
          "height": 0
        },
        "id": "4a9a19ad",
        "outputId": "66cd6e8a-e63d-4fa3-b4b5-91b87dc7a0cb"
      },
      "source": [
        "cust_demo.head()"
      ],
      "id": "4a9a19ad",
      "execution_count": 84,
      "outputs": [
        {
          "output_type": "execute_result",
          "data": {
            "text/html": [
              "<div>\n",
              "<style scoped>\n",
              "    .dataframe tbody tr th:only-of-type {\n",
              "        vertical-align: middle;\n",
              "    }\n",
              "\n",
              "    .dataframe tbody tr th {\n",
              "        vertical-align: top;\n",
              "    }\n",
              "\n",
              "    .dataframe thead th {\n",
              "        text-align: right;\n",
              "    }\n",
              "</style>\n",
              "<table border=\"1\" class=\"dataframe\">\n",
              "  <thead>\n",
              "    <tr style=\"text-align: right;\">\n",
              "      <th></th>\n",
              "      <th>first_name</th>\n",
              "      <th>last_name</th>\n",
              "      <th>gender</th>\n",
              "      <th>other_purchases</th>\n",
              "      <th>DOB</th>\n",
              "      <th>job_title</th>\n",
              "      <th>job_industry</th>\n",
              "      <th>wealth_segment</th>\n",
              "      <th>deceased_indicator</th>\n",
              "      <th>owns_car</th>\n",
              "      <th>tenure</th>\n",
              "      <th>year</th>\n",
              "    </tr>\n",
              "    <tr>\n",
              "      <th>customer_id</th>\n",
              "      <th></th>\n",
              "      <th></th>\n",
              "      <th></th>\n",
              "      <th></th>\n",
              "      <th></th>\n",
              "      <th></th>\n",
              "      <th></th>\n",
              "      <th></th>\n",
              "      <th></th>\n",
              "      <th></th>\n",
              "      <th></th>\n",
              "      <th></th>\n",
              "    </tr>\n",
              "  </thead>\n",
              "  <tbody>\n",
              "    <tr>\n",
              "      <th>1</th>\n",
              "      <td>Laraine</td>\n",
              "      <td>Medendorp</td>\n",
              "      <td>F</td>\n",
              "      <td>93</td>\n",
              "      <td>1953-10-12</td>\n",
              "      <td>Executive Secretary</td>\n",
              "      <td>Health</td>\n",
              "      <td>Mass Customer</td>\n",
              "      <td>N</td>\n",
              "      <td>Yes</td>\n",
              "      <td>11</td>\n",
              "      <td>1953</td>\n",
              "    </tr>\n",
              "    <tr>\n",
              "      <th>2</th>\n",
              "      <td>Eli</td>\n",
              "      <td>Bockman</td>\n",
              "      <td>M</td>\n",
              "      <td>81</td>\n",
              "      <td>1980-12-16</td>\n",
              "      <td>Administrative Officer</td>\n",
              "      <td>Financial Services</td>\n",
              "      <td>Mass Customer</td>\n",
              "      <td>N</td>\n",
              "      <td>Yes</td>\n",
              "      <td>16</td>\n",
              "      <td>1980</td>\n",
              "    </tr>\n",
              "    <tr>\n",
              "      <th>3</th>\n",
              "      <td>Arlin</td>\n",
              "      <td>Dearle</td>\n",
              "      <td>M</td>\n",
              "      <td>61</td>\n",
              "      <td>1954-01-20</td>\n",
              "      <td>Recruiting Manager</td>\n",
              "      <td>Property</td>\n",
              "      <td>Mass Customer</td>\n",
              "      <td>N</td>\n",
              "      <td>Yes</td>\n",
              "      <td>15</td>\n",
              "      <td>1954</td>\n",
              "    </tr>\n",
              "    <tr>\n",
              "      <th>9</th>\n",
              "      <td>Mala</td>\n",
              "      <td>Lind</td>\n",
              "      <td>F</td>\n",
              "      <td>97</td>\n",
              "      <td>1973-03-10</td>\n",
              "      <td>Business Systems Development Analyst</td>\n",
              "      <td>Argiculture</td>\n",
              "      <td>Affluent Customer</td>\n",
              "      <td>N</td>\n",
              "      <td>Yes</td>\n",
              "      <td>8</td>\n",
              "      <td>1973</td>\n",
              "    </tr>\n",
              "    <tr>\n",
              "      <th>10</th>\n",
              "      <td>Fiorenze</td>\n",
              "      <td>Birdall</td>\n",
              "      <td>F</td>\n",
              "      <td>49</td>\n",
              "      <td>1988-10-11</td>\n",
              "      <td>Senior Quality Engineer</td>\n",
              "      <td>Financial Services</td>\n",
              "      <td>Mass Customer</td>\n",
              "      <td>N</td>\n",
              "      <td>Yes</td>\n",
              "      <td>20</td>\n",
              "      <td>1988</td>\n",
              "    </tr>\n",
              "  </tbody>\n",
              "</table>\n",
              "</div>"
            ],
            "text/plain": [
              "            first_name  last_name gender  other_purchases        DOB  \\\n",
              "customer_id                                                            \n",
              "1              Laraine  Medendorp      F               93 1953-10-12   \n",
              "2                  Eli    Bockman      M               81 1980-12-16   \n",
              "3                Arlin     Dearle      M               61 1954-01-20   \n",
              "9                 Mala       Lind      F               97 1973-03-10   \n",
              "10            Fiorenze    Birdall      F               49 1988-10-11   \n",
              "\n",
              "                                        job_title        job_industry  \\\n",
              "customer_id                                                             \n",
              "1                             Executive Secretary              Health   \n",
              "2                          Administrative Officer  Financial Services   \n",
              "3                              Recruiting Manager            Property   \n",
              "9            Business Systems Development Analyst         Argiculture   \n",
              "10                        Senior Quality Engineer  Financial Services   \n",
              "\n",
              "                wealth_segment deceased_indicator owns_car  tenure  year  \n",
              "customer_id                                                               \n",
              "1                Mass Customer                  N      Yes      11  1953  \n",
              "2                Mass Customer                  N      Yes      16  1980  \n",
              "3                Mass Customer                  N      Yes      15  1954  \n",
              "9            Affluent Customer                  N      Yes       8  1973  \n",
              "10               Mass Customer                  N      Yes      20  1988  "
            ]
          },
          "metadata": {},
          "execution_count": 84
        }
      ]
    },
    {
      "cell_type": "markdown",
      "metadata": {
        "id": "7c2953a6"
      },
      "source": [
        "## **CustomerAddress**"
      ],
      "id": "7c2953a6"
    },
    {
      "cell_type": "code",
      "metadata": {
        "scrolled": true,
        "colab": {
          "base_uri": "https://localhost:8080/",
          "height": 0
        },
        "id": "aa81b2ac",
        "outputId": "c11bb97b-5d3e-4b54-8c8f-f4a951ccd9fb"
      },
      "source": [
        "cust_add = pd.read_excel(\"/content/KPMG_VI_New_raw_data_update_final.xlsx\",sheet_name='CustomerAddress',header=1,index_col=0 )\n",
        "cust_add"
      ],
      "id": "aa81b2ac",
      "execution_count": 85,
      "outputs": [
        {
          "output_type": "execute_result",
          "data": {
            "text/html": [
              "<div>\n",
              "<style scoped>\n",
              "    .dataframe tbody tr th:only-of-type {\n",
              "        vertical-align: middle;\n",
              "    }\n",
              "\n",
              "    .dataframe tbody tr th {\n",
              "        vertical-align: top;\n",
              "    }\n",
              "\n",
              "    .dataframe thead th {\n",
              "        text-align: right;\n",
              "    }\n",
              "</style>\n",
              "<table border=\"1\" class=\"dataframe\">\n",
              "  <thead>\n",
              "    <tr style=\"text-align: right;\">\n",
              "      <th></th>\n",
              "      <th>address</th>\n",
              "      <th>postcode</th>\n",
              "      <th>state</th>\n",
              "      <th>country</th>\n",
              "      <th>property_valuation</th>\n",
              "    </tr>\n",
              "    <tr>\n",
              "      <th>customer_id</th>\n",
              "      <th></th>\n",
              "      <th></th>\n",
              "      <th></th>\n",
              "      <th></th>\n",
              "      <th></th>\n",
              "    </tr>\n",
              "  </thead>\n",
              "  <tbody>\n",
              "    <tr>\n",
              "      <th>1</th>\n",
              "      <td>060 Morning Avenue</td>\n",
              "      <td>2016</td>\n",
              "      <td>New South Wales</td>\n",
              "      <td>Australia</td>\n",
              "      <td>10</td>\n",
              "    </tr>\n",
              "    <tr>\n",
              "      <th>2</th>\n",
              "      <td>6 Meadow Vale Court</td>\n",
              "      <td>2153</td>\n",
              "      <td>New South Wales</td>\n",
              "      <td>Australia</td>\n",
              "      <td>10</td>\n",
              "    </tr>\n",
              "    <tr>\n",
              "      <th>4</th>\n",
              "      <td>0 Holy Cross Court</td>\n",
              "      <td>4211</td>\n",
              "      <td>QLD</td>\n",
              "      <td>Australia</td>\n",
              "      <td>9</td>\n",
              "    </tr>\n",
              "    <tr>\n",
              "      <th>5</th>\n",
              "      <td>17979 Del Mar Point</td>\n",
              "      <td>2448</td>\n",
              "      <td>New South Wales</td>\n",
              "      <td>Australia</td>\n",
              "      <td>4</td>\n",
              "    </tr>\n",
              "    <tr>\n",
              "      <th>6</th>\n",
              "      <td>9 Oakridge Court</td>\n",
              "      <td>3216</td>\n",
              "      <td>VIC</td>\n",
              "      <td>Australia</td>\n",
              "      <td>9</td>\n",
              "    </tr>\n",
              "    <tr>\n",
              "      <th>...</th>\n",
              "      <td>...</td>\n",
              "      <td>...</td>\n",
              "      <td>...</td>\n",
              "      <td>...</td>\n",
              "      <td>...</td>\n",
              "    </tr>\n",
              "    <tr>\n",
              "      <th>3999</th>\n",
              "      <td>1482 Hauk Trail</td>\n",
              "      <td>3064</td>\n",
              "      <td>VIC</td>\n",
              "      <td>Australia</td>\n",
              "      <td>3</td>\n",
              "    </tr>\n",
              "    <tr>\n",
              "      <th>4000</th>\n",
              "      <td>57042 Village Green Point</td>\n",
              "      <td>4511</td>\n",
              "      <td>QLD</td>\n",
              "      <td>Australia</td>\n",
              "      <td>6</td>\n",
              "    </tr>\n",
              "    <tr>\n",
              "      <th>4001</th>\n",
              "      <td>87 Crescent Oaks Alley</td>\n",
              "      <td>2756</td>\n",
              "      <td>NSW</td>\n",
              "      <td>Australia</td>\n",
              "      <td>10</td>\n",
              "    </tr>\n",
              "    <tr>\n",
              "      <th>4002</th>\n",
              "      <td>8194 Lien Street</td>\n",
              "      <td>4032</td>\n",
              "      <td>QLD</td>\n",
              "      <td>Australia</td>\n",
              "      <td>7</td>\n",
              "    </tr>\n",
              "    <tr>\n",
              "      <th>4003</th>\n",
              "      <td>320 Acker Drive</td>\n",
              "      <td>2251</td>\n",
              "      <td>NSW</td>\n",
              "      <td>Australia</td>\n",
              "      <td>7</td>\n",
              "    </tr>\n",
              "  </tbody>\n",
              "</table>\n",
              "<p>3999 rows × 5 columns</p>\n",
              "</div>"
            ],
            "text/plain": [
              "                               address  postcode            state    country  \\\n",
              "customer_id                                                                    \n",
              "1                   060 Morning Avenue      2016  New South Wales  Australia   \n",
              "2                  6 Meadow Vale Court      2153  New South Wales  Australia   \n",
              "4                   0 Holy Cross Court      4211              QLD  Australia   \n",
              "5                  17979 Del Mar Point      2448  New South Wales  Australia   \n",
              "6                     9 Oakridge Court      3216              VIC  Australia   \n",
              "...                                ...       ...              ...        ...   \n",
              "3999                   1482 Hauk Trail      3064              VIC  Australia   \n",
              "4000         57042 Village Green Point      4511              QLD  Australia   \n",
              "4001            87 Crescent Oaks Alley      2756              NSW  Australia   \n",
              "4002                  8194 Lien Street      4032              QLD  Australia   \n",
              "4003                   320 Acker Drive      2251              NSW  Australia   \n",
              "\n",
              "             property_valuation  \n",
              "customer_id                      \n",
              "1                            10  \n",
              "2                            10  \n",
              "4                             9  \n",
              "5                             4  \n",
              "6                             9  \n",
              "...                         ...  \n",
              "3999                          3  \n",
              "4000                          6  \n",
              "4001                         10  \n",
              "4002                          7  \n",
              "4003                          7  \n",
              "\n",
              "[3999 rows x 5 columns]"
            ]
          },
          "metadata": {},
          "execution_count": 85
        }
      ]
    },
    {
      "cell_type": "code",
      "metadata": {
        "id": "b8dd4c63"
      },
      "source": [
        "cust_add.dropna(how='all',axis=1,inplace = True)"
      ],
      "id": "b8dd4c63",
      "execution_count": 86,
      "outputs": []
    },
    {
      "cell_type": "code",
      "metadata": {
        "id": "b8fbb11f"
      },
      "source": [
        "#removing the nan values\n",
        "cust_add = cust_add.loc[:,cust_add.columns.notnull()]"
      ],
      "id": "b8fbb11f",
      "execution_count": 87,
      "outputs": []
    },
    {
      "cell_type": "code",
      "metadata": {
        "colab": {
          "base_uri": "https://localhost:8080/",
          "height": 0
        },
        "id": "130dc309",
        "outputId": "3600beba-03ec-4e5e-9b7a-3b8adc5028fd"
      },
      "source": [
        "cust_add.head()"
      ],
      "id": "130dc309",
      "execution_count": 88,
      "outputs": [
        {
          "output_type": "execute_result",
          "data": {
            "text/html": [
              "<div>\n",
              "<style scoped>\n",
              "    .dataframe tbody tr th:only-of-type {\n",
              "        vertical-align: middle;\n",
              "    }\n",
              "\n",
              "    .dataframe tbody tr th {\n",
              "        vertical-align: top;\n",
              "    }\n",
              "\n",
              "    .dataframe thead th {\n",
              "        text-align: right;\n",
              "    }\n",
              "</style>\n",
              "<table border=\"1\" class=\"dataframe\">\n",
              "  <thead>\n",
              "    <tr style=\"text-align: right;\">\n",
              "      <th></th>\n",
              "      <th>address</th>\n",
              "      <th>postcode</th>\n",
              "      <th>state</th>\n",
              "      <th>country</th>\n",
              "      <th>property_valuation</th>\n",
              "    </tr>\n",
              "    <tr>\n",
              "      <th>customer_id</th>\n",
              "      <th></th>\n",
              "      <th></th>\n",
              "      <th></th>\n",
              "      <th></th>\n",
              "      <th></th>\n",
              "    </tr>\n",
              "  </thead>\n",
              "  <tbody>\n",
              "    <tr>\n",
              "      <th>1</th>\n",
              "      <td>060 Morning Avenue</td>\n",
              "      <td>2016</td>\n",
              "      <td>New South Wales</td>\n",
              "      <td>Australia</td>\n",
              "      <td>10</td>\n",
              "    </tr>\n",
              "    <tr>\n",
              "      <th>2</th>\n",
              "      <td>6 Meadow Vale Court</td>\n",
              "      <td>2153</td>\n",
              "      <td>New South Wales</td>\n",
              "      <td>Australia</td>\n",
              "      <td>10</td>\n",
              "    </tr>\n",
              "    <tr>\n",
              "      <th>4</th>\n",
              "      <td>0 Holy Cross Court</td>\n",
              "      <td>4211</td>\n",
              "      <td>QLD</td>\n",
              "      <td>Australia</td>\n",
              "      <td>9</td>\n",
              "    </tr>\n",
              "    <tr>\n",
              "      <th>5</th>\n",
              "      <td>17979 Del Mar Point</td>\n",
              "      <td>2448</td>\n",
              "      <td>New South Wales</td>\n",
              "      <td>Australia</td>\n",
              "      <td>4</td>\n",
              "    </tr>\n",
              "    <tr>\n",
              "      <th>6</th>\n",
              "      <td>9 Oakridge Court</td>\n",
              "      <td>3216</td>\n",
              "      <td>VIC</td>\n",
              "      <td>Australia</td>\n",
              "      <td>9</td>\n",
              "    </tr>\n",
              "  </tbody>\n",
              "</table>\n",
              "</div>"
            ],
            "text/plain": [
              "                         address  postcode            state    country  \\\n",
              "customer_id                                                              \n",
              "1             060 Morning Avenue      2016  New South Wales  Australia   \n",
              "2            6 Meadow Vale Court      2153  New South Wales  Australia   \n",
              "4             0 Holy Cross Court      4211              QLD  Australia   \n",
              "5            17979 Del Mar Point      2448  New South Wales  Australia   \n",
              "6               9 Oakridge Court      3216              VIC  Australia   \n",
              "\n",
              "             property_valuation  \n",
              "customer_id                      \n",
              "1                            10  \n",
              "2                            10  \n",
              "4                             9  \n",
              "5                             4  \n",
              "6                             9  "
            ]
          },
          "metadata": {},
          "execution_count": 88
        }
      ]
    },
    {
      "cell_type": "code",
      "metadata": {
        "colab": {
          "base_uri": "https://localhost:8080/",
          "height": 0
        },
        "id": "78f35253",
        "outputId": "3ee3c2b7-548a-4a0b-f501-9b042f4c0f85"
      },
      "source": [
        "cust_add.drop_duplicates()"
      ],
      "id": "78f35253",
      "execution_count": 89,
      "outputs": [
        {
          "output_type": "execute_result",
          "data": {
            "text/html": [
              "<div>\n",
              "<style scoped>\n",
              "    .dataframe tbody tr th:only-of-type {\n",
              "        vertical-align: middle;\n",
              "    }\n",
              "\n",
              "    .dataframe tbody tr th {\n",
              "        vertical-align: top;\n",
              "    }\n",
              "\n",
              "    .dataframe thead th {\n",
              "        text-align: right;\n",
              "    }\n",
              "</style>\n",
              "<table border=\"1\" class=\"dataframe\">\n",
              "  <thead>\n",
              "    <tr style=\"text-align: right;\">\n",
              "      <th></th>\n",
              "      <th>address</th>\n",
              "      <th>postcode</th>\n",
              "      <th>state</th>\n",
              "      <th>country</th>\n",
              "      <th>property_valuation</th>\n",
              "    </tr>\n",
              "    <tr>\n",
              "      <th>customer_id</th>\n",
              "      <th></th>\n",
              "      <th></th>\n",
              "      <th></th>\n",
              "      <th></th>\n",
              "      <th></th>\n",
              "    </tr>\n",
              "  </thead>\n",
              "  <tbody>\n",
              "    <tr>\n",
              "      <th>1</th>\n",
              "      <td>060 Morning Avenue</td>\n",
              "      <td>2016</td>\n",
              "      <td>New South Wales</td>\n",
              "      <td>Australia</td>\n",
              "      <td>10</td>\n",
              "    </tr>\n",
              "    <tr>\n",
              "      <th>2</th>\n",
              "      <td>6 Meadow Vale Court</td>\n",
              "      <td>2153</td>\n",
              "      <td>New South Wales</td>\n",
              "      <td>Australia</td>\n",
              "      <td>10</td>\n",
              "    </tr>\n",
              "    <tr>\n",
              "      <th>4</th>\n",
              "      <td>0 Holy Cross Court</td>\n",
              "      <td>4211</td>\n",
              "      <td>QLD</td>\n",
              "      <td>Australia</td>\n",
              "      <td>9</td>\n",
              "    </tr>\n",
              "    <tr>\n",
              "      <th>5</th>\n",
              "      <td>17979 Del Mar Point</td>\n",
              "      <td>2448</td>\n",
              "      <td>New South Wales</td>\n",
              "      <td>Australia</td>\n",
              "      <td>4</td>\n",
              "    </tr>\n",
              "    <tr>\n",
              "      <th>6</th>\n",
              "      <td>9 Oakridge Court</td>\n",
              "      <td>3216</td>\n",
              "      <td>VIC</td>\n",
              "      <td>Australia</td>\n",
              "      <td>9</td>\n",
              "    </tr>\n",
              "    <tr>\n",
              "      <th>...</th>\n",
              "      <td>...</td>\n",
              "      <td>...</td>\n",
              "      <td>...</td>\n",
              "      <td>...</td>\n",
              "      <td>...</td>\n",
              "    </tr>\n",
              "    <tr>\n",
              "      <th>3999</th>\n",
              "      <td>1482 Hauk Trail</td>\n",
              "      <td>3064</td>\n",
              "      <td>VIC</td>\n",
              "      <td>Australia</td>\n",
              "      <td>3</td>\n",
              "    </tr>\n",
              "    <tr>\n",
              "      <th>4000</th>\n",
              "      <td>57042 Village Green Point</td>\n",
              "      <td>4511</td>\n",
              "      <td>QLD</td>\n",
              "      <td>Australia</td>\n",
              "      <td>6</td>\n",
              "    </tr>\n",
              "    <tr>\n",
              "      <th>4001</th>\n",
              "      <td>87 Crescent Oaks Alley</td>\n",
              "      <td>2756</td>\n",
              "      <td>NSW</td>\n",
              "      <td>Australia</td>\n",
              "      <td>10</td>\n",
              "    </tr>\n",
              "    <tr>\n",
              "      <th>4002</th>\n",
              "      <td>8194 Lien Street</td>\n",
              "      <td>4032</td>\n",
              "      <td>QLD</td>\n",
              "      <td>Australia</td>\n",
              "      <td>7</td>\n",
              "    </tr>\n",
              "    <tr>\n",
              "      <th>4003</th>\n",
              "      <td>320 Acker Drive</td>\n",
              "      <td>2251</td>\n",
              "      <td>NSW</td>\n",
              "      <td>Australia</td>\n",
              "      <td>7</td>\n",
              "    </tr>\n",
              "  </tbody>\n",
              "</table>\n",
              "<p>3999 rows × 5 columns</p>\n",
              "</div>"
            ],
            "text/plain": [
              "                               address  postcode            state    country  \\\n",
              "customer_id                                                                    \n",
              "1                   060 Morning Avenue      2016  New South Wales  Australia   \n",
              "2                  6 Meadow Vale Court      2153  New South Wales  Australia   \n",
              "4                   0 Holy Cross Court      4211              QLD  Australia   \n",
              "5                  17979 Del Mar Point      2448  New South Wales  Australia   \n",
              "6                     9 Oakridge Court      3216              VIC  Australia   \n",
              "...                                ...       ...              ...        ...   \n",
              "3999                   1482 Hauk Trail      3064              VIC  Australia   \n",
              "4000         57042 Village Green Point      4511              QLD  Australia   \n",
              "4001            87 Crescent Oaks Alley      2756              NSW  Australia   \n",
              "4002                  8194 Lien Street      4032              QLD  Australia   \n",
              "4003                   320 Acker Drive      2251              NSW  Australia   \n",
              "\n",
              "             property_valuation  \n",
              "customer_id                      \n",
              "1                            10  \n",
              "2                            10  \n",
              "4                             9  \n",
              "5                             4  \n",
              "6                             9  \n",
              "...                         ...  \n",
              "3999                          3  \n",
              "4000                          6  \n",
              "4001                         10  \n",
              "4002                          7  \n",
              "4003                          7  \n",
              "\n",
              "[3999 rows x 5 columns]"
            ]
          },
          "metadata": {},
          "execution_count": 89
        }
      ]
    },
    {
      "cell_type": "code",
      "metadata": {
        "id": "1f6cea95"
      },
      "source": [
        "#since all values in country column is Australia it doesnt provide any info so we can delete or rename dataframe with australia dataset"
      ],
      "id": "1f6cea95",
      "execution_count": 90,
      "outputs": []
    },
    {
      "cell_type": "code",
      "metadata": {
        "colab": {
          "base_uri": "https://localhost:8080/"
        },
        "id": "1f4fdf30",
        "outputId": "8fad668e-13d3-4906-dcd6-316ba509d398"
      },
      "source": [
        "cust_add.state.value_counts()"
      ],
      "id": "1f4fdf30",
      "execution_count": 91,
      "outputs": [
        {
          "output_type": "execute_result",
          "data": {
            "text/plain": [
              "NSW                2054\n",
              "VIC                 939\n",
              "QLD                 838\n",
              "New South Wales      86\n",
              "Victoria             82\n",
              "Name: state, dtype: int64"
            ]
          },
          "metadata": {},
          "execution_count": 91
        }
      ]
    },
    {
      "cell_type": "code",
      "metadata": {
        "id": "6a853d86"
      },
      "source": [
        "cust_add.state.replace({'New South Wales':\"NSW\",\"Victoria\":\"VIC\"},inplace = True)"
      ],
      "id": "6a853d86",
      "execution_count": 92,
      "outputs": []
    },
    {
      "cell_type": "code",
      "metadata": {
        "id": "36e44ccd"
      },
      "source": [
        "cust_add.drop_duplicates(inplace=True)\n",
        "#no duplicates to remove"
      ],
      "id": "36e44ccd",
      "execution_count": 93,
      "outputs": []
    },
    {
      "cell_type": "code",
      "metadata": {
        "colab": {
          "base_uri": "https://localhost:8080/"
        },
        "id": "08a6551f",
        "outputId": "58426930-60fd-4cf2-e345-46aef05d3678"
      },
      "source": [
        "cust_add.property_valuation.value_counts()"
      ],
      "id": "08a6551f",
      "execution_count": 94,
      "outputs": [
        {
          "output_type": "execute_result",
          "data": {
            "text/plain": [
              "9     647\n",
              "8     646\n",
              "10    577\n",
              "7     493\n",
              "11    281\n",
              "6     238\n",
              "5     225\n",
              "4     214\n",
              "12    195\n",
              "3     186\n",
              "1     154\n",
              "2     143\n",
              "Name: property_valuation, dtype: int64"
            ]
          },
          "metadata": {},
          "execution_count": 94
        }
      ]
    },
    {
      "cell_type": "markdown",
      "metadata": {
        "id": "281c8d5a"
      },
      "source": [
        "Delete this latter "
      ],
      "id": "281c8d5a"
    },
    {
      "cell_type": "code",
      "metadata": {
        "colab": {
          "base_uri": "https://localhost:8080/",
          "height": 0
        },
        "id": "8bccc8f4",
        "outputId": "1c2d3904-b751-47fe-aadd-ff493492f220"
      },
      "source": [
        "tran_df"
      ],
      "id": "8bccc8f4",
      "execution_count": 95,
      "outputs": [
        {
          "output_type": "execute_result",
          "data": {
            "text/html": [
              "<div>\n",
              "<style scoped>\n",
              "    .dataframe tbody tr th:only-of-type {\n",
              "        vertical-align: middle;\n",
              "    }\n",
              "\n",
              "    .dataframe tbody tr th {\n",
              "        vertical-align: top;\n",
              "    }\n",
              "\n",
              "    .dataframe thead th {\n",
              "        text-align: right;\n",
              "    }\n",
              "</style>\n",
              "<table border=\"1\" class=\"dataframe\">\n",
              "  <thead>\n",
              "    <tr style=\"text-align: right;\">\n",
              "      <th></th>\n",
              "      <th>product_id</th>\n",
              "      <th>customer_id</th>\n",
              "      <th>transaction_date</th>\n",
              "      <th>online_order</th>\n",
              "      <th>order_status</th>\n",
              "      <th>brand</th>\n",
              "      <th>product_line</th>\n",
              "      <th>product_class</th>\n",
              "      <th>product_size</th>\n",
              "      <th>list_price</th>\n",
              "      <th>standard_cost</th>\n",
              "      <th>product_first_sold_date</th>\n",
              "    </tr>\n",
              "    <tr>\n",
              "      <th>transaction_id</th>\n",
              "      <th></th>\n",
              "      <th></th>\n",
              "      <th></th>\n",
              "      <th></th>\n",
              "      <th></th>\n",
              "      <th></th>\n",
              "      <th></th>\n",
              "      <th></th>\n",
              "      <th></th>\n",
              "      <th></th>\n",
              "      <th></th>\n",
              "      <th></th>\n",
              "    </tr>\n",
              "  </thead>\n",
              "  <tbody>\n",
              "    <tr>\n",
              "      <th>1</th>\n",
              "      <td>2</td>\n",
              "      <td>2950</td>\n",
              "      <td>2017-02-25</td>\n",
              "      <td>0</td>\n",
              "      <td>Approved</td>\n",
              "      <td>Solex</td>\n",
              "      <td>Standard</td>\n",
              "      <td>medium</td>\n",
              "      <td>medium</td>\n",
              "      <td>71.49</td>\n",
              "      <td>53.62</td>\n",
              "      <td>1970-01-01 11:27:25</td>\n",
              "    </tr>\n",
              "    <tr>\n",
              "      <th>2</th>\n",
              "      <td>3</td>\n",
              "      <td>3120</td>\n",
              "      <td>2017-05-21</td>\n",
              "      <td>1</td>\n",
              "      <td>Approved</td>\n",
              "      <td>Trek Bicycles</td>\n",
              "      <td>Standard</td>\n",
              "      <td>medium</td>\n",
              "      <td>large</td>\n",
              "      <td>2091.47</td>\n",
              "      <td>388.92</td>\n",
              "      <td>1970-01-01 11:35:01</td>\n",
              "    </tr>\n",
              "    <tr>\n",
              "      <th>3</th>\n",
              "      <td>37</td>\n",
              "      <td>402</td>\n",
              "      <td>2017-10-16</td>\n",
              "      <td>0</td>\n",
              "      <td>Approved</td>\n",
              "      <td>OHM Cycles</td>\n",
              "      <td>Standard</td>\n",
              "      <td>low</td>\n",
              "      <td>medium</td>\n",
              "      <td>1793.43</td>\n",
              "      <td>248.82</td>\n",
              "      <td>1970-01-01 10:06:01</td>\n",
              "    </tr>\n",
              "    <tr>\n",
              "      <th>4</th>\n",
              "      <td>88</td>\n",
              "      <td>3135</td>\n",
              "      <td>2017-08-31</td>\n",
              "      <td>0</td>\n",
              "      <td>Approved</td>\n",
              "      <td>Norco Bicycles</td>\n",
              "      <td>Standard</td>\n",
              "      <td>medium</td>\n",
              "      <td>medium</td>\n",
              "      <td>1198.46</td>\n",
              "      <td>381.10</td>\n",
              "      <td>1970-01-01 10:02:25</td>\n",
              "    </tr>\n",
              "    <tr>\n",
              "      <th>5</th>\n",
              "      <td>78</td>\n",
              "      <td>787</td>\n",
              "      <td>2017-10-01</td>\n",
              "      <td>1</td>\n",
              "      <td>Approved</td>\n",
              "      <td>Giant Bicycles</td>\n",
              "      <td>Standard</td>\n",
              "      <td>medium</td>\n",
              "      <td>large</td>\n",
              "      <td>1765.30</td>\n",
              "      <td>709.48</td>\n",
              "      <td>1970-01-01 11:43:46</td>\n",
              "    </tr>\n",
              "    <tr>\n",
              "      <th>...</th>\n",
              "      <td>...</td>\n",
              "      <td>...</td>\n",
              "      <td>...</td>\n",
              "      <td>...</td>\n",
              "      <td>...</td>\n",
              "      <td>...</td>\n",
              "      <td>...</td>\n",
              "      <td>...</td>\n",
              "      <td>...</td>\n",
              "      <td>...</td>\n",
              "      <td>...</td>\n",
              "      <td>...</td>\n",
              "    </tr>\n",
              "    <tr>\n",
              "      <th>19996</th>\n",
              "      <td>51</td>\n",
              "      <td>1018</td>\n",
              "      <td>2017-06-24</td>\n",
              "      <td>1</td>\n",
              "      <td>Approved</td>\n",
              "      <td>OHM Cycles</td>\n",
              "      <td>Standard</td>\n",
              "      <td>high</td>\n",
              "      <td>medium</td>\n",
              "      <td>2005.66</td>\n",
              "      <td>1203.40</td>\n",
              "      <td>1970-01-01 10:30:23</td>\n",
              "    </tr>\n",
              "    <tr>\n",
              "      <th>19997</th>\n",
              "      <td>41</td>\n",
              "      <td>127</td>\n",
              "      <td>2017-11-09</td>\n",
              "      <td>1</td>\n",
              "      <td>Approved</td>\n",
              "      <td>Solex</td>\n",
              "      <td>Road</td>\n",
              "      <td>medium</td>\n",
              "      <td>medium</td>\n",
              "      <td>416.98</td>\n",
              "      <td>312.74</td>\n",
              "      <td>1970-01-01 09:52:40</td>\n",
              "    </tr>\n",
              "    <tr>\n",
              "      <th>19998</th>\n",
              "      <td>87</td>\n",
              "      <td>2284</td>\n",
              "      <td>2017-04-14</td>\n",
              "      <td>1</td>\n",
              "      <td>Approved</td>\n",
              "      <td>OHM Cycles</td>\n",
              "      <td>Standard</td>\n",
              "      <td>medium</td>\n",
              "      <td>medium</td>\n",
              "      <td>1636.90</td>\n",
              "      <td>44.71</td>\n",
              "      <td>1970-01-01 11:13:30</td>\n",
              "    </tr>\n",
              "    <tr>\n",
              "      <th>19999</th>\n",
              "      <td>6</td>\n",
              "      <td>2764</td>\n",
              "      <td>2017-07-03</td>\n",
              "      <td>0</td>\n",
              "      <td>Approved</td>\n",
              "      <td>OHM Cycles</td>\n",
              "      <td>Standard</td>\n",
              "      <td>high</td>\n",
              "      <td>medium</td>\n",
              "      <td>227.88</td>\n",
              "      <td>136.73</td>\n",
              "      <td>1970-01-01 10:36:56</td>\n",
              "    </tr>\n",
              "    <tr>\n",
              "      <th>20000</th>\n",
              "      <td>11</td>\n",
              "      <td>1144</td>\n",
              "      <td>2017-09-22</td>\n",
              "      <td>1</td>\n",
              "      <td>Approved</td>\n",
              "      <td>Trek Bicycles</td>\n",
              "      <td>Standard</td>\n",
              "      <td>medium</td>\n",
              "      <td>small</td>\n",
              "      <td>1775.81</td>\n",
              "      <td>1580.47</td>\n",
              "      <td>1970-01-01 10:05:34</td>\n",
              "    </tr>\n",
              "  </tbody>\n",
              "</table>\n",
              "<p>20000 rows × 12 columns</p>\n",
              "</div>"
            ],
            "text/plain": [
              "                product_id  customer_id transaction_date  online_order  \\\n",
              "transaction_id                                                           \n",
              "1                        2         2950       2017-02-25             0   \n",
              "2                        3         3120       2017-05-21             1   \n",
              "3                       37          402       2017-10-16             0   \n",
              "4                       88         3135       2017-08-31             0   \n",
              "5                       78          787       2017-10-01             1   \n",
              "...                    ...          ...              ...           ...   \n",
              "19996                   51         1018       2017-06-24             1   \n",
              "19997                   41          127       2017-11-09             1   \n",
              "19998                   87         2284       2017-04-14             1   \n",
              "19999                    6         2764       2017-07-03             0   \n",
              "20000                   11         1144       2017-09-22             1   \n",
              "\n",
              "               order_status           brand product_line product_class  \\\n",
              "transaction_id                                                           \n",
              "1                  Approved           Solex     Standard        medium   \n",
              "2                  Approved   Trek Bicycles     Standard        medium   \n",
              "3                  Approved      OHM Cycles     Standard           low   \n",
              "4                  Approved  Norco Bicycles     Standard        medium   \n",
              "5                  Approved  Giant Bicycles     Standard        medium   \n",
              "...                     ...             ...          ...           ...   \n",
              "19996              Approved      OHM Cycles     Standard          high   \n",
              "19997              Approved           Solex         Road        medium   \n",
              "19998              Approved      OHM Cycles     Standard        medium   \n",
              "19999              Approved      OHM Cycles     Standard          high   \n",
              "20000              Approved   Trek Bicycles     Standard        medium   \n",
              "\n",
              "               product_size  list_price  standard_cost product_first_sold_date  \n",
              "transaction_id                                                                  \n",
              "1                    medium       71.49          53.62     1970-01-01 11:27:25  \n",
              "2                     large     2091.47         388.92     1970-01-01 11:35:01  \n",
              "3                    medium     1793.43         248.82     1970-01-01 10:06:01  \n",
              "4                    medium     1198.46         381.10     1970-01-01 10:02:25  \n",
              "5                     large     1765.30         709.48     1970-01-01 11:43:46  \n",
              "...                     ...         ...            ...                     ...  \n",
              "19996                medium     2005.66        1203.40     1970-01-01 10:30:23  \n",
              "19997                medium      416.98         312.74     1970-01-01 09:52:40  \n",
              "19998                medium     1636.90          44.71     1970-01-01 11:13:30  \n",
              "19999                medium      227.88         136.73     1970-01-01 10:36:56  \n",
              "20000                 small     1775.81        1580.47     1970-01-01 10:05:34  \n",
              "\n",
              "[20000 rows x 12 columns]"
            ]
          },
          "metadata": {},
          "execution_count": 95
        }
      ]
    },
    {
      "cell_type": "code",
      "metadata": {
        "colab": {
          "base_uri": "https://localhost:8080/",
          "height": 0
        },
        "id": "736dee74",
        "outputId": "97832179-111f-4d10-fdc4-d3c267341ac1"
      },
      "source": [
        "cust_add"
      ],
      "id": "736dee74",
      "execution_count": 96,
      "outputs": [
        {
          "output_type": "execute_result",
          "data": {
            "text/html": [
              "<div>\n",
              "<style scoped>\n",
              "    .dataframe tbody tr th:only-of-type {\n",
              "        vertical-align: middle;\n",
              "    }\n",
              "\n",
              "    .dataframe tbody tr th {\n",
              "        vertical-align: top;\n",
              "    }\n",
              "\n",
              "    .dataframe thead th {\n",
              "        text-align: right;\n",
              "    }\n",
              "</style>\n",
              "<table border=\"1\" class=\"dataframe\">\n",
              "  <thead>\n",
              "    <tr style=\"text-align: right;\">\n",
              "      <th></th>\n",
              "      <th>address</th>\n",
              "      <th>postcode</th>\n",
              "      <th>state</th>\n",
              "      <th>country</th>\n",
              "      <th>property_valuation</th>\n",
              "    </tr>\n",
              "    <tr>\n",
              "      <th>customer_id</th>\n",
              "      <th></th>\n",
              "      <th></th>\n",
              "      <th></th>\n",
              "      <th></th>\n",
              "      <th></th>\n",
              "    </tr>\n",
              "  </thead>\n",
              "  <tbody>\n",
              "    <tr>\n",
              "      <th>1</th>\n",
              "      <td>060 Morning Avenue</td>\n",
              "      <td>2016</td>\n",
              "      <td>NSW</td>\n",
              "      <td>Australia</td>\n",
              "      <td>10</td>\n",
              "    </tr>\n",
              "    <tr>\n",
              "      <th>2</th>\n",
              "      <td>6 Meadow Vale Court</td>\n",
              "      <td>2153</td>\n",
              "      <td>NSW</td>\n",
              "      <td>Australia</td>\n",
              "      <td>10</td>\n",
              "    </tr>\n",
              "    <tr>\n",
              "      <th>4</th>\n",
              "      <td>0 Holy Cross Court</td>\n",
              "      <td>4211</td>\n",
              "      <td>QLD</td>\n",
              "      <td>Australia</td>\n",
              "      <td>9</td>\n",
              "    </tr>\n",
              "    <tr>\n",
              "      <th>5</th>\n",
              "      <td>17979 Del Mar Point</td>\n",
              "      <td>2448</td>\n",
              "      <td>NSW</td>\n",
              "      <td>Australia</td>\n",
              "      <td>4</td>\n",
              "    </tr>\n",
              "    <tr>\n",
              "      <th>6</th>\n",
              "      <td>9 Oakridge Court</td>\n",
              "      <td>3216</td>\n",
              "      <td>VIC</td>\n",
              "      <td>Australia</td>\n",
              "      <td>9</td>\n",
              "    </tr>\n",
              "    <tr>\n",
              "      <th>...</th>\n",
              "      <td>...</td>\n",
              "      <td>...</td>\n",
              "      <td>...</td>\n",
              "      <td>...</td>\n",
              "      <td>...</td>\n",
              "    </tr>\n",
              "    <tr>\n",
              "      <th>3999</th>\n",
              "      <td>1482 Hauk Trail</td>\n",
              "      <td>3064</td>\n",
              "      <td>VIC</td>\n",
              "      <td>Australia</td>\n",
              "      <td>3</td>\n",
              "    </tr>\n",
              "    <tr>\n",
              "      <th>4000</th>\n",
              "      <td>57042 Village Green Point</td>\n",
              "      <td>4511</td>\n",
              "      <td>QLD</td>\n",
              "      <td>Australia</td>\n",
              "      <td>6</td>\n",
              "    </tr>\n",
              "    <tr>\n",
              "      <th>4001</th>\n",
              "      <td>87 Crescent Oaks Alley</td>\n",
              "      <td>2756</td>\n",
              "      <td>NSW</td>\n",
              "      <td>Australia</td>\n",
              "      <td>10</td>\n",
              "    </tr>\n",
              "    <tr>\n",
              "      <th>4002</th>\n",
              "      <td>8194 Lien Street</td>\n",
              "      <td>4032</td>\n",
              "      <td>QLD</td>\n",
              "      <td>Australia</td>\n",
              "      <td>7</td>\n",
              "    </tr>\n",
              "    <tr>\n",
              "      <th>4003</th>\n",
              "      <td>320 Acker Drive</td>\n",
              "      <td>2251</td>\n",
              "      <td>NSW</td>\n",
              "      <td>Australia</td>\n",
              "      <td>7</td>\n",
              "    </tr>\n",
              "  </tbody>\n",
              "</table>\n",
              "<p>3999 rows × 5 columns</p>\n",
              "</div>"
            ],
            "text/plain": [
              "                               address  postcode state    country  \\\n",
              "customer_id                                                         \n",
              "1                   060 Morning Avenue      2016   NSW  Australia   \n",
              "2                  6 Meadow Vale Court      2153   NSW  Australia   \n",
              "4                   0 Holy Cross Court      4211   QLD  Australia   \n",
              "5                  17979 Del Mar Point      2448   NSW  Australia   \n",
              "6                     9 Oakridge Court      3216   VIC  Australia   \n",
              "...                                ...       ...   ...        ...   \n",
              "3999                   1482 Hauk Trail      3064   VIC  Australia   \n",
              "4000         57042 Village Green Point      4511   QLD  Australia   \n",
              "4001            87 Crescent Oaks Alley      2756   NSW  Australia   \n",
              "4002                  8194 Lien Street      4032   QLD  Australia   \n",
              "4003                   320 Acker Drive      2251   NSW  Australia   \n",
              "\n",
              "             property_valuation  \n",
              "customer_id                      \n",
              "1                            10  \n",
              "2                            10  \n",
              "4                             9  \n",
              "5                             4  \n",
              "6                             9  \n",
              "...                         ...  \n",
              "3999                          3  \n",
              "4000                          6  \n",
              "4001                         10  \n",
              "4002                          7  \n",
              "4003                          7  \n",
              "\n",
              "[3999 rows x 5 columns]"
            ]
          },
          "metadata": {},
          "execution_count": 96
        }
      ]
    },
    {
      "cell_type": "code",
      "metadata": {
        "colab": {
          "base_uri": "https://localhost:8080/",
          "height": 0
        },
        "id": "b67e3524",
        "outputId": "bcf14314-919a-4c1d-d5c0-3f6e277bedaa"
      },
      "source": [
        "cust_demo"
      ],
      "id": "b67e3524",
      "execution_count": 97,
      "outputs": [
        {
          "output_type": "execute_result",
          "data": {
            "text/html": [
              "<div>\n",
              "<style scoped>\n",
              "    .dataframe tbody tr th:only-of-type {\n",
              "        vertical-align: middle;\n",
              "    }\n",
              "\n",
              "    .dataframe tbody tr th {\n",
              "        vertical-align: top;\n",
              "    }\n",
              "\n",
              "    .dataframe thead th {\n",
              "        text-align: right;\n",
              "    }\n",
              "</style>\n",
              "<table border=\"1\" class=\"dataframe\">\n",
              "  <thead>\n",
              "    <tr style=\"text-align: right;\">\n",
              "      <th></th>\n",
              "      <th>first_name</th>\n",
              "      <th>last_name</th>\n",
              "      <th>gender</th>\n",
              "      <th>other_purchases</th>\n",
              "      <th>DOB</th>\n",
              "      <th>job_title</th>\n",
              "      <th>job_industry</th>\n",
              "      <th>wealth_segment</th>\n",
              "      <th>deceased_indicator</th>\n",
              "      <th>owns_car</th>\n",
              "      <th>tenure</th>\n",
              "      <th>year</th>\n",
              "    </tr>\n",
              "    <tr>\n",
              "      <th>customer_id</th>\n",
              "      <th></th>\n",
              "      <th></th>\n",
              "      <th></th>\n",
              "      <th></th>\n",
              "      <th></th>\n",
              "      <th></th>\n",
              "      <th></th>\n",
              "      <th></th>\n",
              "      <th></th>\n",
              "      <th></th>\n",
              "      <th></th>\n",
              "      <th></th>\n",
              "    </tr>\n",
              "  </thead>\n",
              "  <tbody>\n",
              "    <tr>\n",
              "      <th>1</th>\n",
              "      <td>Laraine</td>\n",
              "      <td>Medendorp</td>\n",
              "      <td>F</td>\n",
              "      <td>93</td>\n",
              "      <td>1953-10-12</td>\n",
              "      <td>Executive Secretary</td>\n",
              "      <td>Health</td>\n",
              "      <td>Mass Customer</td>\n",
              "      <td>N</td>\n",
              "      <td>Yes</td>\n",
              "      <td>11</td>\n",
              "      <td>1953</td>\n",
              "    </tr>\n",
              "    <tr>\n",
              "      <th>2</th>\n",
              "      <td>Eli</td>\n",
              "      <td>Bockman</td>\n",
              "      <td>M</td>\n",
              "      <td>81</td>\n",
              "      <td>1980-12-16</td>\n",
              "      <td>Administrative Officer</td>\n",
              "      <td>Financial Services</td>\n",
              "      <td>Mass Customer</td>\n",
              "      <td>N</td>\n",
              "      <td>Yes</td>\n",
              "      <td>16</td>\n",
              "      <td>1980</td>\n",
              "    </tr>\n",
              "    <tr>\n",
              "      <th>3</th>\n",
              "      <td>Arlin</td>\n",
              "      <td>Dearle</td>\n",
              "      <td>M</td>\n",
              "      <td>61</td>\n",
              "      <td>1954-01-20</td>\n",
              "      <td>Recruiting Manager</td>\n",
              "      <td>Property</td>\n",
              "      <td>Mass Customer</td>\n",
              "      <td>N</td>\n",
              "      <td>Yes</td>\n",
              "      <td>15</td>\n",
              "      <td>1954</td>\n",
              "    </tr>\n",
              "    <tr>\n",
              "      <th>9</th>\n",
              "      <td>Mala</td>\n",
              "      <td>Lind</td>\n",
              "      <td>F</td>\n",
              "      <td>97</td>\n",
              "      <td>1973-03-10</td>\n",
              "      <td>Business Systems Development Analyst</td>\n",
              "      <td>Argiculture</td>\n",
              "      <td>Affluent Customer</td>\n",
              "      <td>N</td>\n",
              "      <td>Yes</td>\n",
              "      <td>8</td>\n",
              "      <td>1973</td>\n",
              "    </tr>\n",
              "    <tr>\n",
              "      <th>10</th>\n",
              "      <td>Fiorenze</td>\n",
              "      <td>Birdall</td>\n",
              "      <td>F</td>\n",
              "      <td>49</td>\n",
              "      <td>1988-10-11</td>\n",
              "      <td>Senior Quality Engineer</td>\n",
              "      <td>Financial Services</td>\n",
              "      <td>Mass Customer</td>\n",
              "      <td>N</td>\n",
              "      <td>Yes</td>\n",
              "      <td>20</td>\n",
              "      <td>1988</td>\n",
              "    </tr>\n",
              "    <tr>\n",
              "      <th>...</th>\n",
              "      <td>...</td>\n",
              "      <td>...</td>\n",
              "      <td>...</td>\n",
              "      <td>...</td>\n",
              "      <td>...</td>\n",
              "      <td>...</td>\n",
              "      <td>...</td>\n",
              "      <td>...</td>\n",
              "      <td>...</td>\n",
              "      <td>...</td>\n",
              "      <td>...</td>\n",
              "      <td>...</td>\n",
              "    </tr>\n",
              "    <tr>\n",
              "      <th>3994</th>\n",
              "      <td>Stephie</td>\n",
              "      <td>Byars</td>\n",
              "      <td>F</td>\n",
              "      <td>5</td>\n",
              "      <td>1989-04-07</td>\n",
              "      <td>Structural Analysis Engineer</td>\n",
              "      <td>Manufacturing</td>\n",
              "      <td>Affluent Customer</td>\n",
              "      <td>N</td>\n",
              "      <td>No</td>\n",
              "      <td>12</td>\n",
              "      <td>1989</td>\n",
              "    </tr>\n",
              "    <tr>\n",
              "      <th>3995</th>\n",
              "      <td>Rusty</td>\n",
              "      <td>Iapico</td>\n",
              "      <td>M</td>\n",
              "      <td>93</td>\n",
              "      <td>1975-12-12</td>\n",
              "      <td>Staff Scientist</td>\n",
              "      <td>Manufacturing</td>\n",
              "      <td>Mass Customer</td>\n",
              "      <td>N</td>\n",
              "      <td>Yes</td>\n",
              "      <td>14</td>\n",
              "      <td>1975</td>\n",
              "    </tr>\n",
              "    <tr>\n",
              "      <th>3996</th>\n",
              "      <td>Rosalia</td>\n",
              "      <td>Halgarth</td>\n",
              "      <td>F</td>\n",
              "      <td>8</td>\n",
              "      <td>1975-08-09</td>\n",
              "      <td>VP Product Management</td>\n",
              "      <td>Health</td>\n",
              "      <td>Mass Customer</td>\n",
              "      <td>N</td>\n",
              "      <td>No</td>\n",
              "      <td>19</td>\n",
              "      <td>1975</td>\n",
              "    </tr>\n",
              "    <tr>\n",
              "      <th>3997</th>\n",
              "      <td>Blanch</td>\n",
              "      <td>Nisuis</td>\n",
              "      <td>F</td>\n",
              "      <td>87</td>\n",
              "      <td>2001-07-13</td>\n",
              "      <td>Statistician II</td>\n",
              "      <td>Manufacturing</td>\n",
              "      <td>High Net Worth</td>\n",
              "      <td>N</td>\n",
              "      <td>Yes</td>\n",
              "      <td>1</td>\n",
              "      <td>2001</td>\n",
              "    </tr>\n",
              "    <tr>\n",
              "      <th>3998</th>\n",
              "      <td>Sarene</td>\n",
              "      <td>Woolley</td>\n",
              "      <td>Not Specified</td>\n",
              "      <td>60</td>\n",
              "      <td>1978-01-01</td>\n",
              "      <td>Assistant Manager</td>\n",
              "      <td>IT</td>\n",
              "      <td>High Net Worth</td>\n",
              "      <td>N</td>\n",
              "      <td>No</td>\n",
              "      <td>10</td>\n",
              "      <td>1978</td>\n",
              "    </tr>\n",
              "  </tbody>\n",
              "</table>\n",
              "<p>2942 rows × 12 columns</p>\n",
              "</div>"
            ],
            "text/plain": [
              "            first_name  last_name         gender  other_purchases        DOB  \\\n",
              "customer_id                                                                    \n",
              "1              Laraine  Medendorp              F               93 1953-10-12   \n",
              "2                  Eli    Bockman              M               81 1980-12-16   \n",
              "3                Arlin     Dearle              M               61 1954-01-20   \n",
              "9                 Mala       Lind              F               97 1973-03-10   \n",
              "10            Fiorenze    Birdall              F               49 1988-10-11   \n",
              "...                ...        ...            ...              ...        ...   \n",
              "3994           Stephie      Byars              F                5 1989-04-07   \n",
              "3995             Rusty     Iapico              M               93 1975-12-12   \n",
              "3996           Rosalia   Halgarth              F                8 1975-08-09   \n",
              "3997            Blanch     Nisuis              F               87 2001-07-13   \n",
              "3998            Sarene    Woolley  Not Specified               60 1978-01-01   \n",
              "\n",
              "                                        job_title        job_industry  \\\n",
              "customer_id                                                             \n",
              "1                             Executive Secretary              Health   \n",
              "2                          Administrative Officer  Financial Services   \n",
              "3                              Recruiting Manager            Property   \n",
              "9            Business Systems Development Analyst         Argiculture   \n",
              "10                        Senior Quality Engineer  Financial Services   \n",
              "...                                           ...                 ...   \n",
              "3994                 Structural Analysis Engineer       Manufacturing   \n",
              "3995                              Staff Scientist       Manufacturing   \n",
              "3996                        VP Product Management              Health   \n",
              "3997                              Statistician II       Manufacturing   \n",
              "3998                            Assistant Manager                  IT   \n",
              "\n",
              "                wealth_segment deceased_indicator owns_car  tenure  year  \n",
              "customer_id                                                               \n",
              "1                Mass Customer                  N      Yes      11  1953  \n",
              "2                Mass Customer                  N      Yes      16  1980  \n",
              "3                Mass Customer                  N      Yes      15  1954  \n",
              "9            Affluent Customer                  N      Yes       8  1973  \n",
              "10               Mass Customer                  N      Yes      20  1988  \n",
              "...                        ...                ...      ...     ...   ...  \n",
              "3994         Affluent Customer                  N       No      12  1989  \n",
              "3995             Mass Customer                  N      Yes      14  1975  \n",
              "3996             Mass Customer                  N       No      19  1975  \n",
              "3997            High Net Worth                  N      Yes       1  2001  \n",
              "3998            High Net Worth                  N       No      10  1978  \n",
              "\n",
              "[2942 rows x 12 columns]"
            ]
          },
          "metadata": {},
          "execution_count": 97
        }
      ]
    },
    {
      "cell_type": "code",
      "metadata": {
        "id": "35963557"
      },
      "source": [
        ""
      ],
      "id": "35963557",
      "execution_count": 97,
      "outputs": []
    }
  ]
}