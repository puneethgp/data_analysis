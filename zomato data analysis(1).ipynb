{
 "cells": [
  {
   "cell_type": "markdown",
   "id": "2477d5ea",
   "metadata": {},
   "source": [
    "#  Zomato Data Analysis"
   ]
  },
  {
   "cell_type": "markdown",
   "id": "654246ea",
   "metadata": {},
   "source": [
    "## To do\n",
    "Breakdown of this notebook:\n",
    "\n",
    "    Loading the dataset: Load the data and import the libraries.\n",
    "    Data Cleaning:\n",
    "        Deleting redundant columns.\n",
    "        Renaming the columns.\n",
    "        Dropping duplicates.\n",
    "        Cleaning individual columns.\n",
    "        Remove the NaN values from the dataset\n",
    "        Some Transformations\n",
    "    Regression Analysis(Not yet done coz i dont know what to predict or classify ) \n",
    "        Linear Regression\n",
    "        Decision Tree Regression\n",
    "        Random Forest Regression\n",
    "        \n",
    "    Data Visualization: Using plots to find relations between the features.\n",
    "        Restaurants delivering Online or not\n",
    "        Restaurants allowing table booking or not\n",
    "        Table booking Rate vs Rate\n",
    "        Best Location\n",
    "        Relation between Location and Rating\n",
    "        Restaurant Type\n",
    "        Gaussian Rest type and Rating (what's Gaussin Rest)\n",
    "        Types of Services\n",
    "        Relation between Type and Rating\n",
    "        Cost of Restuarant\n",
    "        No. of restaurants in a Location\n",
    "        Restaurant type\n",
    "        Most famous restaurant chains in Bengaluru (not yet done)"
   ]
  },
  {
   "cell_type": "code",
   "execution_count": 1,
   "id": "8b0b5180",
   "metadata": {},
   "outputs": [],
   "source": [
    "import pandas as pd\n",
    "import numpy as np\n",
    "import seaborn as sns\n",
    "import matplotlib.pyplot as plt\n",
    "\n",
    "%matplotlib inline\n"
   ]
  },
  {
   "cell_type": "markdown",
   "id": "f015c673",
   "metadata": {},
   "source": [
    "###  Loading Dataset"
   ]
  },
  {
   "cell_type": "code",
   "execution_count": 2,
   "id": "91d396e1",
   "metadata": {},
   "outputs": [],
   "source": [
    "df = pd.read_csv(\"../zomato.csv\")"
   ]
  },
  {
   "cell_type": "markdown",
   "id": "e07c3aa0",
   "metadata": {},
   "source": [
    "## Data Cleaning"
   ]
  },
  {
   "cell_type": "code",
   "execution_count": 3,
   "id": "1deb53e0",
   "metadata": {},
   "outputs": [
    {
     "data": {
      "text/html": [
       "<div>\n",
       "<style scoped>\n",
       "    .dataframe tbody tr th:only-of-type {\n",
       "        vertical-align: middle;\n",
       "    }\n",
       "\n",
       "    .dataframe tbody tr th {\n",
       "        vertical-align: top;\n",
       "    }\n",
       "\n",
       "    .dataframe thead th {\n",
       "        text-align: right;\n",
       "    }\n",
       "</style>\n",
       "<table border=\"1\" class=\"dataframe\">\n",
       "  <thead>\n",
       "    <tr style=\"text-align: right;\">\n",
       "      <th></th>\n",
       "      <th>url</th>\n",
       "      <th>address</th>\n",
       "      <th>name</th>\n",
       "      <th>online_order</th>\n",
       "      <th>book_table</th>\n",
       "      <th>rate</th>\n",
       "      <th>votes</th>\n",
       "      <th>phone</th>\n",
       "      <th>location</th>\n",
       "      <th>rest_type</th>\n",
       "      <th>dish_liked</th>\n",
       "      <th>cuisines</th>\n",
       "      <th>approx_cost(for two people)</th>\n",
       "      <th>reviews_list</th>\n",
       "      <th>menu_item</th>\n",
       "      <th>listed_in(type)</th>\n",
       "      <th>listed_in(city)</th>\n",
       "    </tr>\n",
       "  </thead>\n",
       "  <tbody>\n",
       "    <tr>\n",
       "      <th>0</th>\n",
       "      <td>https://www.zomato.com/bangalore/jalsa-banasha...</td>\n",
       "      <td>942, 21st Main Road, 2nd Stage, Banashankari, ...</td>\n",
       "      <td>Jalsa</td>\n",
       "      <td>Yes</td>\n",
       "      <td>Yes</td>\n",
       "      <td>4.1/5</td>\n",
       "      <td>775</td>\n",
       "      <td>080 42297555\\r\\n+91 9743772233</td>\n",
       "      <td>Banashankari</td>\n",
       "      <td>Casual Dining</td>\n",
       "      <td>Pasta, Lunch Buffet, Masala Papad, Paneer Laja...</td>\n",
       "      <td>North Indian, Mughlai, Chinese</td>\n",
       "      <td>800</td>\n",
       "      <td>[('Rated 4.0', 'RATED\\n  A beautiful place to ...</td>\n",
       "      <td>[]</td>\n",
       "      <td>Buffet</td>\n",
       "      <td>Banashankari</td>\n",
       "    </tr>\n",
       "    <tr>\n",
       "      <th>1</th>\n",
       "      <td>https://www.zomato.com/bangalore/spice-elephan...</td>\n",
       "      <td>2nd Floor, 80 Feet Road, Near Big Bazaar, 6th ...</td>\n",
       "      <td>Spice Elephant</td>\n",
       "      <td>Yes</td>\n",
       "      <td>No</td>\n",
       "      <td>4.1/5</td>\n",
       "      <td>787</td>\n",
       "      <td>080 41714161</td>\n",
       "      <td>Banashankari</td>\n",
       "      <td>Casual Dining</td>\n",
       "      <td>Momos, Lunch Buffet, Chocolate Nirvana, Thai G...</td>\n",
       "      <td>Chinese, North Indian, Thai</td>\n",
       "      <td>800</td>\n",
       "      <td>[('Rated 4.0', 'RATED\\n  Had been here for din...</td>\n",
       "      <td>[]</td>\n",
       "      <td>Buffet</td>\n",
       "      <td>Banashankari</td>\n",
       "    </tr>\n",
       "    <tr>\n",
       "      <th>2</th>\n",
       "      <td>https://www.zomato.com/SanchurroBangalore?cont...</td>\n",
       "      <td>1112, Next to KIMS Medical College, 17th Cross...</td>\n",
       "      <td>San Churro Cafe</td>\n",
       "      <td>Yes</td>\n",
       "      <td>No</td>\n",
       "      <td>3.8/5</td>\n",
       "      <td>918</td>\n",
       "      <td>+91 9663487993</td>\n",
       "      <td>Banashankari</td>\n",
       "      <td>Cafe, Casual Dining</td>\n",
       "      <td>Churros, Cannelloni, Minestrone Soup, Hot Choc...</td>\n",
       "      <td>Cafe, Mexican, Italian</td>\n",
       "      <td>800</td>\n",
       "      <td>[('Rated 3.0', \"RATED\\n  Ambience is not that ...</td>\n",
       "      <td>[]</td>\n",
       "      <td>Buffet</td>\n",
       "      <td>Banashankari</td>\n",
       "    </tr>\n",
       "    <tr>\n",
       "      <th>3</th>\n",
       "      <td>https://www.zomato.com/bangalore/addhuri-udupi...</td>\n",
       "      <td>1st Floor, Annakuteera, 3rd Stage, Banashankar...</td>\n",
       "      <td>Addhuri Udupi Bhojana</td>\n",
       "      <td>No</td>\n",
       "      <td>No</td>\n",
       "      <td>3.7/5</td>\n",
       "      <td>88</td>\n",
       "      <td>+91 9620009302</td>\n",
       "      <td>Banashankari</td>\n",
       "      <td>Quick Bites</td>\n",
       "      <td>Masala Dosa</td>\n",
       "      <td>South Indian, North Indian</td>\n",
       "      <td>300</td>\n",
       "      <td>[('Rated 4.0', \"RATED\\n  Great food and proper...</td>\n",
       "      <td>[]</td>\n",
       "      <td>Buffet</td>\n",
       "      <td>Banashankari</td>\n",
       "    </tr>\n",
       "    <tr>\n",
       "      <th>4</th>\n",
       "      <td>https://www.zomato.com/bangalore/grand-village...</td>\n",
       "      <td>10, 3rd Floor, Lakshmi Associates, Gandhi Baza...</td>\n",
       "      <td>Grand Village</td>\n",
       "      <td>No</td>\n",
       "      <td>No</td>\n",
       "      <td>3.8/5</td>\n",
       "      <td>166</td>\n",
       "      <td>+91 8026612447\\r\\n+91 9901210005</td>\n",
       "      <td>Basavanagudi</td>\n",
       "      <td>Casual Dining</td>\n",
       "      <td>Panipuri, Gol Gappe</td>\n",
       "      <td>North Indian, Rajasthani</td>\n",
       "      <td>600</td>\n",
       "      <td>[('Rated 4.0', 'RATED\\n  Very good restaurant ...</td>\n",
       "      <td>[]</td>\n",
       "      <td>Buffet</td>\n",
       "      <td>Banashankari</td>\n",
       "    </tr>\n",
       "  </tbody>\n",
       "</table>\n",
       "</div>"
      ],
      "text/plain": [
       "                                                 url  \\\n",
       "0  https://www.zomato.com/bangalore/jalsa-banasha...   \n",
       "1  https://www.zomato.com/bangalore/spice-elephan...   \n",
       "2  https://www.zomato.com/SanchurroBangalore?cont...   \n",
       "3  https://www.zomato.com/bangalore/addhuri-udupi...   \n",
       "4  https://www.zomato.com/bangalore/grand-village...   \n",
       "\n",
       "                                             address                   name  \\\n",
       "0  942, 21st Main Road, 2nd Stage, Banashankari, ...                  Jalsa   \n",
       "1  2nd Floor, 80 Feet Road, Near Big Bazaar, 6th ...         Spice Elephant   \n",
       "2  1112, Next to KIMS Medical College, 17th Cross...        San Churro Cafe   \n",
       "3  1st Floor, Annakuteera, 3rd Stage, Banashankar...  Addhuri Udupi Bhojana   \n",
       "4  10, 3rd Floor, Lakshmi Associates, Gandhi Baza...          Grand Village   \n",
       "\n",
       "  online_order book_table   rate  votes                             phone  \\\n",
       "0          Yes        Yes  4.1/5    775    080 42297555\\r\\n+91 9743772233   \n",
       "1          Yes         No  4.1/5    787                      080 41714161   \n",
       "2          Yes         No  3.8/5    918                    +91 9663487993   \n",
       "3           No         No  3.7/5     88                    +91 9620009302   \n",
       "4           No         No  3.8/5    166  +91 8026612447\\r\\n+91 9901210005   \n",
       "\n",
       "       location            rest_type  \\\n",
       "0  Banashankari        Casual Dining   \n",
       "1  Banashankari        Casual Dining   \n",
       "2  Banashankari  Cafe, Casual Dining   \n",
       "3  Banashankari          Quick Bites   \n",
       "4  Basavanagudi        Casual Dining   \n",
       "\n",
       "                                          dish_liked  \\\n",
       "0  Pasta, Lunch Buffet, Masala Papad, Paneer Laja...   \n",
       "1  Momos, Lunch Buffet, Chocolate Nirvana, Thai G...   \n",
       "2  Churros, Cannelloni, Minestrone Soup, Hot Choc...   \n",
       "3                                        Masala Dosa   \n",
       "4                                Panipuri, Gol Gappe   \n",
       "\n",
       "                         cuisines approx_cost(for two people)  \\\n",
       "0  North Indian, Mughlai, Chinese                         800   \n",
       "1     Chinese, North Indian, Thai                         800   \n",
       "2          Cafe, Mexican, Italian                         800   \n",
       "3      South Indian, North Indian                         300   \n",
       "4        North Indian, Rajasthani                         600   \n",
       "\n",
       "                                        reviews_list menu_item  \\\n",
       "0  [('Rated 4.0', 'RATED\\n  A beautiful place to ...        []   \n",
       "1  [('Rated 4.0', 'RATED\\n  Had been here for din...        []   \n",
       "2  [('Rated 3.0', \"RATED\\n  Ambience is not that ...        []   \n",
       "3  [('Rated 4.0', \"RATED\\n  Great food and proper...        []   \n",
       "4  [('Rated 4.0', 'RATED\\n  Very good restaurant ...        []   \n",
       "\n",
       "  listed_in(type) listed_in(city)  \n",
       "0          Buffet    Banashankari  \n",
       "1          Buffet    Banashankari  \n",
       "2          Buffet    Banashankari  \n",
       "3          Buffet    Banashankari  \n",
       "4          Buffet    Banashankari  "
      ]
     },
     "execution_count": 3,
     "metadata": {},
     "output_type": "execute_result"
    }
   ],
   "source": [
    "df.head()"
   ]
  },
  {
   "cell_type": "code",
   "execution_count": 4,
   "id": "5214275c",
   "metadata": {},
   "outputs": [
    {
     "name": "stdout",
     "output_type": "stream",
     "text": [
      "<class 'pandas.core.frame.DataFrame'>\n",
      "RangeIndex: 51717 entries, 0 to 51716\n",
      "Data columns (total 17 columns):\n",
      " #   Column                       Non-Null Count  Dtype \n",
      "---  ------                       --------------  ----- \n",
      " 0   url                          51717 non-null  object\n",
      " 1   address                      51717 non-null  object\n",
      " 2   name                         51717 non-null  object\n",
      " 3   online_order                 51717 non-null  object\n",
      " 4   book_table                   51717 non-null  object\n",
      " 5   rate                         43942 non-null  object\n",
      " 6   votes                        51717 non-null  int64 \n",
      " 7   phone                        50509 non-null  object\n",
      " 8   location                     51696 non-null  object\n",
      " 9   rest_type                    51490 non-null  object\n",
      " 10  dish_liked                   23639 non-null  object\n",
      " 11  cuisines                     51672 non-null  object\n",
      " 12  approx_cost(for two people)  51371 non-null  object\n",
      " 13  reviews_list                 51717 non-null  object\n",
      " 14  menu_item                    51717 non-null  object\n",
      " 15  listed_in(type)              51717 non-null  object\n",
      " 16  listed_in(city)              51717 non-null  object\n",
      "dtypes: int64(1), object(16)\n",
      "memory usage: 6.7+ MB\n"
     ]
    }
   ],
   "source": [
    "df.info()"
   ]
  },
  {
   "cell_type": "markdown",
   "id": "666618fc",
   "metadata": {},
   "source": [
    "### Deleting Redundant columns"
   ]
  },
  {
   "cell_type": "markdown",
   "id": "11ad3331",
   "metadata": {},
   "source": [
    "removing dish liked column as it contains more null values"
   ]
  },
  {
   "cell_type": "code",
   "execution_count": 5,
   "id": "f49a70ab",
   "metadata": {},
   "outputs": [],
   "source": [
    "df.drop(columns =['url','address','phone','dish_liked'],inplace = True )"
   ]
  },
  {
   "cell_type": "markdown",
   "id": "d4a7a8a9",
   "metadata": {},
   "source": [
    "### Renaming the columns"
   ]
  },
  {
   "cell_type": "code",
   "execution_count": 6,
   "id": "022124f7",
   "metadata": {},
   "outputs": [
    {
     "data": {
      "text/plain": [
       "Index(['name', 'online_order', 'book_table', 'rate', 'votes', 'location',\n",
       "       'rest_type', 'cuisines', 'approx_cost(for two people)', 'reviews_list',\n",
       "       'menu_item', 'listed_in(type)', 'listed_in(city)'],\n",
       "      dtype='object')"
      ]
     },
     "execution_count": 6,
     "metadata": {},
     "output_type": "execute_result"
    }
   ],
   "source": [
    "df.columns"
   ]
  },
  {
   "cell_type": "code",
   "execution_count": 7,
   "id": "c3ed6932",
   "metadata": {},
   "outputs": [],
   "source": [
    "df.rename({\"approx_cost(for two people)\":\"expenses\",\"listed_in(type)\":\"Type\",\"listed_in(city)\":\"City\"},axis=1,inplace = True)"
   ]
  },
  {
   "cell_type": "code",
   "execution_count": 8,
   "id": "658cea0c",
   "metadata": {},
   "outputs": [
    {
     "data": {
      "text/plain": [
       "Index(['name', 'online_order', 'book_table', 'rate', 'votes', 'location',\n",
       "       'rest_type', 'cuisines', 'expenses', 'reviews_list', 'menu_item',\n",
       "       'Type', 'City'],\n",
       "      dtype='object')"
      ]
     },
     "execution_count": 8,
     "metadata": {},
     "output_type": "execute_result"
    }
   ],
   "source": [
    "df.columns"
   ]
  },
  {
   "cell_type": "markdown",
   "id": "57a45b00",
   "metadata": {},
   "source": [
    "### Droping duplicates"
   ]
  },
  {
   "cell_type": "code",
   "execution_count": 9,
   "id": "fac6819e",
   "metadata": {},
   "outputs": [
    {
     "data": {
      "text/plain": [
       "63"
      ]
     },
     "execution_count": 9,
     "metadata": {},
     "output_type": "execute_result"
    }
   ],
   "source": [
    "df.duplicated().sum()"
   ]
  },
  {
   "cell_type": "code",
   "execution_count": 10,
   "id": "e18e00ea",
   "metadata": {},
   "outputs": [],
   "source": [
    "df.drop_duplicates(inplace = True)"
   ]
  },
  {
   "cell_type": "markdown",
   "id": "8ccf92a5",
   "metadata": {},
   "source": [
    "### Removing NAN Value"
   ]
  },
  {
   "cell_type": "code",
   "execution_count": 11,
   "id": "7bf70b3b",
   "metadata": {},
   "outputs": [
    {
     "data": {
      "text/plain": [
       "name               0\n",
       "online_order       0\n",
       "book_table         0\n",
       "rate            7760\n",
       "votes              0\n",
       "location          21\n",
       "rest_type        227\n",
       "cuisines          45\n",
       "expenses         345\n",
       "reviews_list       0\n",
       "menu_item          0\n",
       "Type               0\n",
       "City               0\n",
       "dtype: int64"
      ]
     },
     "execution_count": 11,
     "metadata": {},
     "output_type": "execute_result"
    }
   ],
   "source": [
    "df.isna().sum()"
   ]
  },
  {
   "cell_type": "code",
   "execution_count": 12,
   "id": "bdb29dcb",
   "metadata": {},
   "outputs": [],
   "source": [
    "df.dropna(how='any',inplace = True)"
   ]
  },
  {
   "cell_type": "markdown",
   "id": "733f8694",
   "metadata": {},
   "source": [
    "### Cleaning Individual Columns"
   ]
  },
  {
   "cell_type": "markdown",
   "id": "de7ac8be",
   "metadata": {},
   "source": [
    "### Applying Transformations"
   ]
  },
  {
   "cell_type": "code",
   "execution_count": 13,
   "id": "56ab4c46",
   "metadata": {},
   "outputs": [
    {
     "data": {
      "text/plain": [
       "name            object\n",
       "online_order    object\n",
       "book_table      object\n",
       "rate            object\n",
       "votes            int64\n",
       "location        object\n",
       "rest_type       object\n",
       "cuisines        object\n",
       "expenses        object\n",
       "reviews_list    object\n",
       "menu_item       object\n",
       "Type            object\n",
       "City            object\n",
       "dtype: object"
      ]
     },
     "execution_count": 13,
     "metadata": {},
     "output_type": "execute_result"
    }
   ],
   "source": [
    "df.dtypes"
   ]
  },
  {
   "cell_type": "code",
   "execution_count": 14,
   "id": "6e74224e",
   "metadata": {
    "scrolled": true
   },
   "outputs": [
    {
     "data": {
      "text/plain": [
       "array(['4.1/5', '3.8/5', '3.7/5', '3.6/5', '4.6/5', '4.0/5', '4.2/5',\n",
       "       '3.9/5', '3.1/5', '3.0/5', '3.2/5', '3.3/5', '2.8/5', '4.4/5',\n",
       "       '4.3/5', 'NEW', '2.9/5', '3.5/5', '2.6/5', '3.8 /5', '3.4/5',\n",
       "       '4.5/5', '2.5/5', '2.7/5', '4.7/5', '2.4/5', '2.2/5', '2.3/5',\n",
       "       '3.4 /5', '-', '3.6 /5', '4.8/5', '3.9 /5', '4.2 /5', '4.0 /5',\n",
       "       '4.1 /5', '3.7 /5', '3.1 /5', '2.9 /5', '3.3 /5', '2.8 /5',\n",
       "       '3.5 /5', '2.7 /5', '2.5 /5', '3.2 /5', '2.6 /5', '4.5 /5',\n",
       "       '4.3 /5', '4.4 /5', '4.9/5', '2.1/5', '2.0/5', '1.8/5', '4.6 /5',\n",
       "       '4.9 /5', '3.0 /5', '4.8 /5', '2.3 /5', '4.7 /5', '2.4 /5',\n",
       "       '2.1 /5', '2.2 /5', '2.0 /5', '1.8 /5'], dtype=object)"
      ]
     },
     "execution_count": 14,
     "metadata": {},
     "output_type": "execute_result"
    }
   ],
   "source": [
    "df.rate.unique()"
   ]
  },
  {
   "cell_type": "code",
   "execution_count": 15,
   "id": "ce32d313",
   "metadata": {},
   "outputs": [],
   "source": [
    "df = df[df.rate!=\"NEW\"]\n",
    "df = df[df.rate!=\"-\"].reset_index(drop=True)"
   ]
  },
  {
   "cell_type": "code",
   "execution_count": 16,
   "id": "fb8c276c",
   "metadata": {},
   "outputs": [],
   "source": [
    "df.rate = df.rate.str.split('/').str[0]\n",
    "df.rate = df.rate.astype('float64')"
   ]
  },
  {
   "cell_type": "code",
   "execution_count": 17,
   "id": "5a4f77f6",
   "metadata": {},
   "outputs": [
    {
     "data": {
      "text/plain": [
       "<bound method Series.unique of 0          800\n",
       "1          800\n",
       "2          800\n",
       "3          300\n",
       "4          600\n",
       "         ...  \n",
       "41221      800\n",
       "41222      800\n",
       "41223    1,500\n",
       "41224    2,500\n",
       "41225    1,500\n",
       "Name: expenses, Length: 41226, dtype: object>"
      ]
     },
     "execution_count": 17,
     "metadata": {},
     "output_type": "execute_result"
    }
   ],
   "source": [
    "df.expenses.unique"
   ]
  },
  {
   "cell_type": "code",
   "execution_count": 18,
   "id": "91720acc",
   "metadata": {},
   "outputs": [],
   "source": [
    "df.expenses = df.expenses.str.replace(\",\",\"\")\n",
    "df.expenses = df.expenses.astype('int')"
   ]
  },
  {
   "cell_type": "code",
   "execution_count": 19,
   "id": "3329d53d",
   "metadata": {},
   "outputs": [],
   "source": [
    "df.online_order.replace({'Yes':True,\"No\":False},inplace = True)\n",
    "df.book_table.replace({'Yes':True,\"No\":False},inplace = True)"
   ]
  },
  {
   "cell_type": "code",
   "execution_count": 20,
   "id": "5129e40f",
   "metadata": {},
   "outputs": [
    {
     "data": {
      "text/plain": [
       "name             object\n",
       "online_order       bool\n",
       "book_table         bool\n",
       "rate            float64\n",
       "votes             int64\n",
       "location         object\n",
       "rest_type        object\n",
       "cuisines         object\n",
       "expenses          int32\n",
       "reviews_list     object\n",
       "menu_item        object\n",
       "Type             object\n",
       "City             object\n",
       "dtype: object"
      ]
     },
     "execution_count": 20,
     "metadata": {},
     "output_type": "execute_result"
    }
   ],
   "source": [
    "df.dtypes"
   ]
  },
  {
   "cell_type": "markdown",
   "id": "656af8bc",
   "metadata": {},
   "source": [
    "# Data Visualization"
   ]
  },
  {
   "cell_type": "code",
   "execution_count": 21,
   "id": "b315f050",
   "metadata": {},
   "outputs": [
    {
     "data": {
      "text/html": [
       "<div>\n",
       "<style scoped>\n",
       "    .dataframe tbody tr th:only-of-type {\n",
       "        vertical-align: middle;\n",
       "    }\n",
       "\n",
       "    .dataframe tbody tr th {\n",
       "        vertical-align: top;\n",
       "    }\n",
       "\n",
       "    .dataframe thead th {\n",
       "        text-align: right;\n",
       "    }\n",
       "</style>\n",
       "<table border=\"1\" class=\"dataframe\">\n",
       "  <thead>\n",
       "    <tr style=\"text-align: right;\">\n",
       "      <th></th>\n",
       "      <th>name</th>\n",
       "      <th>online_order</th>\n",
       "      <th>book_table</th>\n",
       "      <th>rate</th>\n",
       "      <th>votes</th>\n",
       "      <th>location</th>\n",
       "      <th>rest_type</th>\n",
       "      <th>cuisines</th>\n",
       "      <th>expenses</th>\n",
       "      <th>reviews_list</th>\n",
       "      <th>menu_item</th>\n",
       "      <th>Type</th>\n",
       "      <th>City</th>\n",
       "    </tr>\n",
       "  </thead>\n",
       "  <tbody>\n",
       "    <tr>\n",
       "      <th>30659</th>\n",
       "      <td>Church Street Social</td>\n",
       "      <td>True</td>\n",
       "      <td>False</td>\n",
       "      <td>4.3</td>\n",
       "      <td>7568</td>\n",
       "      <td>Church Street</td>\n",
       "      <td>Lounge</td>\n",
       "      <td>American, North Indian, Chinese, Finger Food, ...</td>\n",
       "      <td>1500</td>\n",
       "      <td>[('Rated 5.0', 'RATED\\n  Excellent service. Go...</td>\n",
       "      <td>['Chilli Paneer Black Pepper China Box', 'Chil...</td>\n",
       "      <td>Dine-out</td>\n",
       "      <td>Lavelle Road</td>\n",
       "    </tr>\n",
       "    <tr>\n",
       "      <th>28032</th>\n",
       "      <td>Appana Restaurant</td>\n",
       "      <td>True</td>\n",
       "      <td>False</td>\n",
       "      <td>3.5</td>\n",
       "      <td>12</td>\n",
       "      <td>BTM</td>\n",
       "      <td>Quick Bites</td>\n",
       "      <td>North Indian</td>\n",
       "      <td>300</td>\n",
       "      <td>[('Rated 5.0', 'RATED\\n  Best place for commut...</td>\n",
       "      <td>[]</td>\n",
       "      <td>Delivery</td>\n",
       "      <td>Koramangala 7th Block</td>\n",
       "    </tr>\n",
       "    <tr>\n",
       "      <th>14532</th>\n",
       "      <td>Bhaiya Ji Food Court</td>\n",
       "      <td>False</td>\n",
       "      <td>False</td>\n",
       "      <td>3.0</td>\n",
       "      <td>16</td>\n",
       "      <td>Ulsoor</td>\n",
       "      <td>Quick Bites</td>\n",
       "      <td>North Indian, Street Food</td>\n",
       "      <td>150</td>\n",
       "      <td>[('Rated 5.0', \"RATED\\n  Nice good food and se...</td>\n",
       "      <td>[]</td>\n",
       "      <td>Delivery</td>\n",
       "      <td>Indiranagar</td>\n",
       "    </tr>\n",
       "    <tr>\n",
       "      <th>30802</th>\n",
       "      <td>Swathi Deluxe Restaurant</td>\n",
       "      <td>True</td>\n",
       "      <td>False</td>\n",
       "      <td>2.9</td>\n",
       "      <td>75</td>\n",
       "      <td>Shanti Nagar</td>\n",
       "      <td>Casual Dining</td>\n",
       "      <td>North Indian</td>\n",
       "      <td>500</td>\n",
       "      <td>[('Rated 5.0', 'RATED\\n  Quick delivery and th...</td>\n",
       "      <td>['Veg Biryani', 'Chicken Biryani', 'Veg Meals'...</td>\n",
       "      <td>Dine-out</td>\n",
       "      <td>Lavelle Road</td>\n",
       "    </tr>\n",
       "    <tr>\n",
       "      <th>19297</th>\n",
       "      <td>Alibaba Cafe and Restaurant</td>\n",
       "      <td>False</td>\n",
       "      <td>False</td>\n",
       "      <td>2.9</td>\n",
       "      <td>56</td>\n",
       "      <td>Kalyan Nagar</td>\n",
       "      <td>Casual Dining</td>\n",
       "      <td>Arabian, Middle Eastern</td>\n",
       "      <td>700</td>\n",
       "      <td>[('Rated 1.0', \"RATED\\n  I had a plastic cover...</td>\n",
       "      <td>[]</td>\n",
       "      <td>Delivery</td>\n",
       "      <td>Kalyan Nagar</td>\n",
       "    </tr>\n",
       "  </tbody>\n",
       "</table>\n",
       "</div>"
      ],
      "text/plain": [
       "                              name  online_order  book_table  rate  votes  \\\n",
       "30659         Church Street Social          True       False   4.3   7568   \n",
       "28032            Appana Restaurant          True       False   3.5     12   \n",
       "14532         Bhaiya Ji Food Court         False       False   3.0     16   \n",
       "30802     Swathi Deluxe Restaurant          True       False   2.9     75   \n",
       "19297  Alibaba Cafe and Restaurant         False       False   2.9     56   \n",
       "\n",
       "            location      rest_type  \\\n",
       "30659  Church Street         Lounge   \n",
       "28032            BTM    Quick Bites   \n",
       "14532         Ulsoor    Quick Bites   \n",
       "30802   Shanti Nagar  Casual Dining   \n",
       "19297   Kalyan Nagar  Casual Dining   \n",
       "\n",
       "                                                cuisines  expenses  \\\n",
       "30659  American, North Indian, Chinese, Finger Food, ...      1500   \n",
       "28032                                       North Indian       300   \n",
       "14532                          North Indian, Street Food       150   \n",
       "30802                                       North Indian       500   \n",
       "19297                            Arabian, Middle Eastern       700   \n",
       "\n",
       "                                            reviews_list  \\\n",
       "30659  [('Rated 5.0', 'RATED\\n  Excellent service. Go...   \n",
       "28032  [('Rated 5.0', 'RATED\\n  Best place for commut...   \n",
       "14532  [('Rated 5.0', \"RATED\\n  Nice good food and se...   \n",
       "30802  [('Rated 5.0', 'RATED\\n  Quick delivery and th...   \n",
       "19297  [('Rated 1.0', \"RATED\\n  I had a plastic cover...   \n",
       "\n",
       "                                               menu_item      Type  \\\n",
       "30659  ['Chilli Paneer Black Pepper China Box', 'Chil...  Dine-out   \n",
       "28032                                                 []  Delivery   \n",
       "14532                                                 []  Delivery   \n",
       "30802  ['Veg Biryani', 'Chicken Biryani', 'Veg Meals'...  Dine-out   \n",
       "19297                                                 []  Delivery   \n",
       "\n",
       "                        City  \n",
       "30659           Lavelle Road  \n",
       "28032  Koramangala 7th Block  \n",
       "14532            Indiranagar  \n",
       "30802           Lavelle Road  \n",
       "19297           Kalyan Nagar  "
      ]
     },
     "execution_count": 21,
     "metadata": {},
     "output_type": "execute_result"
    }
   ],
   "source": [
    "df.sample(5)"
   ]
  },
  {
   "cell_type": "markdown",
   "id": "a4778244",
   "metadata": {},
   "source": [
    "### Univariate Analysis"
   ]
  },
  {
   "cell_type": "markdown",
   "id": "958b847b",
   "metadata": {},
   "source": [
    "Univarite analysis of online order and online booking columns to better analyze the data"
   ]
  },
  {
   "cell_type": "code",
   "execution_count": 22,
   "id": "38e66597",
   "metadata": {},
   "outputs": [
    {
     "data": {
      "text/plain": [
       "<AxesSubplot:xlabel='book_table', ylabel='count'>"
      ]
     },
     "execution_count": 22,
     "metadata": {},
     "output_type": "execute_result"
    },
    {
     "data": {
      "image/png": "[encoded data removed]",
      "text/plain": [
       "<Figure size 1080x432 with 2 Axes>"
      ]
     },
     "metadata": {
      "needs_background": "light"
     },
     "output_type": "display_data"
    }
   ],
   "source": [
    "plt.figure(figsize=(15,6))\n",
    "plt.subplot(1,2,1)\n",
    "sns.countplot(x=df['online_order'])\n",
    "plt.subplot(1,2,2)\n",
    "sns.countplot(x=df['book_table'])"
   ]
  },
  {
   "cell_type": "code",
   "execution_count": 23,
   "id": "205c8932",
   "metadata": {},
   "outputs": [
    {
     "data": {
      "text/plain": [
       "<AxesSubplot:xlabel='rate'>"
      ]
     },
     "execution_count": 23,
     "metadata": {},
     "output_type": "execute_result"
    },
    {
     "data": {
      "image/png": "[encoded data removed]",
      "text/plain": [
       "<Figure size 432x288 with 1 Axes>"
      ]
     },
     "metadata": {
      "needs_background": "light"
     },
     "output_type": "display_data"
    }
   ],
   "source": [
    "sns.boxplot(x=df['rate'])"
   ]
  },
  {
   "cell_type": "code",
   "execution_count": 24,
   "id": "3b93d807",
   "metadata": {},
   "outputs": [
    {
     "data": {
      "text/plain": [
       "<AxesSubplot:xlabel='rate', ylabel='Count'>"
      ]
     },
     "execution_count": 24,
     "metadata": {},
     "output_type": "execute_result"
    },
    {
     "data": {
      "image/png": "[encoded data removed]",
      "text/plain": [
       "<Figure size 432x288 with 1 Axes>"
      ]
     },
     "metadata": {
      "needs_background": "light"
     },
     "output_type": "display_data"
    }
   ],
   "source": [
    "sns.histplot(x=df['rate'],binwidth=1,binrange=(0,5))"
   ]
  },
  {
   "cell_type": "markdown",
   "id": "405a8909",
   "metadata": {},
   "source": [
    "Most of the restau come under 3-4 ratings range"
   ]
  },
  {
   "cell_type": "markdown",
   "id": "6b5455a4",
   "metadata": {},
   "source": [
    "#### Good Location"
   ]
  },
  {
   "cell_type": "markdown",
   "id": "057a8010",
   "metadata": {},
   "source": [
    "Selecting the location as good location if it has more thn 500 restaurants "
   ]
  },
  {
   "cell_type": "code",
   "execution_count": 25,
   "id": "45559884",
   "metadata": {},
   "outputs": [
    {
     "data": {
      "text/plain": [
       "['BTM',\n",
       " 'Koramangala 5th Block',\n",
       " 'HSR',\n",
       " 'Indiranagar',\n",
       " 'JP Nagar',\n",
       " 'Jayanagar',\n",
       " 'Whitefield',\n",
       " 'Marathahalli',\n",
       " 'Bannerghatta Road',\n",
       " 'Koramangala 7th Block',\n",
       " 'Koramangala 6th Block',\n",
       " 'Brigade Road',\n",
       " 'Bellandur',\n",
       " 'Sarjapur Road',\n",
       " 'Koramangala 1st Block',\n",
       " 'Ulsoor',\n",
       " 'Koramangala 4th Block',\n",
       " 'Electronic City',\n",
       " 'MG Road',\n",
       " 'Banashankari',\n",
       " 'Kalyan Nagar',\n",
       " 'Malleshwaram',\n",
       " 'Richmond Road',\n",
       " 'Residency Road',\n",
       " 'Basavanagudi',\n",
       " 'Frazer Town',\n",
       " 'Church Street',\n",
       " 'Brookefield',\n",
       " 'New BEL Road']"
      ]
     },
     "execution_count": 25,
     "metadata": {},
     "output_type": "execute_result"
    }
   ],
   "source": [
    "a=pd.Series(df.location.value_counts())\n",
    "ans = [i for i,j in zip(a.index,a.values) if j>500]\n",
    "ans"
   ]
  },
  {
   "cell_type": "markdown",
   "id": "cf39f4c5",
   "metadata": {},
   "source": [
    "####  Types "
   ]
  },
  {
   "cell_type": "code",
   "execution_count": 26,
   "id": "a2b1ce93",
   "metadata": {},
   "outputs": [
    {
     "data": {
      "image/png": "[encoded data removed]",
      "text/plain": [
       "<Figure size 576x576 with 1 Axes>"
      ]
     },
     "metadata": {},
     "output_type": "display_data"
    }
   ],
   "source": [
    "plt.figure(figsize=(8,8))\n",
    "labels = df.Type.value_counts().index\n",
    "plt.pie(df.Type.value_counts(),labels =labels,autopct='%.0f%%',)\n",
    "plt.show()"
   ]
  },
  {
   "cell_type": "markdown",
   "id": "169897d5",
   "metadata": {},
   "source": [
    "Most of the restaurants are of Delivery and Dine Out type "
   ]
  },
  {
   "cell_type": "markdown",
   "id": "5aec22d2",
   "metadata": {},
   "source": [
    "####  Restaurant types"
   ]
  },
  {
   "cell_type": "code",
   "execution_count": 27,
   "id": "bb089bf5",
   "metadata": {},
   "outputs": [
    {
     "data": {
      "text/plain": [
       "87"
      ]
     },
     "execution_count": 27,
     "metadata": {},
     "output_type": "execute_result"
    }
   ],
   "source": [
    "df.rest_type.nunique()"
   ]
  },
  {
   "cell_type": "code",
   "execution_count": 28,
   "id": "7a7362a5",
   "metadata": {},
   "outputs": [
    {
     "data": {
      "text/plain": [
       "Quick Bites                   True\n",
       "Casual Dining                 True\n",
       "Cafe                          True\n",
       "Dessert Parlor                True\n",
       "Delivery                      True\n",
       "                             ...  \n",
       "Food Court, Beverage Shop    False\n",
       "Cafe, Food Court             False\n",
       "Dessert Parlor, Kiosk        False\n",
       "Bakery, Beverage Shop        False\n",
       "Quick Bites, Kiosk           False\n",
       "Name: rest_type, Length: 87, dtype: bool"
      ]
     },
     "execution_count": 28,
     "metadata": {},
     "output_type": "execute_result"
    }
   ],
   "source": [
    "df.rest_type.value_counts()>500"
   ]
  },
  {
   "cell_type": "markdown",
   "id": "7ea847ce",
   "metadata": {},
   "source": [
    "####  Dealing with the expenses "
   ]
  },
  {
   "cell_type": "code",
   "execution_count": 29,
   "id": "e0c04ecb",
   "metadata": {},
   "outputs": [
    {
     "data": {
      "text/plain": [
       "<AxesSubplot:xlabel='expenses', ylabel='Count'>"
      ]
     },
     "execution_count": 29,
     "metadata": {},
     "output_type": "execute_result"
    },
    {
     "data": {
      "image/png": "[encoded data removed]",
      "text/plain": [
       "<Figure size 864x432 with 1 Axes>"
      ]
     },
     "metadata": {
      "needs_background": "light"
     },
     "output_type": "display_data"
    }
   ],
   "source": [
    "plt.figure(figsize=(12,6))\n",
    "sns.histplot(df.expenses,bins=12)"
   ]
  },
  {
   "cell_type": "markdown",
   "id": "b14d913e",
   "metadata": {},
   "source": [
    "Most of the Restaurant are for middle class families according to dataset ,not by my analysis"
   ]
  },
  {
   "cell_type": "code",
   "execution_count": 30,
   "id": "27aca9f4",
   "metadata": {},
   "outputs": [
    {
     "data": {
      "text/plain": [
       "0.8388395672633775"
      ]
     },
     "execution_count": 30,
     "metadata": {},
     "output_type": "execute_result"
    }
   ],
   "source": [
    "len(df[df.expenses<1000])/len(df)"
   ]
  },
  {
   "cell_type": "markdown",
   "id": "1bf74387",
   "metadata": {},
   "source": [
    "Again not me , the data is saying 83 percent people or 83 percent of Restaurant are for people who want to have a food for 2 people under 1000 Rs"
   ]
  },
  {
   "cell_type": "code",
   "execution_count": 31,
   "id": "0909abf5",
   "metadata": {},
   "outputs": [
    {
     "data": {
      "text/html": [
       "<div>\n",
       "<style scoped>\n",
       "    .dataframe tbody tr th:only-of-type {\n",
       "        vertical-align: middle;\n",
       "    }\n",
       "\n",
       "    .dataframe tbody tr th {\n",
       "        vertical-align: top;\n",
       "    }\n",
       "\n",
       "    .dataframe thead th {\n",
       "        text-align: right;\n",
       "    }\n",
       "</style>\n",
       "<table border=\"1\" class=\"dataframe\">\n",
       "  <thead>\n",
       "    <tr style=\"text-align: right;\">\n",
       "      <th></th>\n",
       "      <th>expenses</th>\n",
       "      <th>location</th>\n",
       "    </tr>\n",
       "  </thead>\n",
       "  <tbody>\n",
       "    <tr>\n",
       "      <th>15114</th>\n",
       "      <td>6000</td>\n",
       "      <td>Old Airport Road</td>\n",
       "    </tr>\n",
       "    <tr>\n",
       "      <th>36363</th>\n",
       "      <td>6000</td>\n",
       "      <td>Old Airport Road</td>\n",
       "    </tr>\n",
       "    <tr>\n",
       "      <th>32048</th>\n",
       "      <td>5000</td>\n",
       "      <td>Sankey Road</td>\n",
       "    </tr>\n",
       "    <tr>\n",
       "      <th>33520</th>\n",
       "      <td>4500</td>\n",
       "      <td>Marathahalli</td>\n",
       "    </tr>\n",
       "    <tr>\n",
       "      <th>33105</th>\n",
       "      <td>4500</td>\n",
       "      <td>Marathahalli</td>\n",
       "    </tr>\n",
       "    <tr>\n",
       "      <th>32044</th>\n",
       "      <td>4100</td>\n",
       "      <td>Sankey Road</td>\n",
       "    </tr>\n",
       "    <tr>\n",
       "      <th>31310</th>\n",
       "      <td>4100</td>\n",
       "      <td>Sankey Road</td>\n",
       "    </tr>\n",
       "    <tr>\n",
       "      <th>29903</th>\n",
       "      <td>4100</td>\n",
       "      <td>Sankey Road</td>\n",
       "    </tr>\n",
       "    <tr>\n",
       "      <th>31069</th>\n",
       "      <td>4100</td>\n",
       "      <td>Sankey Road</td>\n",
       "    </tr>\n",
       "    <tr>\n",
       "      <th>34533</th>\n",
       "      <td>4000</td>\n",
       "      <td>Residency Road</td>\n",
       "    </tr>\n",
       "    <tr>\n",
       "      <th>4952</th>\n",
       "      <td>4000</td>\n",
       "      <td>Richmond Road</td>\n",
       "    </tr>\n",
       "    <tr>\n",
       "      <th>38537</th>\n",
       "      <td>4000</td>\n",
       "      <td>Richmond Road</td>\n",
       "    </tr>\n",
       "    <tr>\n",
       "      <th>4956</th>\n",
       "      <td>4000</td>\n",
       "      <td>Residency Road</td>\n",
       "    </tr>\n",
       "    <tr>\n",
       "      <th>34683</th>\n",
       "      <td>4000</td>\n",
       "      <td>Residency Road</td>\n",
       "    </tr>\n",
       "  </tbody>\n",
       "</table>\n",
       "</div>"
      ],
      "text/plain": [
       "       expenses          location\n",
       "15114      6000  Old Airport Road\n",
       "36363      6000  Old Airport Road\n",
       "32048      5000       Sankey Road\n",
       "33520      4500      Marathahalli\n",
       "33105      4500      Marathahalli\n",
       "32044      4100       Sankey Road\n",
       "31310      4100       Sankey Road\n",
       "29903      4100       Sankey Road\n",
       "31069      4100       Sankey Road\n",
       "34533      4000    Residency Road\n",
       "4952       4000     Richmond Road\n",
       "38537      4000     Richmond Road\n",
       "4956       4000    Residency Road\n",
       "34683      4000    Residency Road"
      ]
     },
     "execution_count": 31,
     "metadata": {},
     "output_type": "execute_result"
    }
   ],
   "source": [
    "df.sort_values('expenses',ascending=False)[['expenses','location']].head(14)"
   ]
  },
  {
   "cell_type": "markdown",
   "id": "b7ffa85d",
   "metadata": {},
   "source": [
    "If you think you are super rich to afford take orders in these place or just take orders in any normal restraunt and donate the rest to me or someone else"
   ]
  },
  {
   "cell_type": "code",
   "execution_count": 32,
   "id": "998345c5",
   "metadata": {},
   "outputs": [
    {
     "data": {
      "text/plain": [
       "MG Road                       147\n",
       "Lavelle Road                   79\n",
       "Ulsoor                         75\n",
       "Richmond Road                  47\n",
       "Residency Road                 47\n",
       "Race Course Road               25\n",
       "Whitefield                     25\n",
       "Old Airport Road               22\n",
       "Koramangala 6th Block          19\n",
       "Marathahalli                   16\n",
       "Infantry Road                  16\n",
       "Sankey Road                    14\n",
       "St. Marks Road                 12\n",
       "Koramangala 5th Block          10\n",
       "Vasanth Nagar                   9\n",
       "Seshadripuram                   9\n",
       "Malleshwaram                    8\n",
       "Electronic City                 8\n",
       "Indiranagar                     8\n",
       "Domlur                          6\n",
       "Cunningham Road                 6\n",
       "Basavanagudi                    6\n",
       "ITPL Main Road, Whitefield      3\n",
       "Name: location, dtype: int64"
      ]
     },
     "execution_count": 32,
     "metadata": {},
     "output_type": "execute_result"
    }
   ],
   "source": [
    "df.loc[df.expenses>2000]['location'].value_counts()"
   ]
  },
  {
   "cell_type": "code",
   "execution_count": 33,
   "id": "c326c79a",
   "metadata": {},
   "outputs": [
    {
     "data": {
      "text/plain": [
       "Church Street            90\n",
       "Lavelle Road             87\n",
       "Brigade Road             83\n",
       "MG Road                  82\n",
       "Residency Road           77\n",
       "Indiranagar              51\n",
       "Malleshwaram             24\n",
       "Whitefield               20\n",
       "Frazer Town              17\n",
       "Old Airport Road         16\n",
       "Koramangala 4th Block     9\n",
       "Marathahalli              9\n",
       "Koramangala 5th Block     8\n",
       "Electronic City           8\n",
       "Koramangala 7th Block     8\n",
       "Brookefield               8\n",
       "Koramangala 6th Block     6\n",
       "Sarjapur Road             4\n",
       "Rajajinagar               4\n",
       "Bellandur                 3\n",
       "Basavanagudi              2\n",
       "BTM                       1\n",
       "Name: City, dtype: int64"
      ]
     },
     "execution_count": 33,
     "metadata": {},
     "output_type": "execute_result"
    }
   ],
   "source": [
    "df.loc[df.expenses>2000]['City'].value_counts()"
   ]
  },
  {
   "cell_type": "markdown",
   "id": "ca712a3a",
   "metadata": {},
   "source": [
    "Place you should visit if you are broke and also have a partner because its is for cost for 2 people , if you are alone aka single visit every place coz \"you only live once\" (YOLO)"
   ]
  },
  {
   "cell_type": "code",
   "execution_count": 34,
   "id": "ab474cfb",
   "metadata": {},
   "outputs": [
    {
     "data": {
      "text/plain": [
       "Koramangala 7th Block    934\n",
       "BTM                      929\n",
       "Koramangala 4th Block    920\n",
       "Koramangala 5th Block    887\n",
       "Church Street            853\n",
       "Koramangala 6th Block    833\n",
       "Brigade Road             828\n",
       "MG Road                  823\n",
       "Lavelle Road             788\n",
       "Indiranagar              726\n",
       "Residency Road           721\n",
       "Jayanagar                657\n",
       "JP Nagar                 522\n",
       "Whitefield               498\n",
       "Old Airport Road         493\n",
       "HSR                      472\n",
       "Marathahalli             446\n",
       "Brookefield              435\n",
       "Frazer Town              406\n",
       "Kalyan Nagar             391\n",
       "Sarjapur Road            383\n",
       "Kammanahalli             380\n",
       "Bellandur                379\n",
       "Bannerghatta Road        378\n",
       "Malleshwaram             372\n",
       "Basavanagudi             357\n",
       "Electronic City          295\n",
       "Rajajinagar              283\n",
       "Banashankari             206\n",
       "New BEL Road             194\n",
       "Name: City, dtype: int64"
      ]
     },
     "execution_count": 34,
     "metadata": {},
     "output_type": "execute_result"
    }
   ],
   "source": [
    "df.loc[df.expenses>500]['City'].value_counts()"
   ]
  },
  {
   "cell_type": "markdown",
   "id": "f8f3765b",
   "metadata": {},
   "source": [
    "### Bivariate Analysis"
   ]
  },
  {
   "cell_type": "markdown",
   "id": "612ab0b7",
   "metadata": {},
   "source": [
    "#### Relation between Location and Rating"
   ]
  },
  {
   "cell_type": "code",
   "execution_count": 35,
   "id": "79a36530",
   "metadata": {},
   "outputs": [
    {
     "data": {
      "text/plain": [
       "location\n",
       "Lavelle Road             4.141545\n",
       "Koramangala 3rd Block    4.020419\n",
       "St. Marks Road           4.017201\n",
       "Koramangala 5th Block    4.006925\n",
       "Church Street            3.992125\n",
       "                           ...   \n",
       "Rammurthy Nagar          3.346154\n",
       "North Bangalore          3.340000\n",
       "Peenya                   3.200000\n",
       "Bommanahalli             3.190972\n",
       "Old Madras Road          3.181818\n",
       "Name: rate, Length: 92, dtype: float64"
      ]
     },
     "execution_count": 35,
     "metadata": {},
     "output_type": "execute_result"
    }
   ],
   "source": [
    "df1 =  pd.Series(df.groupby(\"location\")['rate'].mean())\n",
    "df1.sort_values(ascending=False)"
   ]
  },
  {
   "cell_type": "markdown",
   "id": "bc65f71a",
   "metadata": {},
   "source": [
    "#### online order and book table vs rating"
   ]
  },
  {
   "cell_type": "code",
   "execution_count": 36,
   "id": "a0fa4634",
   "metadata": {},
   "outputs": [
    {
     "name": "stdout",
     "output_type": "stream",
     "text": [
      "online_order\n",
      "False    3.660023\n",
      "True     3.724083\n",
      "Name: rate, dtype: float64\n",
      "book_table\n",
      "False    3.622485\n",
      "True     4.143742\n",
      "Name: rate, dtype: float64\n"
     ]
    }
   ],
   "source": [
    "print(df.groupby(df['online_order'])['rate'].mean())\n",
    "print(df.groupby(df['book_table'])['rate'].mean())"
   ]
  },
  {
   "cell_type": "code",
   "execution_count": 37,
   "id": "8a7b6740",
   "metadata": {},
   "outputs": [
    {
     "data": {
      "text/plain": [
       "Text(0.5, 1.0, 'book table vs rating')"
      ]
     },
     "execution_count": 37,
     "metadata": {},
     "output_type": "execute_result"
    },
    {
     "data": {
      "image/png": "[encoded data removed]",
      "text/plain": [
       "<Figure size 1080x360 with 2 Axes>"
      ]
     },
     "metadata": {
      "needs_background": "light"
     },
     "output_type": "display_data"
    }
   ],
   "source": [
    "plt.figure(figsize=(15,5))\n",
    "plt.subplot(1,2,1)\n",
    "sns.barplot(y=df['rate'],x=df['online_order'])\n",
    "plt.title(\"online_order vs rating\")\n",
    "\n",
    "plt.subplot(1,2,2)\n",
    "sns.barplot(x=df['book_table'],y=df['rate'])\n",
    "plt.title(\"book table vs rating\")\n"
   ]
  },
  {
   "cell_type": "markdown",
   "id": "24897d8f",
   "metadata": {},
   "source": [
    "Restaurants with book table has higher rating over the other "
   ]
  },
  {
   "cell_type": "markdown",
   "id": "0320b5e2",
   "metadata": {},
   "source": [
    "### Multivariate Analysis"
   ]
  },
  {
   "cell_type": "code",
   "execution_count": 38,
   "id": "b267df9c",
   "metadata": {},
   "outputs": [
    {
     "data": {
      "text/plain": [
       "<AxesSubplot:xlabel='online_order', ylabel='rate'>"
      ]
     },
     "execution_count": 38,
     "metadata": {},
     "output_type": "execute_result"
    },
    {
     "data": {
      "image/png": "[encoded data removed]",
      "text/plain": [
       "<Figure size 432x288 with 1 Axes>"
      ]
     },
     "metadata": {
      "needs_background": "light"
     },
     "output_type": "display_data"
    }
   ],
   "source": [
    "sns.barplot(x=df['online_order'],y=df['rate'],hue=df['book_table'])"
   ]
  },
  {
   "cell_type": "code",
   "execution_count": 39,
   "id": "ff3eb8b5",
   "metadata": {},
   "outputs": [
    {
     "data": {
      "text/plain": [
       "<AxesSubplot:xlabel='book_table', ylabel='rate'>"
      ]
     },
     "execution_count": 39,
     "metadata": {},
     "output_type": "execute_result"
    },
    {
     "data": {
      "image/png": "[encoded data removed]",
      "text/plain": [
       "<Figure size 432x288 with 1 Axes>"
      ]
     },
     "metadata": {
      "needs_background": "light"
     },
     "output_type": "display_data"
    }
   ],
   "source": [
    "sns.barplot(x=df['book_table'],y=df['rate'],hue=df['online_order'])"
   ]
  },
  {
   "cell_type": "markdown",
   "id": "87af48b5",
   "metadata": {},
   "source": [
    "Restaurants with table booking option has higher rating than restaurants without irrespective online order"
   ]
  }
 ],
 "metadata": {
  "kernelspec": {
   "display_name": "Python 3",
   "language": "python",
   "name": "python3"
  },
  "language_info": {
   "codemirror_mode": {
    "name": "ipython",
    "version": 3
   },
   "file_extension": ".py",
   "mimetype": "text/x-python",
   "name": "python",
   "nbconvert_exporter": "python",
   "pygments_lexer": "ipython3",
   "version": "3.9.1"
  }
 },
 "nbformat": 4,
 "nbformat_minor": 5
}
